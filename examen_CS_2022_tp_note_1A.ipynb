{
 "cells": [
  {
   "cell_type": "markdown",
   "metadata": {},
   "source": [
    "\n",
    "TP noté de Calcul scientifique\n",
    " =====\n",
    " \n",
    "1 - Consignes \n",
    "-----\n",
    "\n",
    "L'examen sera à réaliser en python 3. Les questions du sujet doivent être résolues uniquement avec des fonctions des librairies `numpy`, `scipy` et `matplotlib` vu durant l'année.\n",
    "\t\n",
    "**<span style=\"color:red\"> À part si cela est précisé, vous ne devez pas utiliser directement de boucle (`for`,`while`) ou de branchement conditionnel (`if`).</span>.**\n",
    "\n",
    "**<span style=\"color:red\"> \n",
    "Vous rendrez ce notebook en fin d'examen sur la plateforme ecampus sans en changer le nom. Les réponses sont à mettre dans le présent notebook et non dans un autre fichier.</span>**\n",
    "\n",
    "**<span style=\"color:red\"> \n",
    "Aucun envoi par mail ou soumission en retard ne sera accepté.</span>**\n",
    "\n",
    "**<span style=\"color:red\"> \n",
    "Vous devez avant tous avoir un code fonctionnel, ne perdez pas de temps sur des considérations esthétiques et supprimez les codes non fonctionnels.</span>**\n",
    "\n",
    "**<span style=\"color:red\"> \n",
    "Vous ne devez pas créer de nouveau bloque et vous répondrez aux questions uniquement dans les zones prévues.</span>**\n",
    "\n",
    "Gestion du temps:\n",
    "* Vous avez 2h30 pour traiter 25 questions, soit une moyenne de 6mn par question.\n",
    "* Il y a des questions faciles auquelles vous repondrez en moins de 5mn.\n",
    "* Vous pouvez toujours laisser une question en suspens pour y revenir après.\n",
    "* Ne restez jamais bloquez plus de 10 mn sur une même question, allez à la question suivante.\n",
    "* Le sujet n'est pas ordonné par difficulté. Des questions plus difficiles peuvent se trouver en début de sujet et des questions plus simple après.\n",
    "    \n",
    "\n",
    "2 - Sujet\n",
    "-----    \n",
    "    \n"
   ]
  },
  {
   "cell_type": "code",
   "execution_count": 2,
   "metadata": {},
   "outputs": [],
   "source": [
    "import numpy as np\n",
    "\n",
    "import scipy as sc\n",
    "import scipy.optimize\n",
    "import scipy.spatial\n",
    "import scipy.signal\n",
    "\n",
    "import matplotlib.pyplot as plt"
   ]
  },
  {
   "cell_type": "code",
   "execution_count": 3,
   "metadata": {
    "deletable": false
   },
   "outputs": [],
   "source": [
    "# À compléter\n",
    "id_etu = {\n",
    "    \"Nom\": \"Adouma\",\n",
    "    \"Prénom\": \"hassan brahim\",\n",
    "    \"Numéro d'étudiant\": \"21901741\",\n",
    "    \"Groupe\": \"1A\"\n",
    "}    \n"
   ]
  },
  {
   "cell_type": "code",
   "execution_count": 4,
   "metadata": {
    "deletable": false,
    "editable": false
   },
   "outputs": [
    {
     "name": "stdout",
     "output_type": "stream",
     "text": [
      "\u001b[92m Ok - Tous les tests sont validés.\u001b[00m\n"
     ]
    }
   ],
   "source": [
    "\n",
    "# Ce bloc permet de valider votre code. Vous ne devez pas le modifier.  \n",
    "try:\n",
    "    assert len(id_etu['Nom'])>1,'Nom invalide'\n",
    "    assert len(id_etu['Prénom'])>1,'Prénom invalide'\n",
    "    assert any(chr.isdigit() for chr in id_etu[\"Numéro d'étudiant\"]),\"Numéro d'étudiant invalide\"\n",
    "    assert id_etu['Groupe'] in [str(i)+g for i in range(1,5) for g in 'AB' ],'Groupe invalide'\n",
    "    \n",
    "except Exception as e: \n",
    "    print(\"\\033[91m {}\\033[00m\" .format('KO - Au moins un test n\\'est pas validé')) \n",
    "    print('Information sur le test non valide:')\n",
    "    print(e)\n",
    "    #raise e\n",
    "else:\n",
    "    print(\"\\033[92m {}\\033[00m\" .format('Ok - Tous les tests sont validés.'))     \n",
    "    "
   ]
  },
  {
   "cell_type": "markdown",
   "metadata": {
    "deletable": false
   },
   "source": [
    "Zone de commentaires:"
   ]
  },
  {
   "cell_type": "raw",
   "metadata": {
    "deletable": false
   },
   "source": [
    "Vous pouvez écrire dans ce bloc des commentaires ou des remarques que vous pourriez avoir sur le sujet."
   ]
  },
  {
   "cell_type": "markdown",
   "metadata": {},
   "source": [
    "---"
   ]
  },
  {
   "cell_type": "markdown",
   "metadata": {
    "deletable": false,
    "editable": false,
    "nbgrader": {
     "cell_type": "markdown",
     "checksum": "9195ab0162251d39414d50b66bd11cc2",
     "grade": false,
     "grade_id": "question23-q14-_cell-9a2899b85bc78383",
     "locked": true,
     "schema_version": 3,
     "solution": false,
     "task": false
    }
   },
   "source": [
    "Question 1: \n",
    "Définir une fonction retournant un tableau `Y` contenant les 39 plus grandes valeurs du tableau x passé en argument triées par ordre décroissant.\n"
   ]
  },
  {
   "cell_type": "code",
   "execution_count": 5,
   "metadata": {
    "deletable": false,
    "nbgrader": {
     "cell_type": "code",
     "checksum": "79e840f47b1efd1893847af7ea427a05",
     "grade": false,
     "grade_id": "question23-q14-_cell-f4dfd17cc50f8432",
     "locked": false,
     "schema_version": 3,
     "solution": true,
     "task": false
    }
   },
   "outputs": [],
   "source": [
    "\n",
    "def f(x):\n",
    "    Y=x[-39::]\n",
    "    return Y\n"
   ]
  },
  {
   "cell_type": "code",
   "execution_count": 6,
   "metadata": {
    "deletable": false,
    "editable": false,
    "nbgrader": {
     "cell_type": "code",
     "checksum": "7bd00083198e53f6aadd98f3a03945f9",
     "grade": true,
     "grade_id": "question23-q14-_cell-494e4a77ab34224d",
     "locked": true,
     "points": 1,
     "schema_version": 3,
     "solution": false,
     "task": false
    }
   },
   "outputs": [
    {
     "name": "stdout",
     "output_type": "stream",
     "text": [
      "\u001b[92m Ok - Tous les tests sont validés.\u001b[00m\n"
     ]
    }
   ],
   "source": [
    "\n",
    "# Ce bloc permet de valider votre code. Vous devez l'exécuter mais ne pas le modifier.  \n",
    "try:\n",
    "\n",
    "    x = np.cos(np.arange(500)/13) * np.sin(np.arange(500)/54)\n",
    "    Y = f(x)\n",
    "    \n",
    "    np.testing.assert_equal(Y.shape,(39,))\n",
    "    np.testing.assert_equal(Y.max() < 1, True)\n",
    "    np.testing.assert_equal(Y.min() > -1, True)\n",
    "    \n",
    "except Exception as e: \n",
    "    print(\"\\033[91m {}\\033[00m\" .format('KO - Au moins un test n\\'est pas validé')) \n",
    "    print('Information sur le test non valide:')\n",
    "    print(e)\n",
    "    raise e\n",
    "else:\n",
    "    print(\"\\033[92m {}\\033[00m\" .format('Ok - Tous les tests sont validés.')) \n"
   ]
  },
  {
   "cell_type": "markdown",
   "metadata": {
    "deletable": false,
    "editable": false,
    "nbgrader": {
     "cell_type": "markdown",
     "checksum": "6e30e91e1f4b895c231677525324fa59",
     "grade": false,
     "grade_id": "question5-qy6-_cell-24ca54ea77478b0a",
     "locked": true,
     "schema_version": 3,
     "solution": false,
     "task": false
    }
   },
   "source": [
    "Question 2: \n",
    "Écrivez une fonction prenant une matrice `M` et déterminant dans quelles lignes de `M` se trouve la valeur `13`.\n",
    "    \n",
    "<span style=\"color:teal\">Exemple :</span> <br>\n",
    "Pour la matrice:\n",
    "\n",
    "```\n",
    "[[23 17 10 16  9 13]\n",
    " [13  7 22 21 10 23]\n",
    " [23 23 17 22 13 16]\n",
    " [13  8 13  6  7 22]\n",
    " [21 16 10 18 18 10]\n",
    " [10 11 21 22 11 14]]\n",
    "```\n",
    "\n",
    "\n",
    "\n",
    "la valeur `13` se trouve dans les lignes suivantes:\n",
    "\n",
    "`[0 1 2 3]`\n",
    "    "
   ]
  },
  {
   "cell_type": "code",
   "execution_count": 7,
   "metadata": {
    "deletable": false,
    "nbgrader": {
     "cell_type": "code",
     "checksum": "7d1da6c391ffd4d5d05fdde2d6cd877d",
     "grade": false,
     "grade_id": "question5-qy6-_cell-98e7f84b23b6b5d3",
     "locked": false,
     "schema_version": 3,
     "solution": true,
     "task": false
    }
   },
   "outputs": [],
   "source": [
    "\n",
    "def fct(M):\n",
    "    m=np.argwhere(M==13)\n",
    "    return np.unique(m[:,0])\n",
    "    "
   ]
  },
  {
   "cell_type": "code",
   "execution_count": 8,
   "metadata": {
    "deletable": false,
    "editable": false,
    "nbgrader": {
     "cell_type": "code",
     "checksum": "cc5faabba56882d43b696dceaef61e9d",
     "grade": true,
     "grade_id": "question5-qy6-_cell-8cae4dfcecd1d5a3",
     "locked": true,
     "points": 1,
     "schema_version": 3,
     "solution": false,
     "task": false
    }
   },
   "outputs": [
    {
     "name": "stdout",
     "output_type": "stream",
     "text": [
      "\u001b[92m Ok - Tous les tests sont validés.\u001b[00m\n"
     ]
    }
   ],
   "source": [
    "\n",
    "# Ce bloc permet de valider votre code. Vous devez l'exécuter mais ne pas le modifier.  \n",
    "try:\n",
    "    M = np.array([[23, 17, 10, 16,  9, 13],\n",
    "           [13,  7, 22, 21, 10, 23],\n",
    "           [23, 23, 17, 22, 13, 16],\n",
    "           [13,  8, 13,  6,  7, 22],\n",
    "           [21, 16, 10, 18, 18, 10],\n",
    "           [10, 11, 21, 22, 11, 14]])\n",
    "    res = fct(M)\n",
    "    np.testing.assert_equal(len(res),4,'Taille du vecteur incorrect.')\n",
    "    np.testing.assert_equal(res,np.array([0, 1, 2, 3]),'Exemple incorrect.')\n",
    "    \n",
    "except Exception as e: \n",
    "    print(\"\\033[91m {}\\033[00m\" .format('KO - Au moins un test n\\'est pas validé')) \n",
    "    print('Information sur le test non valide:')\n",
    "    print(e)\n",
    "    raise e\n",
    "else:\n",
    "    print(\"\\033[92m {}\\033[00m\" .format('Ok - Tous les tests sont validés.')) \n"
   ]
  },
  {
   "cell_type": "markdown",
   "metadata": {
    "deletable": false,
    "editable": false,
    "nbgrader": {
     "cell_type": "markdown",
     "checksum": "b09d69d82876df2aa44c2dd8ba525763",
     "grade": false,
     "grade_id": "question24-q15-_cell-dbc5bc42164c422d",
     "locked": true,
     "schema_version": 3,
     "solution": false,
     "task": false
    }
   },
   "source": [
    "Question 3: \n",
    "\n",
    "Écrivez une fonction permettant de concaténer les tableaux `x` et `y` de taille [2 6] et [4 6] selon l'axe des ligne. \n",
    " \n",
    "<span style=\"color:teal\">Exemple :</span> <br>\n",
    "Sur les entrées \n",
    "```\n",
    "[[7 1 2 4 2 0]\n",
    " [3 7 5 2 1 8]]\n",
    "```\n",
    "et\n",
    "```\n",
    "[[0 0 6 8 0 1]\n",
    " [4 5 6 4 8 8]\n",
    " [4 6 2 2 3 6]\n",
    " [0 1 0 3 5 0]]\n",
    "```\n",
    "\n",
    "le résultat attendu est \n",
    "\n",
    "```\n",
    "[[7 1 2 4 2 0]\n",
    " [3 7 5 2 1 8]\n",
    " [0 0 6 8 0 1]\n",
    " [4 5 6 4 8 8]\n",
    " [4 6 2 2 3 6]\n",
    " [0 1 0 3 5 0]]\n",
    "```\n"
   ]
  },
  {
   "cell_type": "code",
   "execution_count": 9,
   "metadata": {
    "deletable": false,
    "nbgrader": {
     "cell_type": "code",
     "checksum": "90891e385689808e057c9c80f422cdfe",
     "grade": false,
     "grade_id": "question24-q15-_cell-756ebeab6f5aeaec",
     "locked": false,
     "schema_version": 3,
     "solution": true,
     "task": false
    }
   },
   "outputs": [],
   "source": [
    "\n",
    "def fct(x,y):\n",
    "    v=np.vstack((x,y))\n",
    "    return v\n",
    "    \n"
   ]
  },
  {
   "cell_type": "code",
   "execution_count": 10,
   "metadata": {
    "deletable": false,
    "editable": false,
    "nbgrader": {
     "cell_type": "code",
     "checksum": "a5019439cc173bb142a25eb106ffc6cd",
     "grade": true,
     "grade_id": "question24-q15-_cell-5777a2c50a3fb910",
     "locked": true,
     "points": 1,
     "schema_version": 3,
     "solution": false,
     "task": false
    }
   },
   "outputs": [
    {
     "name": "stdout",
     "output_type": "stream",
     "text": [
      "\u001b[92m Ok - Tous les tests sont validés.\u001b[00m\n"
     ]
    }
   ],
   "source": [
    "\n",
    "# Ce bloc permet de valider votre code. Vous devez l'exécuter mais ne pas le modifier.  \n",
    "try:\n",
    "    x = np.random.random([2,6])\n",
    "    y = np.random.random([4,6])\n",
    "    res = fct(x,y)\n",
    "    np.testing.assert_equal(res.shape,(6, 6),'Taille du tableau de sortie incorrect.')\n",
    "    \n",
    "except Exception as e: \n",
    "    print(\"\\033[91m {}\\033[00m\" .format('KO - Au moins un test n\\'est pas validé')) \n",
    "    print('Information sur le test non valide:')\n",
    "    print(e)\n",
    "    raise e\n",
    "else:\n",
    "    print(\"\\033[92m {}\\033[00m\" .format('Ok - Tous les tests sont validés.')) \n"
   ]
  },
  {
   "cell_type": "markdown",
   "metadata": {
    "deletable": false,
    "editable": false,
    "nbgrader": {
     "cell_type": "markdown",
     "checksum": "90bb4e7572befee06b861d4259e7a3d0",
     "grade": false,
     "grade_id": "question8-qy9-_cell-dd11faf8942d7912",
     "locked": true,
     "schema_version": 3,
     "solution": false,
     "task": false
    }
   },
   "source": [
    "Question 4: \n",
    "Étant donné un vecteur `u` de taille 5, construisez une fonction retourrnant un vecteur de taille $30 = 5\\times6$\n",
    "où chaque élément de `u` est répété consécutivement 6 fois.\n",
    "\n",
    "<span style=\"color:teal\">Exemple :</span> <br>\n",
    "À partir du vecteur:\n",
    "\n",
    "```\n",
    "[ 8  4  9 11  8]\n",
    "```\n",
    "\n",
    "on obtient:\n",
    "\n",
    "```\n",
    "[ 8  8  8  8  8  8  4  4  4  4  4  4  9  9  9  9  9  9 11 11 11 11 11 11\n",
    "  8  8  8  8  8  8]\n",
    "```\n",
    "           "
   ]
  },
  {
   "cell_type": "code",
   "execution_count": 11,
   "metadata": {
    "deletable": false,
    "nbgrader": {
     "cell_type": "code",
     "checksum": "b450f41311468e816a21d8e2f4edf24d",
     "grade": false,
     "grade_id": "question8-qy9-_cell-413770a7518f1c1a",
     "locked": false,
     "schema_version": 3,
     "solution": true,
     "task": false
    }
   },
   "outputs": [],
   "source": [
    "\n",
    "def fct(v):\n",
    "    v=np.repeat(v,6)\n",
    "    return v\n",
    "    \n"
   ]
  },
  {
   "cell_type": "code",
   "execution_count": 12,
   "metadata": {
    "deletable": false,
    "editable": false,
    "nbgrader": {
     "cell_type": "code",
     "checksum": "7fda00545302e8fac80492afb7f8751f",
     "grade": true,
     "grade_id": "question8-qy9-_cell-d846d7cc981c5c94",
     "locked": true,
     "points": 1,
     "schema_version": 3,
     "solution": false,
     "task": false
    }
   },
   "outputs": [
    {
     "name": "stdout",
     "output_type": "stream",
     "text": [
      "\u001b[92m Ok - Tous les tests sont validés.\u001b[00m\n"
     ]
    }
   ],
   "source": [
    "\n",
    "# Ce bloc permet de valider votre code. Vous devez l'exécuter mais ne pas le modifier.  \n",
    "try:\n",
    "    v = np.array([ 8,  4,  9, 11,  8])\n",
    "    res = fct(v)\n",
    "    np.testing.assert_equal(np.sum(res),np.sum(v)*6,'Exemple incorrect.')\n",
    "    np.testing.assert_equal(res,np.array([ 8,  8,  8,  8,  8,  8,  4,  4,  4,  4,  4,  4,  9,  9,  9,  9,  9,\n",
    "            9, 11, 11, 11, 11, 11, 11,  8,  8,  8,  8,  8,  8]),'Exemple incorrect.')\n",
    "    \n",
    "except Exception as e: \n",
    "    print(\"\\033[91m {}\\033[00m\" .format('KO - Au moins un test n\\'est pas validé')) \n",
    "    print('Information sur le test non valide:')\n",
    "    print(e)\n",
    "    raise e\n",
    "else:\n",
    "    print(\"\\033[92m {}\\033[00m\" .format('Ok - Tous les tests sont validés.')) \n"
   ]
  },
  {
   "cell_type": "markdown",
   "metadata": {
    "deletable": false,
    "editable": false,
    "nbgrader": {
     "cell_type": "markdown",
     "checksum": "fdcfcc91b95d7efef1f2f2bdbd6c1cf3",
     "grade": false,
     "grade_id": "question12-q3-_cell-f6bfaf2e182283eb",
     "locked": true,
     "schema_version": 3,
     "solution": false,
     "task": false
    }
   },
   "source": [
    "Question 5: \n",
    "Écrivez une fonction qui prend en entrée une matrice et qui calcule la somme des éléments des colonnes de $3$ à $5$ (la colonne $5$ étant exclue). \n",
    "\n",
    "<span style=\"color:teal\">Exemple :</span> <br>\n",
    "```\n",
    "[[6 1 1 4 3 6]\n",
    " [2 4 5 5 6 5]\n",
    " [4 3 6 2 5 2]\n",
    " [2 2 2 1 2 4]\n",
    " [3 6 1 6 1 2]]\n",
    "```\n",
    "<br>\n",
    "\n",
    "a pour sortie `35`.\n"
   ]
  },
  {
   "cell_type": "code",
   "execution_count": 13,
   "metadata": {
    "deletable": false,
    "nbgrader": {
     "cell_type": "code",
     "checksum": "0121ba187e1a189ba494c19902d085f3",
     "grade": false,
     "grade_id": "question12-q3-_cell-72c2dbfcd0ecd40e",
     "locked": false,
     "schema_version": 3,
     "solution": true,
     "task": false
    }
   },
   "outputs": [],
   "source": [
    "\n",
    "def amalgame(matrice):\n",
    "    matrice=matrice[:,3:5]\n",
    "    matrice=np.sum(matrice)\n",
    "    return matrice\n",
    "\n"
   ]
  },
  {
   "cell_type": "code",
   "execution_count": 14,
   "metadata": {
    "deletable": false,
    "editable": false,
    "nbgrader": {
     "cell_type": "code",
     "checksum": "04542a6ed9cb20cae8b7bfc46621181a",
     "grade": true,
     "grade_id": "question12-q3-_cell-a7498540d6d02ea8",
     "locked": true,
     "points": 1,
     "schema_version": 3,
     "solution": false,
     "task": false
    }
   },
   "outputs": [
    {
     "name": "stdout",
     "output_type": "stream",
     "text": [
      "\u001b[92m Ok - Tous les tests sont validés.\u001b[00m\n"
     ]
    }
   ],
   "source": [
    "\n",
    "# Ce bloc permet de valider votre code. Vous devez l'exécuter mais ne pas le modifier.  \n",
    "try:\n",
    " \n",
    "    res = amalgame(np.array([[6, 1, 1, 4, 3, 6], [2, 4, 5, 5, 6, 5], [4, 3, 6, 2, 5, 2], [2, 2, 2, 1, 2, 4], [3, 6, 1, 6, 1, 2]]))\n",
    "    np.testing.assert_almost_equal(res,35)\n",
    "    \n",
    "except Exception as e: \n",
    "    print(\"\\033[91m {}\\033[00m\" .format('KO - Au moins un test n\\'est pas validé')) \n",
    "    print('Information sur le test non valide:')\n",
    "    print(e)\n",
    "    raise e\n",
    "else:\n",
    "    print(\"\\033[92m {}\\033[00m\" .format('Ok - Tous les tests sont validés.')) \n"
   ]
  },
  {
   "cell_type": "markdown",
   "metadata": {
    "deletable": false,
    "editable": false,
    "nbgrader": {
     "cell_type": "markdown",
     "checksum": "44011a22e8618e29fcc8c768da1aeb5c",
     "grade": false,
     "grade_id": "question1-qy2-_cell-660869e0aee96c71",
     "locked": true,
     "schema_version": 3,
     "solution": false,
     "task": false
    }
   },
   "source": [
    "Question 6:  À partir de 2 vecteurs v1 et v2, construisez à l'aide du broadcasting la matrice des multiplications entre les valeurs des deux vecteurs. \n",
    "Par exemple pour les vecteurs `[40 50]`  et  `[1 2 3 4 5]` la matrice retournée est la suivante :\n",
    "\n",
    "```\n",
    "[[ 40  80 120 160 200]\n",
    " [ 50 100 150 200 250]]\n",
    "```\n",
    "\n",
    "    "
   ]
  },
  {
   "cell_type": "code",
   "execution_count": 15,
   "metadata": {
    "deletable": false,
    "nbgrader": {
     "cell_type": "code",
     "checksum": "3e7ea091c16a41e4801929025cc6a5c8",
     "grade": false,
     "grade_id": "question1-qy2-_cell-d0414b4ab1f3d075",
     "locked": false,
     "schema_version": 3,
     "solution": true,
     "task": false
    }
   },
   "outputs": [],
   "source": [
    "\n",
    "def fct(v1,v2):\n",
    "    v1=v1.reshape((-1,1))\n",
    "    v2=v2.reshape((-1,5))\n",
    "    v=v1*v2\n",
    "    return v\n"
   ]
  },
  {
   "cell_type": "code",
   "execution_count": 16,
   "metadata": {
    "deletable": false,
    "editable": false,
    "nbgrader": {
     "cell_type": "code",
     "checksum": "33832d8e23e10dff6efbf32b1a43fcc7",
     "grade": true,
     "grade_id": "question1-qy2-_cell-7dc16471f64b4c01",
     "locked": true,
     "points": 1,
     "schema_version": 3,
     "solution": false,
     "task": false
    }
   },
   "outputs": [
    {
     "name": "stdout",
     "output_type": "stream",
     "text": [
      "\u001b[92m Ok - Tous les tests sont validés.\u001b[00m\n"
     ]
    }
   ],
   "source": [
    "\n",
    "# Ce bloc permet de valider votre code. Vous devez l'exécuter mais ne pas le modifier.  \n",
    "try:\n",
    "\n",
    "    v1 = np.array([40, 50])\n",
    "    v2 = np.array([1, 2, 3, 4, 5])\n",
    "    res = fct(v1,v2)\n",
    "    np.testing.assert_equal(list(res.shape),(len(v1),len(v2)),'Taille de la matrice incorrecte.')\n",
    "    np.testing.assert_equal(res,np.array([[ 40,  80, 120, 160, 200],\n",
    "           [ 50, 100, 150, 200, 250]]),'Exemple incorrect.')\n",
    "    \n",
    "except Exception as e: \n",
    "    print(\"\\033[91m {}\\033[00m\" .format('KO - Au moins un test n\\'est pas validé')) \n",
    "    print('Information sur le test non valide:')\n",
    "    print(e)\n",
    "    raise e\n",
    "else:\n",
    "    print(\"\\033[92m {}\\033[00m\" .format('Ok - Tous les tests sont validés.')) \n"
   ]
  },
  {
   "cell_type": "markdown",
   "metadata": {
    "deletable": false,
    "editable": false,
    "nbgrader": {
     "cell_type": "markdown",
     "checksum": "be8eb9d66efeac7cc05c23918e290537",
     "grade": false,
     "grade_id": "question10-q1-_cell-b6939603cbfc72b4",
     "locked": true,
     "schema_version": 3,
     "solution": false,
     "task": false
    }
   },
   "source": [
    "Question 7: Définir un vecteur aléatoire `alea` de taille $25$ et dont les éléments sont des entiers compris entre $-6$ et $16$.\n",
    "\n",
    "<span style='color:teal'> Exemple</span> <br>\n",
    "`[11  2  9  1  8 14 10 11 12  0 11 10  4  0 15 -4 -6 -5 -5 -4  8  8  0 15\n",
    "  1]`"
   ]
  },
  {
   "cell_type": "code",
   "execution_count": 17,
   "metadata": {
    "deletable": false,
    "nbgrader": {
     "cell_type": "code",
     "checksum": "4a8ce9fae84e0e5302732103486ec24f",
     "grade": false,
     "grade_id": "question10-q1-_cell-5b9693dcae4652d7",
     "locked": false,
     "schema_version": 3,
     "solution": true,
     "task": false
    }
   },
   "outputs": [],
   "source": [
    "\n",
    "\n",
    "def alea_int():\n",
    "    alea=np.random.randint(-6,16,25)\n",
    "    return alea\n",
    "\n"
   ]
  },
  {
   "cell_type": "code",
   "execution_count": 18,
   "metadata": {
    "deletable": false,
    "editable": false,
    "nbgrader": {
     "cell_type": "code",
     "checksum": "feddebe8810016422a43095a72969c9b",
     "grade": true,
     "grade_id": "question10-q1-_cell-e71c32170d2eeab4",
     "locked": true,
     "points": 1,
     "schema_version": 3,
     "solution": false,
     "task": false
    }
   },
   "outputs": [
    {
     "name": "stdout",
     "output_type": "stream",
     "text": [
      "\u001b[92m Ok - Tous les tests sont validés.\u001b[00m\n"
     ]
    }
   ],
   "source": [
    "\n",
    "# Ce bloc permet de valider votre code. Vous devez l'exécuter mais ne pas le modifier.  \n",
    "try:\n",
    "   \n",
    "    alea = alea_int()\n",
    "    np.testing.assert_equal(alea.size,25)\n",
    "    np.testing.assert_equal(alea>=-6,True)\n",
    "    np.testing.assert_equal(alea<=16,True)\n",
    "    \n",
    "    \n",
    "except Exception as e: \n",
    "    print(\"\\033[91m {}\\033[00m\" .format('KO - Au moins un test n\\'est pas validé')) \n",
    "    print('Information sur le test non valide:')\n",
    "    print(e)\n",
    "    raise e\n",
    "else:\n",
    "    print(\"\\033[92m {}\\033[00m\" .format('Ok - Tous les tests sont validés.')) \n"
   ]
  },
  {
   "cell_type": "markdown",
   "metadata": {
    "deletable": false,
    "editable": false,
    "nbgrader": {
     "cell_type": "markdown",
     "checksum": "ce1e48a6efa709e89319dd2596d84359",
     "grade": false,
     "grade_id": "question21-q12-_cell-84ab3265b2e7231c",
     "locked": true,
     "schema_version": 3,
     "solution": false,
     "task": false
    }
   },
   "source": [
    "Question 8: \n",
    "Créer une fonction `inferieur` qui prend en entrée un tableau numpy et renvois \n",
    "un tableau de booléens de même taille que le tableau d'entrée contenant `True`\n",
    " si les valeurs du tableau d'entrée sont inferieur (strictement) à 0.5234, `False` sinon.\n"
   ]
  },
  {
   "cell_type": "code",
   "execution_count": 19,
   "metadata": {
    "deletable": false,
    "nbgrader": {
     "cell_type": "code",
     "checksum": "70b9ee16f3f3afc10abfe05d17fdc622",
     "grade": false,
     "grade_id": "question21-q12-_cell-4178ddca1b62bd98",
     "locked": false,
     "schema_version": 3,
     "solution": true,
     "task": false
    }
   },
   "outputs": [],
   "source": [
    "\n",
    "def inferieur(x):\n",
    "    return x<0.5234\n",
    "    "
   ]
  },
  {
   "cell_type": "code",
   "execution_count": 20,
   "metadata": {
    "deletable": false,
    "editable": false,
    "nbgrader": {
     "cell_type": "code",
     "checksum": "ac65e7de27aed7de67ab7e2d8e6147c9",
     "grade": true,
     "grade_id": "question21-q12-_cell-6fa87040e2337f3f",
     "locked": true,
     "points": 1,
     "schema_version": 3,
     "solution": false,
     "task": false
    }
   },
   "outputs": [
    {
     "name": "stdout",
     "output_type": "stream",
     "text": [
      "\u001b[92m Ok - Tous les tests sont validés.\u001b[00m\n"
     ]
    }
   ],
   "source": [
    "\n",
    "# Ce bloc permet de valider votre code. Vous devez l'exécuter mais ne pas le modifier.  \n",
    "try:\n",
    "\n",
    "    x = np.random.randn(50)\n",
    "    \n",
    "    np.testing.assert_equal(x.shape,inferieur(x).shape)\n",
    "    np.testing.assert_equal(inferieur(x).dtype, np.dtype('bool'))\n",
    "    \n",
    "except Exception as e: \n",
    "    print(\"\\033[91m {}\\033[00m\" .format('KO - Au moins un test n\\'est pas validé')) \n",
    "    print('Information sur le test non valide:')\n",
    "    print(e)\n",
    "    raise e\n",
    "else:\n",
    "    print(\"\\033[92m {}\\033[00m\" .format('Ok - Tous les tests sont validés.')) \n"
   ]
  },
  {
   "cell_type": "markdown",
   "metadata": {
    "deletable": false,
    "editable": false,
    "nbgrader": {
     "cell_type": "markdown",
     "checksum": "ed53af37f6e669ab7b5b239fa5921857",
     "grade": false,
     "grade_id": "question14-q5-_cell-f1e573afeecb6a4",
     "locked": true,
     "schema_version": 3,
     "solution": false,
     "task": false
    }
   },
   "source": [
    "Question 9: \n",
    "Écrire une fonction `diagMatrice` qui construit et retourne une matrice carrée de taille $(9,9)$ dont les éléments sont de valeur $1$ exceptés ceux sur la $7$-ème diagonale (bas gauche -> haut droite) qui sont tous à $0$.\n",
    "\n",
    "<span style=\"color:teal\">La matrice à construire :</span> <br>\n",
    "```\n",
    "[[1. 1. 1. 1. 1. 1. 0. 1. 1.]\n",
    " [1. 1. 1. 1. 1. 0. 1. 1. 1.]\n",
    " [1. 1. 1. 1. 0. 1. 1. 1. 1.]\n",
    " [1. 1. 1. 0. 1. 1. 1. 1. 1.]\n",
    " [1. 1. 0. 1. 1. 1. 1. 1. 1.]\n",
    " [1. 0. 1. 1. 1. 1. 1. 1. 1.]\n",
    " [0. 1. 1. 1. 1. 1. 1. 1. 1.]\n",
    " [1. 1. 1. 1. 1. 1. 1. 1. 1.]\n",
    " [1. 1. 1. 1. 1. 1. 1. 1. 1.]]\n",
    "```\n"
   ]
  },
  {
   "cell_type": "markdown",
   "id": "24f3680f",
   "metadata": {},
   "source": []
  },
  {
   "cell_type": "code",
   "execution_count": 21,
   "metadata": {
    "deletable": false,
    "nbgrader": {
     "cell_type": "code",
     "checksum": "c6250f5956db2993b1417ae332795688",
     "grade": false,
     "grade_id": "question14-q5-_cell-ca4e72fd1940b6a7",
     "locked": false,
     "schema_version": 3,
     "solution": true,
     "task": false
    }
   },
   "outputs": [],
   "source": [
    "\n",
    "def diagMatrice():\n",
    "    v=np.ones((9,9))\n",
    "    v[0,6]=0\n",
    "    v[1,5]=0\n",
    "    v[2,4]=0\n",
    "    v[3,3]=0\n",
    "    v[4,2]=0\n",
    "    v[5,1]=0\n",
    "    v[6,0]=0\n",
    "    return v\n"
   ]
  },
  {
   "cell_type": "code",
   "execution_count": 22,
   "metadata": {
    "deletable": false,
    "editable": false,
    "nbgrader": {
     "cell_type": "code",
     "checksum": "8a6b7b9c004a530a442be62d310730bc",
     "grade": true,
     "grade_id": "question14-q5-_cell-98677d44dce8b16",
     "locked": true,
     "points": 1,
     "schema_version": 3,
     "solution": false,
     "task": false
    }
   },
   "outputs": [
    {
     "name": "stdout",
     "output_type": "stream",
     "text": [
      "\u001b[92m Ok - Tous les tests sont validés.\u001b[00m\n"
     ]
    }
   ],
   "source": [
    "\n",
    "# Ce bloc permet de valider votre code. Vous devez l'exécuter mais ne pas le modifier.  \n",
    "try:\n",
    "\n",
    "    mat = diagMatrice()\n",
    "    np.testing.assert_equal(mat.shape,(9,9))\n",
    "    np.testing.assert_almost_equal(np.sum(mat),74)\n",
    "    np.testing.assert_almost_equal(np.diag(mat[:7,6::-1]),0)\n",
    "    \n",
    "except Exception as e: \n",
    "    print(\"\\033[91m {}\\033[00m\" .format('KO - Au moins un test n\\'est pas validé')) \n",
    "    print('Information sur le test non valide:')\n",
    "    print(e)\n",
    "    raise e\n",
    "else:\n",
    "    print(\"\\033[92m {}\\033[00m\" .format('Ok - Tous les tests sont validés.')) \n"
   ]
  },
  {
   "cell_type": "markdown",
   "metadata": {
    "deletable": false,
    "editable": false,
    "nbgrader": {
     "cell_type": "markdown",
     "checksum": "94baa4f71449464886cea2395afc9677",
     "grade": false,
     "grade_id": "question15-q6-_cell-42d42e5aeb59f6eb",
     "locked": true,
     "schema_version": 3,
     "solution": false,
     "task": false
    }
   },
   "source": [
    "Question 10: \n",
    "Créez une matrice `mat` de taille (7,4) dont toutes les valeurs sont à 2 sauf la case (5,1) qui vaut 0.\n",
    "\n",
    "<span style=\"color:teal\">La matrice à construire :</span> <br>\n",
    "```\n",
    "[[2. 2. 2. 2.]\n",
    " [2. 2. 2. 2.]\n",
    " [2. 2. 2. 2.]\n",
    " [2. 2. 2. 2.]\n",
    " [2. 2. 2. 2.]\n",
    " [2. 0. 2. 2.]\n",
    " [2. 2. 2. 2.]]\n",
    "```\n"
   ]
  },
  {
   "cell_type": "code",
   "execution_count": 23,
   "metadata": {
    "deletable": false,
    "nbgrader": {
     "cell_type": "code",
     "checksum": "0efd944db0c7d5e4db331ebe8f5b656c",
     "grade": false,
     "grade_id": "question15-q6-_cell-af8409467a6f716",
     "locked": false,
     "schema_version": 3,
     "solution": true,
     "task": false
    }
   },
   "outputs": [
    {
     "data": {
      "text/plain": [
       "array([[2, 2, 2, 2],\n",
       "       [2, 2, 2, 2],\n",
       "       [2, 2, 2, 2],\n",
       "       [2, 2, 2, 2],\n",
       "       [2, 2, 2, 2],\n",
       "       [2, 0, 2, 2],\n",
       "       [2, 2, 2, 2]])"
      ]
     },
     "execution_count": 23,
     "metadata": {},
     "output_type": "execute_result"
    }
   ],
   "source": [
    "\n",
    "mat=np.full((7,4),2)\n",
    "mat[5,1]=0\n",
    "mat"
   ]
  },
  {
   "cell_type": "code",
   "execution_count": 24,
   "metadata": {
    "deletable": false,
    "editable": false,
    "nbgrader": {
     "cell_type": "code",
     "checksum": "b07acd985c73aa5672d688b3522bd0ee",
     "grade": true,
     "grade_id": "question15-q6-_cell-8c0051d12c4c45b",
     "locked": true,
     "points": 1,
     "schema_version": 3,
     "solution": false,
     "task": false
    }
   },
   "outputs": [
    {
     "name": "stdout",
     "output_type": "stream",
     "text": [
      "\u001b[92m Ok - Tous les tests sont validés.\u001b[00m\n"
     ]
    }
   ],
   "source": [
    "\n",
    "# Ce bloc permet de valider votre code. Vous devez l'exécuter mais ne pas le modifier.  \n",
    "try:\n",
    "\n",
    "    np.testing.assert_equal(mat.shape,(7,4),err_msg='Attention à la taille')\n",
    "    np.testing.assert_almost_equal(np.sum(mat),2*(7*4-1))\n",
    "    \n",
    "except Exception as e: \n",
    "    print(\"\\033[91m {}\\033[00m\" .format('KO - Au moins un test n\\'est pas validé')) \n",
    "    print('Information sur le test non valide:')\n",
    "    print(e)\n",
    "    raise e\n",
    "else:\n",
    "    print(\"\\033[92m {}\\033[00m\" .format('Ok - Tous les tests sont validés.')) \n"
   ]
  },
  {
   "cell_type": "markdown",
   "metadata": {
    "deletable": false,
    "editable": false,
    "nbgrader": {
     "cell_type": "markdown",
     "checksum": "9c0d122d000d230aac6405ccf5ccdd1d",
     "grade": false,
     "grade_id": "question3-qy4-_cell-f455d2349eb6baf0",
     "locked": true,
     "schema_version": 3,
     "solution": false,
     "task": false
    }
   },
   "source": [
    "Question 11: \n",
    "Écrivez une fonction qui retourne la matrice construite en suivant les étapes suivantes:\n",
    "- Construire le vecteur `v` constitué des entiers de 0 à 20 (exclu).\n",
    "- Transformer `v` en la matrice suivante (en deux/trois instructions au plus).\n",
    "\n",
    "```\n",
    "[[19 15 11  7  3]\n",
    " [18 14 10  6  2]\n",
    " [17 13  9  5  1]\n",
    " [16 12  8  4  0]]\n",
    "```\n",
    "    "
   ]
  },
  {
   "cell_type": "code",
   "execution_count": 25,
   "metadata": {
    "deletable": false,
    "nbgrader": {
     "cell_type": "code",
     "checksum": "c0b7a0a3ae6aaad01583b042821eb0d6",
     "grade": false,
     "grade_id": "question3-qy4-_cell-93add268562674e9",
     "locked": false,
     "schema_version": 3,
     "solution": true,
     "task": false
    }
   },
   "outputs": [
    {
     "data": {
      "text/plain": [
       "array([[19, 15, 11,  7,  3],\n",
       "       [18, 14, 10,  6,  2],\n",
       "       [17, 13,  9,  5,  1],\n",
       "       [16, 12,  8,  4,  0]])"
      ]
     },
     "execution_count": 25,
     "metadata": {},
     "output_type": "execute_result"
    }
   ],
   "source": [
    "\n",
    "def fct():\n",
    "    v=np.arange(0,20)\n",
    "    v=v.reshape(5,4)\n",
    "    v=v[::-1]\n",
    "    v=np.transpose(v)\n",
    "    v=v[::-1]\n",
    "\n",
    "    return v\n",
    "fct()\n"
   ]
  },
  {
   "cell_type": "code",
   "execution_count": 26,
   "metadata": {
    "deletable": false,
    "editable": false,
    "nbgrader": {
     "cell_type": "code",
     "checksum": "ac6ba0b97958a780ab228c46a90ab920",
     "grade": true,
     "grade_id": "question3-qy4-_cell-d9e5ab5fabc04d76",
     "locked": true,
     "points": 1,
     "schema_version": 3,
     "solution": false,
     "task": false
    }
   },
   "outputs": [
    {
     "name": "stdout",
     "output_type": "stream",
     "text": [
      "\u001b[92m Ok - Tous les tests sont validés.\u001b[00m\n"
     ]
    }
   ],
   "source": [
    "\n",
    "# Ce bloc permet de valider votre code. Vous devez l'exécuter mais ne pas le modifier.  \n",
    "try:\n",
    "\n",
    "    res = fct()\n",
    "    np.testing.assert_equal(list(res.shape),(4, 5),'Taille de la matrice incorrecte.')\n",
    "    np.testing.assert_equal(res,np.array([[19, 15, 11,  7,  3],\n",
    "           [18, 14, 10,  6,  2],\n",
    "           [17, 13,  9,  5,  1],\n",
    "           [16, 12,  8,  4,  0]]),'Résultat incorrecte.')\n",
    "    \n",
    "except Exception as e: \n",
    "    print(\"\\033[91m {}\\033[00m\" .format('KO - Au moins un test n\\'est pas validé')) \n",
    "    print('Information sur le test non valide:')\n",
    "    print(e)\n",
    "    raise e\n",
    "else:\n",
    "    print(\"\\033[92m {}\\033[00m\" .format('Ok - Tous les tests sont validés.')) \n"
   ]
  },
  {
   "cell_type": "markdown",
   "metadata": {
    "deletable": false,
    "editable": false,
    "nbgrader": {
     "cell_type": "markdown",
     "checksum": "662929e34e324dff79c12dd239887a83",
     "grade": false,
     "grade_id": "question4-qy5-_cell-35b75ec52d8a6fb2",
     "locked": true,
     "schema_version": 3,
     "solution": false,
     "task": false
    }
   },
   "source": [
    "Question 12: Écrivez une fonction inversant l'ordre des éléments des lignes d'indice impair d'une matrice `M`.\n",
    "           \n",
    "<span style='color:teal'> Exemple</span> <br>\n",
    "En partant de la matrice:\n",
    "```\n",
    "[[ 1  2  3  4  5  6  7]\n",
    " [ 8  9 10 11 12 13 14]\n",
    " [15 16 17 18 19 20 21]\n",
    " [22 23 24 25 26 27 28]\n",
    " [29 30 31 32 33 34 35]]\n",
    "```\n",
    "\n",
    "\n",
    "Le résultat attendu est:\n",
    "```\n",
    "[[ 1  2  3  4  5  6  7]\n",
    " [14 13 12 11 10  9  8]\n",
    " [15 16 17 18 19 20 21]\n",
    " [28 27 26 25 24 23 22]\n",
    " [29 30 31 32 33 34 35]]\n",
    "```\n",
    "    "
   ]
  },
  {
   "cell_type": "code",
   "execution_count": 62,
   "metadata": {
    "deletable": false,
    "nbgrader": {
     "cell_type": "code",
     "checksum": "0cc648a4f727cab25db076e680039e63",
     "grade": false,
     "grade_id": "question4-qy5-_cell-714b590e900a7f75",
     "locked": false,
     "schema_version": 3,
     "solution": true,
     "task": false
    }
   },
   "outputs": [],
   "source": [
    "\n",
    "def fct(M):\n",
    "    M[1::2, :] = M[1::2, ::-1]\n",
    "    return M\n",
    "    \n"
   ]
  },
  {
   "cell_type": "code",
   "execution_count": 28,
   "metadata": {
    "deletable": false,
    "editable": false,
    "nbgrader": {
     "cell_type": "code",
     "checksum": "e4234b28acf7e9e8deaf1baa45022512",
     "grade": true,
     "grade_id": "question4-qy5-_cell-970e6baf07b87d1",
     "locked": true,
     "points": 1,
     "schema_version": 3,
     "solution": false,
     "task": false
    }
   },
   "outputs": [
    {
     "name": "stdout",
     "output_type": "stream",
     "text": [
      "\u001b[92m Ok - Tous les tests sont validés.\u001b[00m\n"
     ]
    }
   ],
   "source": [
    "\n",
    "# Ce bloc permet de valider votre code. Vous devez l'exécuter mais ne pas le modifier.  \n",
    "try:\n",
    "    M = np.array([[ 1,  2,  3,  4,  5,  6,  7],\n",
    "           [ 8,  9, 10, 11, 12, 13, 14],\n",
    "           [15, 16, 17, 18, 19, 20, 21],\n",
    "           [22, 23, 24, 25, 26, 27, 28],\n",
    "           [29, 30, 31, 32, 33, 34, 35]])\n",
    "    res = fct(M)\n",
    "    np.testing.assert_equal(res.shape,(5, 7),'Taille de la matrice incorrecte.')\n",
    "    np.testing.assert_equal(res,np.array([[ 1,  2,  3,  4,  5,  6,  7],\n",
    "           [14, 13, 12, 11, 10,  9,  8],\n",
    "           [15, 16, 17, 18, 19, 20, 21],\n",
    "           [28, 27, 26, 25, 24, 23, 22],\n",
    "           [29, 30, 31, 32, 33, 34, 35]]),'Exemple incorrect.')\n",
    "    \n",
    "except Exception as e: \n",
    "    print(\"\\033[91m {}\\033[00m\" .format('KO - Au moins un test n\\'est pas validé')) \n",
    "    print('Information sur le test non valide:')\n",
    "    print(e)\n",
    "    raise e\n",
    "else:\n",
    "    print(\"\\033[92m {}\\033[00m\" .format('Ok - Tous les tests sont validés.')) \n"
   ]
  },
  {
   "cell_type": "markdown",
   "metadata": {
    "deletable": false,
    "editable": false,
    "nbgrader": {
     "cell_type": "markdown",
     "checksum": "19048cb5d78ec81b1a95bce67a8de462",
     "grade": false,
     "grade_id": "question16-q7-_cell-fbd701ab284e0b79",
     "locked": true,
     "schema_version": 3,
     "solution": false,
     "task": false
    }
   },
   "source": [
    "Question 13: \n",
    "Créez une matrice `mat` de taille (5,5) dont toutes les valeurs sont à 9 sauf la colonne 2 dont les éléments sont tous 0.\n",
    "\n",
    "<span style=\"color:teal\">La matrice à construire :</span> <br>\n",
    "```\n",
    "[[9. 9. 0. 9. 9.]\n",
    " [9. 9. 0. 9. 9.]\n",
    " [9. 9. 0. 9. 9.]\n",
    " [9. 9. 0. 9. 9.]\n",
    " [9. 9. 0. 9. 9.]]\n",
    "```\n"
   ]
  },
  {
   "cell_type": "code",
   "execution_count": 29,
   "metadata": {
    "deletable": false,
    "nbgrader": {
     "cell_type": "code",
     "checksum": "2be1b9ab78c565f6343479f435e6b53d",
     "grade": false,
     "grade_id": "question16-q7-_cell-311edfd91b813a8a",
     "locked": false,
     "schema_version": 3,
     "solution": true,
     "task": false
    }
   },
   "outputs": [
    {
     "data": {
      "text/plain": [
       "array([[9, 9, 0, 9, 9],\n",
       "       [9, 9, 0, 9, 9],\n",
       "       [9, 9, 0, 9, 9],\n",
       "       [9, 9, 0, 9, 9],\n",
       "       [9, 9, 0, 9, 9]])"
      ]
     },
     "execution_count": 29,
     "metadata": {},
     "output_type": "execute_result"
    }
   ],
   "source": [
    "mat=np.full((5,5),9)\n",
    "mat[:,2]=0\n",
    "mat"
   ]
  },
  {
   "cell_type": "code",
   "execution_count": 30,
   "metadata": {
    "deletable": false,
    "editable": false,
    "nbgrader": {
     "cell_type": "code",
     "checksum": "b8388fc297fc9fd6b88eefbf90ce4d73",
     "grade": true,
     "grade_id": "question16-q7-_cell-f738cd2450397b31",
     "locked": true,
     "points": 1,
     "schema_version": 3,
     "solution": false,
     "task": false
    }
   },
   "outputs": [
    {
     "name": "stdout",
     "output_type": "stream",
     "text": [
      "\u001b[92m Ok - Tous les tests sont validés.\u001b[00m\n"
     ]
    }
   ],
   "source": [
    "\n",
    "# Ce bloc permet de valider votre code. Vous devez l'exécuter mais ne pas le modifier.  \n",
    "try:\n",
    "\n",
    "    np.testing.assert_equal(mat.shape,(5,5),err_msg='Attention à la taille')\n",
    "    np.testing.assert_almost_equal(np.sum(mat),9*5*(5-1))\n",
    "    \n",
    "except Exception as e: \n",
    "    print(\"\\033[91m {}\\033[00m\" .format('KO - Au moins un test n\\'est pas validé')) \n",
    "    print('Information sur le test non valide:')\n",
    "    print(e)\n",
    "    raise e\n",
    "else:\n",
    "    print(\"\\033[92m {}\\033[00m\" .format('Ok - Tous les tests sont validés.')) \n"
   ]
  },
  {
   "cell_type": "markdown",
   "metadata": {
    "deletable": false,
    "editable": false,
    "nbgrader": {
     "cell_type": "markdown",
     "checksum": "ee7d96c885fa2ee0cb7d95c16466a5c6",
     "grade": false,
     "grade_id": "question19-q10-_cell-745b726c38c7109c",
     "locked": true,
     "schema_version": 3,
     "solution": false,
     "task": false
    }
   },
   "source": [
    "Question 14: \n",
    "Créer un tableau numpy `x` contenant la liste des carrés des entiers allant de 9 à 12 (inclus).\n"
   ]
  },
  {
   "cell_type": "code",
   "execution_count": 31,
   "metadata": {
    "deletable": false,
    "nbgrader": {
     "cell_type": "code",
     "checksum": "f326d6578b350a306b4648b30c5362cb",
     "grade": false,
     "grade_id": "question19-q10-_cell-bb236e5cc5c001cb",
     "locked": false,
     "schema_version": 3,
     "solution": true,
     "task": false
    }
   },
   "outputs": [],
   "source": [
    "\n",
    "def liste_carres():\n",
    "    x=np.arange(9,13)\n",
    "    x=x**2\n",
    "    return x\n"
   ]
  },
  {
   "cell_type": "code",
   "execution_count": 32,
   "metadata": {
    "deletable": false,
    "editable": false,
    "nbgrader": {
     "cell_type": "code",
     "checksum": "2b2a93d811e36b647d0b4c643df49c40",
     "grade": true,
     "grade_id": "question19-q10-_cell-a1e72738d1caaedf",
     "locked": true,
     "points": 1,
     "schema_version": 3,
     "solution": false,
     "task": false
    }
   },
   "outputs": [
    {
     "name": "stdout",
     "output_type": "stream",
     "text": [
      "\u001b[92m Ok - Tous les tests sont validés.\u001b[00m\n"
     ]
    }
   ],
   "source": [
    "\n",
    "# Ce bloc permet de valider votre code. Vous devez l'exécuter mais ne pas le modifier.  \n",
    "try:\n",
    "\n",
    "    x = liste_carres()\n",
    "    np.testing.assert_equal(x.min(),9**2)\n",
    "    np.testing.assert_equal(x.max(),12**2)\n",
    "    \n",
    "except Exception as e: \n",
    "    print(\"\\033[91m {}\\033[00m\" .format('KO - Au moins un test n\\'est pas validé')) \n",
    "    print('Information sur le test non valide:')\n",
    "    print(e)\n",
    "    raise e\n",
    "else:\n",
    "    print(\"\\033[92m {}\\033[00m\" .format('Ok - Tous les tests sont validés.')) \n"
   ]
  },
  {
   "cell_type": "markdown",
   "metadata": {
    "deletable": false,
    "editable": false,
    "nbgrader": {
     "cell_type": "markdown",
     "checksum": "038978b8a604c59675b8cd304934dd0e",
     "grade": false,
     "grade_id": "question11-q2-_cell-5cbeb9e53929c372",
     "locked": true,
     "schema_version": 3,
     "solution": false,
     "task": false
    }
   },
   "source": [
    "Question 15: \n",
    "Écrivez une fonction `suppresseColonne` qui prend en entrée une matrice et qui supprime de cette matrice toutes les colonnes qui contiennent la valeur 16\n",
    "\n",
    "<span style=\"color:teal\">Exemple :</span> <br>\n",
    "```\n",
    "[[24 19 25 -5 11  0  6]\n",
    " [23 -2  4  5  8 10 -5]\n",
    " [21 -5 21 21 16 21  4]]\n",
    "```\n",
    "<br>\n",
    "\n",
    "a pour sortie:\n",
    "\n",
    "```\n",
    "[[24 19 25 -5  0  6]\n",
    " [23 -2  4  5 10 -5]\n",
    " [21 -5 21 21 21  4]]\n",
    "```\n"
   ]
  },
  {
   "cell_type": "code",
   "execution_count": 33,
   "metadata": {
    "deletable": false,
    "nbgrader": {
     "cell_type": "code",
     "checksum": "6ae6f29061e376eed85b4514e6143ca9",
     "grade": false,
     "grade_id": "question11-q2-_cell-3b98d96bdc7e31f4",
     "locked": false,
     "schema_version": 3,
     "solution": true,
     "task": false
    }
   },
   "outputs": [],
   "source": [
    "\n",
    "def suppresseColonne(matrice):\n",
    "    matrice=np.argwhere(matrice == 16)\n",
    "    matrice=np.delete(matrice,matrice[:,0])\n",
    "    return matrice\n",
    "    \n"
   ]
  },
  {
   "cell_type": "code",
   "execution_count": 34,
   "metadata": {
    "deletable": false,
    "editable": false,
    "nbgrader": {
     "cell_type": "code",
     "checksum": "761798daff5c87f2cfa2971d1efa7e35",
     "grade": true,
     "grade_id": "question11-q2-_cell-f8d799822302e501",
     "locked": true,
     "points": 1,
     "schema_version": 3,
     "solution": false,
     "task": false
    }
   },
   "outputs": [
    {
     "name": "stdout",
     "output_type": "stream",
     "text": [
      "\u001b[92m Ok - Tous les tests sont validés.\u001b[00m\n"
     ]
    }
   ],
   "source": [
    "\n",
    "# Ce bloc permet de valider votre code. Vous devez l'exécuter mais ne pas le modifier.  \n",
    "try:\n",
    "\n",
    "    mat = np.arange(24)\n",
    "    mat[np.random.randint(24)] = 16\n",
    "    mat[np.random.randint(24)] = 16\n",
    "    mat = mat.reshape((4,-1))\n",
    "    res = suppresseColonne(mat)\n",
    "    np.testing.assert_equal(mat.shape[0],res.shape[0])\n",
    "    \n",
    "except Exception as e: \n",
    "    print(\"\\033[91m {}\\033[00m\" .format('KO - Au moins un test n\\'est pas validé')) \n",
    "    print('Information sur le test non valide:')\n",
    "    print(e)\n",
    "    raise e\n",
    "else:\n",
    "    print(\"\\033[92m {}\\033[00m\" .format('Ok - Tous les tests sont validés.')) \n"
   ]
  },
  {
   "cell_type": "markdown",
   "metadata": {
    "deletable": false,
    "editable": false,
    "nbgrader": {
     "cell_type": "markdown",
     "checksum": "9753d135151951e7756a688abcc64901",
     "grade": false,
     "grade_id": "question17-q8-_cell-1f2e38a28a28cedd",
     "locked": true,
     "schema_version": 3,
     "solution": false,
     "task": false
    }
   },
   "source": [
    "Question 16: \n",
    "Écrire une fonction qui prend en entrée une matrice de taille $(7,3)$ et qui soustrait la ligne $4$ à toutes les lignes de la matrice.\n",
    "\n",
    "<span style=\"color:teal\">Exemple :</span> <br>\n",
    "```\n",
    "[[5 3 5]\n",
    " [3 6 6]\n",
    " [1 5 6]\n",
    " [3 2 5]\n",
    " [2 5 4]\n",
    " [3 3 3]\n",
    " [6 2 2]]\n",
    "```\n",
    "<br>\n",
    "\n",
    "a pour sortie\n",
    "\n",
    "```\n",
    "[[ 3 -2  1]\n",
    " [ 1  1  2]\n",
    " [-1  0  2]\n",
    " [ 1 -3  1]\n",
    " [ 0  0  0]\n",
    " [ 1 -2 -1]\n",
    " [ 4 -3 -2]]\n",
    "```\n"
   ]
  },
  {
   "cell_type": "code",
   "execution_count": 35,
   "metadata": {
    "deletable": false,
    "nbgrader": {
     "cell_type": "code",
     "checksum": "e6c0b624b988acc1a5e104086c17b68b",
     "grade": false,
     "grade_id": "question17-q8-_cell-fe7c10637f29d2ba",
     "locked": false,
     "schema_version": 3,
     "solution": true,
     "task": false
    }
   },
   "outputs": [],
   "source": [
    "\n",
    "def soustrait(matrice):\n",
    "    s=matrice[4,:]\n",
    "    matrice=matrice - s\n",
    "    return matrice"
   ]
  },
  {
   "cell_type": "code",
   "execution_count": 36,
   "metadata": {
    "deletable": false,
    "editable": false,
    "nbgrader": {
     "cell_type": "code",
     "checksum": "1451ba7a201f5d5417005854dbd10bd4",
     "grade": true,
     "grade_id": "question17-q8-_cell-a67705c1a209c384",
     "locked": true,
     "points": 1,
     "schema_version": 3,
     "solution": false,
     "task": false
    }
   },
   "outputs": [
    {
     "name": "stdout",
     "output_type": "stream",
     "text": [
      "\u001b[92m Ok - Tous les tests sont validés.\u001b[00m\n"
     ]
    }
   ],
   "source": [
    "\n",
    "# Ce bloc permet de valider votre code. Vous devez l'exécuter mais ne pas le modifier.  \n",
    "try:\n",
    "\n",
    "    mat = np.arange(7*3).reshape(-1,3)\n",
    "    res = soustrait(mat)\n",
    "    np.testing.assert_equal(res.shape,mat.shape)\n",
    "    np.testing.assert_almost_equal(np.sum(res),np.sum(mat)-7*np.sum(mat[4]))\n",
    "    \n",
    "except Exception as e: \n",
    "    print(\"\\033[91m {}\\033[00m\" .format('KO - Au moins un test n\\'est pas validé')) \n",
    "    print('Information sur le test non valide:')\n",
    "    print(e)\n",
    "    raise e\n",
    "else:\n",
    "    print(\"\\033[92m {}\\033[00m\" .format('Ok - Tous les tests sont validés.')) \n"
   ]
  },
  {
   "cell_type": "markdown",
   "metadata": {
    "deletable": false,
    "editable": false,
    "nbgrader": {
     "cell_type": "markdown",
     "checksum": "d89c28b4425725471705bb859678d713",
     "grade": false,
     "grade_id": "question13-q4-_cell-a414d9831061b6",
     "locked": true,
     "schema_version": 3,
     "solution": false,
     "task": false
    }
   },
   "source": [
    "Question 17: \n",
    "Écrivez une fonction qui prend en entrée une matrice, et qui retourne la sous-matrice de taille $(7,7)$ qui forme le coin en bas à gauche de la matrice.\n",
    "\n",
    "<span style=\"color:teal\"> Exemple</span> <br>\n",
    "Pour une matrice:\n",
    "```\n",
    "[[6 3 6 1 4 1 1 1 5 4 5 5 5 2 2 5 2 5 2 2]\n",
    " [1 5 5 1 5 6 3 6 5 4 5 4 1 4 1 4 6 1 2 2]\n",
    " [2 6 3 6 2 5 3 1 3 5 2 1 6 4 5 1 6 1 3 3]\n",
    " [6 4 1 4 6 3 5 6 2 1 4 5 4 2 6 1 3 2 5 6]\n",
    " [2 2 3 2 3 5 2 6 6 4 6 3 5 4 5 4 1 5 4 6]\n",
    " [1 5 3 6 5 1 2 5 4 6 3 3 2 5 3 4 6 2 1 3]\n",
    " [5 5 4 2 5 4 6 6 5 3 5 3 4 6 4 4 2 4 5 3]\n",
    " [3 2 6 5 1 5 4 2 6 1 3 5 6 1 6 5 4 3 6 3]\n",
    " [6 6 1 4 1 4 4 4 2 2 4 6 1 6 4 4 2 2 4 4]\n",
    " [2 1 1 2 4 2 3 4 2 1 3 5 2 6 3 3 2 3 6 4]\n",
    " [5 5 1 3 6 1 3 5 5 1 6 4 6 6 4 5 6 2 1 3]\n",
    " [6 6 6 4 2 1 4 6 1 2 4 4 6 3 4 2 5 4 5 2]\n",
    " [5 6 1 1 2 3 3 1 3 4 6 6 1 5 3 4 3 6 6 3]\n",
    " [4 4 3 4 6 3 6 6 4 4 1 5 4 2 3 6 6 3 6 4]\n",
    " [4 1 1 6 4 5 3 1 3 1 6 1 3 2 4 3 5 1 6 6]\n",
    " [5 3 5 1 6 1 3 3 4 1 1 1 1 6 5 3 2 6 3 5]\n",
    " [4 6 5 2 2 6 1 3 1 3 2 5 2 6 1 6 2 4 6 2]\n",
    " [6 1 2 2 5 1 3 5 6 1 1 6 3 5 6 1 5 2 2 4]\n",
    " [1 3 5 3 1 3 6 2 3 1 6 6 6 5 5 4 6 3 1 3]\n",
    " [4 1 3 3 5 3 5 5 4 3 1 5 2 3 3 1 1 6 3 1]]\n",
    "```\n",
    "<br>\n",
    "\n",
    "le coin en bas à gauche est :\n",
    "```\n",
    "[[4 4 3 4 6 3 6]\n",
    " [4 1 1 6 4 5 3]\n",
    " [5 3 5 1 6 1 3]\n",
    " [4 6 5 2 2 6 1]\n",
    " [6 1 2 2 5 1 3]\n",
    " [1 3 5 3 1 3 6]\n",
    " [4 1 3 3 5 3 5]]\n",
    "```\n"
   ]
  },
  {
   "cell_type": "code",
   "execution_count": 37,
   "metadata": {
    "deletable": false,
    "nbgrader": {
     "cell_type": "code",
     "checksum": "48ded63d69fc355d1a5112f689944e37",
     "grade": false,
     "grade_id": "question13-q4-_cell-f75c93a4b5cfbb45",
     "locked": false,
     "schema_version": 3,
     "solution": true,
     "task": false
    }
   },
   "outputs": [],
   "source": [
    " \n",
    "def extraire(matrice):\n",
    "    matrice=matrice[-7:,0:7]\n",
    "    return matrice\n",
    "\n"
   ]
  },
  {
   "cell_type": "code",
   "execution_count": 38,
   "metadata": {
    "deletable": false,
    "editable": false,
    "nbgrader": {
     "cell_type": "code",
     "checksum": "d054ea59b36f9ad85a5e8305ee29c4bf",
     "grade": true,
     "grade_id": "question13-q4-_cell-75741db21f8d4040",
     "locked": true,
     "points": 1,
     "schema_version": 3,
     "solution": false,
     "task": false
    }
   },
   "outputs": [
    {
     "name": "stdout",
     "output_type": "stream",
     "text": [
      "\u001b[92m Ok - Tous les tests sont validés.\u001b[00m\n"
     ]
    }
   ],
   "source": [
    "\n",
    "# Ce bloc permet de valider votre code. Vous devez l'exécuter mais ne pas le modifier.  \n",
    "try:\n",
    "\n",
    "    matrice = np.random.randint(1,7,size=(20,20))\n",
    "    res = extraire(matrice)\n",
    "    np.testing.assert_equal(res.shape,(7,7))\n",
    "    if 0==0:\n",
    "        np.testing.assert_equal(res[-1,0],matrice[-1,0])\n",
    "    elif 0==1:\n",
    "        np.testing.assert_equal(res[-1,-1],matrice[-1,-1])\n",
    "    else:\n",
    "        np.testing.assert_equal(res[0,-1],matrice[0,-1])\n",
    "    \n",
    "except Exception as e: \n",
    "    print(\"\\033[91m {}\\033[00m\" .format('KO - Au moins un test n\\'est pas validé')) \n",
    "    print('Information sur le test non valide:')\n",
    "    print(e)\n",
    "    raise e\n",
    "else:\n",
    "    print(\"\\033[92m {}\\033[00m\" .format('Ok - Tous les tests sont validés.')) \n"
   ]
  },
  {
   "cell_type": "markdown",
   "metadata": {
    "deletable": false,
    "editable": false,
    "nbgrader": {
     "cell_type": "markdown",
     "checksum": "29848515191d79a030e48ec85cf3b955",
     "grade": false,
     "grade_id": "question20-q11-_cell-4b5ea42fdc524151",
     "locked": true,
     "schema_version": 3,
     "solution": false,
     "task": false
    }
   },
   "source": [
    "Question 18: \n",
    "Ecrire une fonction `mesure` qui retourne la norme euclidienne d'un vecteur de taille quelconque.\n"
   ]
  },
  {
   "cell_type": "code",
   "execution_count": 39,
   "metadata": {
    "deletable": false,
    "nbgrader": {
     "cell_type": "code",
     "checksum": "bd3ee4bbf6108e5c8a210e286ba32568",
     "grade": false,
     "grade_id": "question20-q11-_cell-4fc2a3af920da90d",
     "locked": false,
     "schema_version": 3,
     "solution": true,
     "task": false
    }
   },
   "outputs": [],
   "source": [
    "\n",
    "def mesure(x):\n",
    "    return np.linalg.norm(x)\n"
   ]
  },
  {
   "cell_type": "code",
   "execution_count": 40,
   "metadata": {
    "deletable": false,
    "editable": false,
    "nbgrader": {
     "cell_type": "code",
     "checksum": "7bfffa4f993a7441a6fd5621003ae852",
     "grade": true,
     "grade_id": "question20-q11-_cell-729c3a3cc8d9254f",
     "locked": true,
     "points": 1,
     "schema_version": 3,
     "solution": false,
     "task": false
    }
   },
   "outputs": [
    {
     "name": "stdout",
     "output_type": "stream",
     "text": [
      "\u001b[92m Ok - Tous les tests sont validés.\u001b[00m\n"
     ]
    }
   ],
   "source": [
    "\n",
    "# Ce bloc permet de valider votre code. Vous devez l'exécuter mais ne pas le modifier.  \n",
    "try:\n",
    "\n",
    "    \n",
    "    x = np.arange(2)\n",
    "    d1 = mesure(x)\n",
    "    \n",
    "    np.testing.assert_equal(d1,1.0)\n",
    "    \n",
    "except Exception as e: \n",
    "    print(\"\\033[91m {}\\033[00m\" .format('KO - Au moins un test n\\'est pas validé')) \n",
    "    print('Information sur le test non valide:')\n",
    "    print(e)\n",
    "    raise e\n",
    "else:\n",
    "    print(\"\\033[92m {}\\033[00m\" .format('Ok - Tous les tests sont validés.')) \n"
   ]
  },
  {
   "cell_type": "markdown",
   "metadata": {
    "deletable": false,
    "editable": false,
    "nbgrader": {
     "cell_type": "markdown",
     "checksum": "bbd6e28f7e6cd9bc6ba461292cc79207",
     "grade": false,
     "grade_id": "question6-qy7-_cell-add09ffd5713ac22",
     "locked": true,
     "schema_version": 3,
     "solution": false,
     "task": false
    }
   },
   "source": [
    "Question 19: Étant donnée une matrice `M`, écrivez une fonction retournant tous les indices de(s) ligne(s) de `M` contenant la valeur minimale .\n",
    "    \n",
    "<span style=\"color:teal\">Exemple :</span> <br>\n",
    "Pour la matrice:\n",
    "```\n",
    "[[45 22 34 13 36  8 12]\n",
    " [ 7 49 18  8 48 15 13]\n",
    " [30 24  8 14 52 55 48]\n",
    " [38 22 39 17 32 33 12]\n",
    " [41 16 27  7 25 29 23]\n",
    " [ 6 45 36 24 47 34 36]\n",
    " [12 40 51 40 29 30 17]\n",
    " [ 7 47 41 27 21 39 30]]\n",
    "```\n",
    "\n",
    "la valeur minimale (ici 6) se trouve aux ligne d'indices: `[5]`.\n",
    "    "
   ]
  },
  {
   "cell_type": "code",
   "execution_count": 60,
   "metadata": {
    "deletable": false,
    "nbgrader": {
     "cell_type": "code",
     "checksum": "ed1474d3c778af5b6fe8f4577ff0278f",
     "grade": false,
     "grade_id": "question6-qy7-_cell-6388f9ef98e08eb2",
     "locked": false,
     "schema_version": 3,
     "solution": true,
     "task": false
    }
   },
   "outputs": [
    {
     "name": "stdout",
     "output_type": "stream",
     "text": [
      "[5]\n"
     ]
    }
   ],
   "source": [
    "\n",
    "def fct(M):\n",
    "    m=np.argwhere(M == np.min(M))\n",
    "    return m[:,0]\n",
    "    \n",
    "\n",
    "v=np.array([[45, 22, 34, 13 ,36 , 8 ,12],\n",
    "            [ 7, 49, 18 , 8, 48 ,15 ,13],\n",
    "            [30 ,24 , 8 ,14, 52, 55 ,48],\n",
    "            [38, 22, 39, 17, 32, 33 ,12],\n",
    "            [41, 16, 27 , 7, 25 ,29, 23],\n",
    "            [ 6 ,45 ,36, 24, 47, 34, 36],\n",
    "            [12 ,40, 51, 40, 29, 30, 17],\n",
    "            [ 7 ,47 ,41 ,27 ,21 ,39, 30]])\n",
    "res=fct(v)\n",
    "print(res)\n"
   ]
  },
  {
   "cell_type": "code",
   "execution_count": 61,
   "metadata": {
    "deletable": false,
    "editable": false,
    "nbgrader": {
     "cell_type": "code",
     "checksum": "156034e27a7ae405ba9723ae83d77a67",
     "grade": true,
     "grade_id": "question6-qy7-_cell-eef67ed95c449010",
     "locked": true,
     "points": 1,
     "schema_version": 3,
     "solution": false,
     "task": false
    }
   },
   "outputs": [
    {
     "name": "stdout",
     "output_type": "stream",
     "text": [
      "\u001b[92m Ok - Tous les tests sont validés.\u001b[00m\n"
     ]
    }
   ],
   "source": [
    "\n",
    "# Ce bloc permet de valider votre code. Vous devez l'exécuter mais ne pas le modifier.  \n",
    "try:\n",
    "    M = np.array([[45, 22, 34, 13, 36,  8, 12],\n",
    "           [ 7, 49, 18,  8, 48, 15, 13],\n",
    "           [30, 24,  8, 14, 52, 55, 48],\n",
    "           [38, 22, 39, 17, 32, 33, 12],\n",
    "           [41, 16, 27,  7, 25, 29, 23],\n",
    "           [ 6, 45, 36, 24, 47, 34, 36],\n",
    "           [12, 40, 51, 40, 29, 30, 17],\n",
    "           [ 7, 47, 41, 27, 21, 39, 30]])\n",
    "    res = fct(M)\n",
    "    np.testing.assert_equal(len(res),1,'Nombre de sortie incorrecte.')\n",
    "    np.testing.assert_equal(res,np.array([5]),'Exemple incorrect.')\n",
    "    \n",
    "except Exception as e: \n",
    "    print(\"\\033[91m {}\\033[00m\" .format('KO - Au moins un test n\\'est pas validé')) \n",
    "    print('Information sur le test non valide:')\n",
    "    print(e)\n",
    "    raise e\n",
    "else:\n",
    "    print(\"\\033[92m {}\\033[00m\" .format('Ok - Tous les tests sont validés.')) \n"
   ]
  },
  {
   "cell_type": "markdown",
   "metadata": {
    "deletable": false,
    "editable": false,
    "nbgrader": {
     "cell_type": "markdown",
     "checksum": "3035524ef736816e9230e52574abd1c1",
     "grade": false,
     "grade_id": "question18-q9-_cell-ec25f8c5afc22459",
     "locked": true,
     "schema_version": 3,
     "solution": false,
     "task": false
    }
   },
   "source": [
    "Question 20: \n",
    "Écrire une fonction qui prend en entrée un vecteur dont la longueur est un multiple de 3,\n",
    "et qui retourne le minimum de chaque séquence de 3 éléments consécutifs.\n",
    "\n",
    "<span style=\"color:teal\">Exemple :</span> <br>\n",
    "`[11 14  0 10  7 10  3  7 13 14  3  6 11  3  8  6  8  1  4  3  6 13 12 13\n",
    "  1 14  4 13  5 10]`\n",
    "\n",
    "a pour sortie\n",
    "\n",
    "`[ 0  7  3  3  3  1  3 12  1  5]`\n"
   ]
  },
  {
   "cell_type": "code",
   "execution_count": 43,
   "metadata": {
    "deletable": false,
    "nbgrader": {
     "cell_type": "code",
     "checksum": "17e82d49b58e6df96d7257bff64d36af",
     "grade": false,
     "grade_id": "question18-q9-_cell-9cb3268e92f38aaa",
     "locked": false,
     "schema_version": 3,
     "solution": true,
     "task": false
    }
   },
   "outputs": [],
   "source": [
    "\n",
    "def consecutif(vecteur):\n",
    "    v=vecteur.reshape((-1,3))\n",
    "    return np.min(v,axis=1)\n",
    "    \n",
    "    \n"
   ]
  },
  {
   "cell_type": "code",
   "execution_count": 44,
   "metadata": {
    "deletable": false,
    "editable": false,
    "nbgrader": {
     "cell_type": "code",
     "checksum": "ae1497550ec47cd51ab6aafce1ea6dd1",
     "grade": true,
     "grade_id": "question18-q9-_cell-5f6f19a8d5a21bb",
     "locked": true,
     "points": 1,
     "schema_version": 3,
     "solution": false,
     "task": false
    }
   },
   "outputs": [
    {
     "name": "stdout",
     "output_type": "stream",
     "text": [
      "\u001b[92m Ok - Tous les tests sont validés.\u001b[00m\n"
     ]
    }
   ],
   "source": [
    "\n",
    "# Ce bloc permet de valider votre code. Vous devez l'exécuter mais ne pas le modifier.  \n",
    "try:\n",
    "\n",
    "    vv = np.random.randint(1,15,8*3)\n",
    "    res = consecutif(vv)\n",
    "    np.testing.assert_equal(len(vv),3*len(res))\n",
    "    np.testing.assert_equal(res[2:],consecutif(vv[(2*3):]))\n",
    "    \n",
    "except Exception as e: \n",
    "    print(\"\\033[91m {}\\033[00m\" .format('KO - Au moins un test n\\'est pas validé')) \n",
    "    print('Information sur le test non valide:')\n",
    "    print(e)\n",
    "    raise e\n",
    "else:\n",
    "    print(\"\\033[92m {}\\033[00m\" .format('Ok - Tous les tests sont validés.')) \n"
   ]
  },
  {
   "cell_type": "markdown",
   "metadata": {
    "deletable": false,
    "editable": false,
    "nbgrader": {
     "cell_type": "markdown",
     "checksum": "ecbc910a9072c96a32de0f8b660b4e6a",
     "grade": false,
     "grade_id": "question7-qy8-_cell-3e1f3f3a1a5ba9c2",
     "locked": true,
     "schema_version": 3,
     "solution": false,
     "task": false
    }
   },
   "source": [
    "Question 21: \n",
    "\n",
    "Étant donné un vecteur `v`, écrivez une fonction qui remplace tous les éléments de `v` qui sont inférieurs à 6 par -3, et tous les éléments qui sont supérieurs à 18 par 2.\n",
    "\n",
    "<span style=\"color:teal\">Exemple :</span> <br>\n",
    "`[ 3 13  6 18  8  9 19 11]`\n",
    "\n",
    "a pour sortie:\n",
    "\n",
    "`[-3 13  6 18  8  9  2 11]`\n",
    "    "
   ]
  },
  {
   "cell_type": "code",
   "execution_count": 45,
   "metadata": {
    "deletable": false,
    "nbgrader": {
     "cell_type": "code",
     "checksum": "3a92ea102002e0c12c36d9869a994041",
     "grade": false,
     "grade_id": "question7-qy8-_cell-b20b808309759005",
     "locked": false,
     "schema_version": 3,
     "solution": true,
     "task": false
    }
   },
   "outputs": [],
   "source": [
    "\n",
    "def fct(v):\n",
    "    v[v<6],v[v>18]=-3,2\n",
    "    return v\n"
   ]
  },
  {
   "cell_type": "code",
   "execution_count": 46,
   "metadata": {
    "deletable": false,
    "editable": false,
    "nbgrader": {
     "cell_type": "code",
     "checksum": "1ba189b1c1697ab89a8552d9a2e67208",
     "grade": true,
     "grade_id": "question7-qy8-_cell-8aae18f170b9c050",
     "locked": true,
     "points": 1,
     "schema_version": 3,
     "solution": false,
     "task": false
    }
   },
   "outputs": [
    {
     "name": "stdout",
     "output_type": "stream",
     "text": [
      "\u001b[92m Ok - Tous les tests sont validés.\u001b[00m\n"
     ]
    }
   ],
   "source": [
    "\n",
    "# Ce bloc permet de valider votre code. Vous devez l'exécuter mais ne pas le modifier.  \n",
    "try:\n",
    "    v = np.array([ 3, 13,  6, 18,  8,  9, 19, 11])\n",
    "    res = fct(v)\n",
    "    np.testing.assert_equal(res,np.array([-3, 13,  6, 18,  8,  9,  2, 11]),'Exemple incorrect.')\n",
    "    \n",
    "except Exception as e: \n",
    "    print(\"\\033[91m {}\\033[00m\" .format('KO - Au moins un test n\\'est pas validé')) \n",
    "    print('Information sur le test non valide:')\n",
    "    print(e)\n",
    "    raise e\n",
    "else:\n",
    "    print(\"\\033[92m {}\\033[00m\" .format('Ok - Tous les tests sont validés.')) \n"
   ]
  },
  {
   "cell_type": "markdown",
   "metadata": {
    "deletable": false,
    "editable": false,
    "nbgrader": {
     "cell_type": "markdown",
     "checksum": "5782ea668722b9f2c1731af5a01c72f9",
     "grade": false,
     "grade_id": "question9-qy10-_cell-d57717248a6821b6",
     "locked": true,
     "schema_version": 3,
     "solution": false,
     "task": false
    }
   },
   "source": [
    "Question 22: \n",
    "\n",
    "Étant donné un vecteur, écrivez une fonction qui détermine si ce vecteur est strictement décroissant ou non. Pour cette question, vous pouvez utiliser une convolution pour calculer la soustraction entre valeur consécutive et en déduire le résultat attendu.\n",
    " \n",
    "<span style=\"color:teal\">Exemple :</span> <br>\n",
    "Sur l'entrée `[29 28 21 18 13 11  8  4  2]` est renvoyé True\n",
    "\n"
   ]
  },
  {
   "cell_type": "markdown",
   "id": "90f9bd1f",
   "metadata": {},
   "source": []
  },
  {
   "cell_type": "code",
   "execution_count": 47,
   "metadata": {
    "deletable": false,
    "nbgrader": {
     "cell_type": "code",
     "checksum": "4fd65b99a211d440203456172afe778d",
     "grade": false,
     "grade_id": "question9-qy10-_cell-6042dd8af2911a98",
     "locked": false,
     "schema_version": 3,
     "solution": true,
     "task": false
    }
   },
   "outputs": [],
   "source": [
    "\n",
    "def fct(v):\n",
    "    v1 = v[0:-1]\n",
    "    v2 = v[1:]\n",
    "    return np.all((v1-v2)>0)\n",
    "    \n"
   ]
  },
  {
   "cell_type": "code",
   "execution_count": 48,
   "metadata": {
    "deletable": false,
    "editable": false,
    "nbgrader": {
     "cell_type": "code",
     "checksum": "5ffbff64626d36e5bbae71504236339b",
     "grade": true,
     "grade_id": "question9-qy10-_cell-57644da03ec66b9e",
     "locked": true,
     "points": 1,
     "schema_version": 3,
     "solution": false,
     "task": false
    }
   },
   "outputs": [
    {
     "name": "stdout",
     "output_type": "stream",
     "text": [
      "\u001b[92m Ok - Tous les tests sont validés.\u001b[00m\n"
     ]
    }
   ],
   "source": [
    "\n",
    "# Ce bloc permet de valider votre code. Vous devez l'exécuter mais ne pas le modifier.  \n",
    "try:\n",
    "    v = np.array([29, 28, 21, 18, 13, 11,  8,  4,  2])\n",
    "    res = fct(v)\n",
    "    np.testing.assert_equal(res,True,'Exemple incorrect.')\n",
    "    \n",
    "except Exception as e: \n",
    "    print(\"\\033[91m {}\\033[00m\" .format('KO - Au moins un test n\\'est pas validé')) \n",
    "    print('Information sur le test non valide:')\n",
    "    print(e)\n",
    "    raise e\n",
    "else:\n",
    "    print(\"\\033[92m {}\\033[00m\" .format('Ok - Tous les tests sont validés.')) \n"
   ]
  },
  {
   "cell_type": "markdown",
   "metadata": {
    "deletable": false,
    "editable": false,
    "nbgrader": {
     "cell_type": "markdown",
     "checksum": "e22b423a2363fd7162edfddb0cfab0d8",
     "grade": false,
     "grade_id": "question2-qy3-_cell-12ac9e6103aeb387",
     "locked": true,
     "schema_version": 3,
     "solution": false,
     "task": false
    }
   },
   "source": [
    "Question 23: Écrivez une fonction qui retourne les 5 plus petits éléments d'un vecteur `v` trié du plus petit au plus grand.\n",
    "\n",
    "<span style=\"color:teal\">Exemple :</span> <br>\n",
    "\n",
    "Les 5 plus petits éléments de `[13 56 16 24 54 29 22  4  0 13 60 40]` sont `[ 0  4 13 13 16]`\n",
    "    "
   ]
  },
  {
   "cell_type": "code",
   "execution_count": 49,
   "metadata": {
    "deletable": false,
    "nbgrader": {
     "cell_type": "code",
     "checksum": "8bb7990b9075a2c843e8ef8486aa7b87",
     "grade": false,
     "grade_id": "question2-qy3-_cell-4d31fbbb0abb28d5",
     "locked": false,
     "schema_version": 3,
     "solution": true,
     "task": false
    }
   },
   "outputs": [],
   "source": [
    "\n",
    "def fct(v):\n",
    "    v=np.sort(v)\n",
    "    v=v[0:5]\n",
    "    return v"
   ]
  },
  {
   "cell_type": "code",
   "execution_count": 50,
   "metadata": {
    "deletable": false,
    "editable": false,
    "nbgrader": {
     "cell_type": "code",
     "checksum": "9a301b2b7966b4a32ef4eb05ae5ed5c4",
     "grade": true,
     "grade_id": "question2-qy3-_cell-6c1ecdd451993e80",
     "locked": true,
     "points": 1,
     "schema_version": 3,
     "solution": false,
     "task": false
    }
   },
   "outputs": [
    {
     "name": "stdout",
     "output_type": "stream",
     "text": [
      "\u001b[92m Ok - Tous les tests sont validés.\u001b[00m\n"
     ]
    }
   ],
   "source": [
    "\n",
    "# Ce bloc permet de valider votre code. Vous devez l'exécuter mais ne pas le modifier.  \n",
    "try:\n",
    "    v = np.array([13, 56, 16, 24, 54, 29, 22,  4,  0, 13, 60, 40])\n",
    "    res = fct(v)\n",
    "    np.testing.assert_equal(len(res),5,'Taille du vecteur incorrect.')\n",
    "    np.testing.assert_equal(res,np.array([ 0,  4, 13, 13, 16]),'Exemple incorrect.')\n",
    "    \n",
    "except Exception as e: \n",
    "    print(\"\\033[91m {}\\033[00m\" .format('KO - Au moins un test n\\'est pas validé')) \n",
    "    print('Information sur le test non valide:')\n",
    "    print(e)\n",
    "    raise e\n",
    "else:\n",
    "    print(\"\\033[92m {}\\033[00m\" .format('Ok - Tous les tests sont validés.')) \n"
   ]
  },
  {
   "cell_type": "markdown",
   "metadata": {
    "deletable": false,
    "editable": false,
    "nbgrader": {
     "cell_type": "markdown",
     "checksum": "824263c379d8ef129417b64dfa004520",
     "grade": false,
     "grade_id": "question0-qy1-_cell-ffdacc4795b23bd9",
     "locked": true,
     "schema_version": 3,
     "solution": false,
     "task": false
    }
   },
   "source": [
    "Question 24: \n",
    "Écrivez une fonction prenant en entrée un vecteur et retournant un tableau de tous les éléments qui sont strictement supérieurs à 4.\n",
    "\n",
    "<span style=\"color:teal\">Exemple :</span> <br>\n",
    "`[6 4 0 6 2 5 0 3 6]` a pour sortie `[6 6 5 6]`\n",
    "    "
   ]
  },
  {
   "cell_type": "code",
   "execution_count": 51,
   "metadata": {
    "deletable": false,
    "nbgrader": {
     "cell_type": "code",
     "checksum": "cf7124cddecbe1e5bc36cabc7a64c2d1",
     "grade": false,
     "grade_id": "question0-qy1-_cell-4a064797b626b209",
     "locked": false,
     "schema_version": 3,
     "solution": true,
     "task": false
    }
   },
   "outputs": [],
   "source": [
    "\n",
    "def fct(v):\n",
    "    v=v[v>4]\n",
    "    return v\n"
   ]
  },
  {
   "cell_type": "code",
   "execution_count": 52,
   "metadata": {
    "deletable": false,
    "editable": false,
    "nbgrader": {
     "cell_type": "code",
     "checksum": "ccd77f4bc94cd05d4b27a4810de00c9b",
     "grade": true,
     "grade_id": "question0-qy1-_cell-8d20e91199f7450f",
     "locked": true,
     "points": 1,
     "schema_version": 3,
     "solution": false,
     "task": false
    }
   },
   "outputs": [
    {
     "name": "stdout",
     "output_type": "stream",
     "text": [
      "\u001b[92m Ok - Tous les tests sont validés.\u001b[00m\n"
     ]
    }
   ],
   "source": [
    "\n",
    "# Ce bloc permet de valider votre code. Vous devez l'exécuter mais ne pas le modifier.  \n",
    "try:\n",
    "\n",
    "    \n",
    "    v = np.array([6,4,0,6,2,5,0,3,6])\n",
    "    np.testing.assert_equal(fct(v),np.array([6,6,5,6]))\n",
    "    \n",
    "except Exception as e: \n",
    "    print(\"\\033[91m {}\\033[00m\" .format('KO - Au moins un test n\\'est pas validé')) \n",
    "    print('Information sur le test non valide:')\n",
    "    print(e)\n",
    "    raise e\n",
    "else:\n",
    "    print(\"\\033[92m {}\\033[00m\" .format('Ok - Tous les tests sont validés.')) \n"
   ]
  },
  {
   "cell_type": "markdown",
   "metadata": {
    "deletable": false,
    "editable": false,
    "nbgrader": {
     "cell_type": "markdown",
     "checksum": "7189241fbfb4c338a6be87bbc1f5afb6",
     "grade": false,
     "grade_id": "question22-q13-_cell-a54fd014525fe87a",
     "locked": true,
     "schema_version": 3,
     "solution": false,
     "task": false
    }
   },
   "source": [
    "Question 25: \n",
    "En utilisant le mécanisme de broadcasting, écrire une fonction `distance_minkowski_matrix` prenant en entrée une matrice\n",
    "`P` de $n$ lignes (points) et $k$ colonnes (coordonnées) et qui renvois la matrice `D` de taille $n \\times n$ tel que $D_{i,j} = \\left(\\sum_{c=1}^k \\left(P_{i,c}-P_{j,c}\\right)^6\\right)^\\frac{1}{6}$ .\n"
   ]
  },
  {
   "cell_type": "code",
   "execution_count": 1,
   "metadata": {
    "deletable": false,
    "nbgrader": {
     "cell_type": "code",
     "checksum": "627dc16ba3c6b24fadedc01d1abed0bc",
     "grade": false,
     "grade_id": "question22-q13-_cell-f3aee433db518d2d",
     "locked": false,
     "schema_version": 3,
     "solution": true,
     "task": false
    }
   },
   "outputs": [],
   "source": [
    "\n",
    "def distance_minkowski_matrix(P):\n",
    "    tmp = P[::,np.newaxis]\n",
    "    tmp = np.power((tmp-P),6)\n",
    "    D=np.power(np.sum(tmp,axis=2),1/6)\n",
    "    return D\n"
   ]
  },
  {
   "cell_type": "code",
   "execution_count": 2,
   "metadata": {
    "deletable": false,
    "editable": false,
    "nbgrader": {
     "cell_type": "code",
     "checksum": "1a3857d52f11c8fe6238b85b5aab9c6b",
     "grade": true,
     "grade_id": "question22-q13-_cell-10cb16c811e05a93",
     "locked": true,
     "points": 1,
     "schema_version": 3,
     "solution": false,
     "task": false
    }
   },
   "outputs": [
    {
     "name": "stdout",
     "output_type": "stream",
     "text": [
      "\u001b[91m KO - Au moins un test n'est pas validé\u001b[00m\n",
      "Information sur le test non valide:\n",
      "name 'np' is not defined\n"
     ]
    },
    {
     "ename": "NameError",
     "evalue": "name 'np' is not defined",
     "output_type": "error",
     "traceback": [
      "\u001b[0;31m---------------------------------------------------------------------------\u001b[0m",
      "\u001b[0;31mNameError\u001b[0m                                 Traceback (most recent call last)",
      "\u001b[0;32m/var/folders/4k/5fp6bv1d42dcxc4d2qz1gyb80000gn/T/ipykernel_5922/1510361329.py\u001b[0m in \u001b[0;36m<module>\u001b[0;34m\u001b[0m\n\u001b[1;32m     12\u001b[0m     \u001b[0mprint\u001b[0m\u001b[0;34m(\u001b[0m\u001b[0;34m'Information sur le test non valide:'\u001b[0m\u001b[0;34m)\u001b[0m\u001b[0;34m\u001b[0m\u001b[0;34m\u001b[0m\u001b[0m\n\u001b[1;32m     13\u001b[0m     \u001b[0mprint\u001b[0m\u001b[0;34m(\u001b[0m\u001b[0me\u001b[0m\u001b[0;34m)\u001b[0m\u001b[0;34m\u001b[0m\u001b[0;34m\u001b[0m\u001b[0m\n\u001b[0;32m---> 14\u001b[0;31m     \u001b[0;32mraise\u001b[0m \u001b[0me\u001b[0m\u001b[0;34m\u001b[0m\u001b[0;34m\u001b[0m\u001b[0m\n\u001b[0m\u001b[1;32m     15\u001b[0m \u001b[0;32melse\u001b[0m\u001b[0;34m:\u001b[0m\u001b[0;34m\u001b[0m\u001b[0;34m\u001b[0m\u001b[0m\n\u001b[1;32m     16\u001b[0m     \u001b[0mprint\u001b[0m\u001b[0;34m(\u001b[0m\u001b[0;34m\"\\033[92m {}\\033[00m\"\u001b[0m \u001b[0;34m.\u001b[0m\u001b[0mformat\u001b[0m\u001b[0;34m(\u001b[0m\u001b[0;34m'Ok - Tous les tests sont validés.'\u001b[0m\u001b[0;34m)\u001b[0m\u001b[0;34m)\u001b[0m\u001b[0;34m\u001b[0m\u001b[0;34m\u001b[0m\u001b[0m\n",
      "\u001b[0;32m/var/folders/4k/5fp6bv1d42dcxc4d2qz1gyb80000gn/T/ipykernel_5922/1510361329.py\u001b[0m in \u001b[0;36m<module>\u001b[0;34m\u001b[0m\n\u001b[1;32m      2\u001b[0m \u001b[0;32mtry\u001b[0m\u001b[0;34m:\u001b[0m\u001b[0;34m\u001b[0m\u001b[0;34m\u001b[0m\u001b[0m\n\u001b[1;32m      3\u001b[0m \u001b[0;34m\u001b[0m\u001b[0m\n\u001b[0;32m----> 4\u001b[0;31m     \u001b[0ma\u001b[0m \u001b[0;34m=\u001b[0m \u001b[0mnp\u001b[0m\u001b[0;34m.\u001b[0m\u001b[0mrandom\u001b[0m\u001b[0;34m.\u001b[0m\u001b[0mrandint\u001b[0m\u001b[0;34m(\u001b[0m\u001b[0;36m0\u001b[0m\u001b[0;34m,\u001b[0m\u001b[0;36m10\u001b[0m\u001b[0;34m,\u001b[0m\u001b[0;34m(\u001b[0m\u001b[0;36m10\u001b[0m\u001b[0;34m,\u001b[0m\u001b[0;36m2\u001b[0m\u001b[0;34m)\u001b[0m\u001b[0;34m)\u001b[0m\u001b[0;34m*\u001b[0m\u001b[0;36m2\u001b[0m\u001b[0;34m-\u001b[0m\u001b[0;36m1\u001b[0m\u001b[0;34m\u001b[0m\u001b[0;34m\u001b[0m\u001b[0m\n\u001b[0m\u001b[1;32m      5\u001b[0m     \u001b[0mb\u001b[0m \u001b[0;34m=\u001b[0m \u001b[0mdistance_minkowski_matrix\u001b[0m\u001b[0;34m(\u001b[0m\u001b[0ma\u001b[0m\u001b[0;34m)\u001b[0m\u001b[0;34m\u001b[0m\u001b[0;34m\u001b[0m\u001b[0m\n\u001b[1;32m      6\u001b[0m \u001b[0;34m\u001b[0m\u001b[0m\n",
      "\u001b[0;31mNameError\u001b[0m: name 'np' is not defined"
     ]
    }
   ],
   "source": [
    "\n",
    "# Ce bloc permet de valider votre code. Vous devez l'exécuter mais ne pas le modifier.  \n",
    "try:\n",
    "\n",
    "    a = np.random.randint(0,10,(10,2))*2-1\n",
    "    b = distance_minkowski_matrix(a)\n",
    "    \n",
    "    np.testing.assert_equal(b.shape,(10,10),err_msg='Dimensions non valident.')\n",
    "    np.testing.assert_almost_equal((b < 0.0).sum(), 0,err_msg='Les valeurs calculés sont fausses.')\n",
    "    \n",
    "except Exception as e: \n",
    "    print(\"\\033[91m {}\\033[00m\" .format('KO - Au moins un test n\\'est pas validé')) \n",
    "    print('Information sur le test non valide:')\n",
    "    print(e)\n",
    "    raise e\n",
    "else:\n",
    "    print(\"\\033[92m {}\\033[00m\" .format('Ok - Tous les tests sont validés.')) \n"
   ]
  },
  {
   "cell_type": "code",
   "execution_count": null,
   "metadata": {},
   "outputs": [],
   "source": []
  }
 ],
 "metadata": {
  "id_notebook": "7decc8ee424ad27",
  "kernelspec": {
   "display_name": "Python 3.9.13 ('base')",
   "language": "python",
   "name": "python3"
  },
  "language_info": {
   "codemirror_mode": {
    "name": "ipython",
    "version": 3
   },
   "file_extension": ".py",
   "mimetype": "text/x-python",
   "name": "python",
   "nbconvert_exporter": "python",
   "pygments_lexer": "ipython3",
   "version": "3.9.13"
  },
  "vscode": {
   "interpreter": {
    "hash": "a520eee76fb45144dce358d28e2553c46c04a72006c4708fb30a8f5e6598a7c9"
   }
  }
 },
 "nbformat": 4,
 "nbformat_minor": 5
}
