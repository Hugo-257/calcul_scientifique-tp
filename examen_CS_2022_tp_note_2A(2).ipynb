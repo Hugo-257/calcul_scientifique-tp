{
 "cells": [
  {
   "cell_type": "markdown",
   "metadata": {},
   "source": [
    "\n",
    "TP noté de Calcul scientifique\n",
    " =====\n",
    " \n",
    "1 - Consignes \n",
    "-----\n",
    "\n",
    "L'examen sera à réaliser en python 3. Les questions du sujet doivent être résolues uniquement avec des fonctions des librairies `numpy`, `scipy` et `matplotlib` vu durant l'année.\n",
    "\t\n",
    "**<span style=\"color:red\"> À part si cela est précisé, vous ne devez pas utiliser directement de boucle (`for`,`while`) ou de branchement conditionnel (`if`).</span>.**\n",
    "\n",
    "**<span style=\"color:red\"> \n",
    "Vous rendrez ce notebook en fin d'examen sur la plateforme ecampus sans en changer le nom. Les réponses sont à mettre dans le présent notebook et non dans un autre fichier.</span>**\n",
    "\n",
    "**<span style=\"color:red\"> \n",
    "Aucun envoi par mail ou soumission en retard ne sera accepté.</span>**\n",
    "\n",
    "**<span style=\"color:red\"> \n",
    "Vous devez avant tous avoir un code fonctionnel, ne perdez pas de temps sur des considérations esthétiques et supprimez les codes non fonctionnels.</span>**\n",
    "\n",
    "**<span style=\"color:red\"> \n",
    "Vous ne devez pas créer de nouveau bloque et vous répondrez aux questions uniquement dans les zones prévues.</span>**\n",
    "\n",
    "Gestion du temps:\n",
    "* Vous avez 2h30 pour traiter 25 questions, soit une moyenne de 6mn par question.\n",
    "* Il y a des questions faciles auquelles vous repondrez en moins de 5mn.\n",
    "* Vous pouvez toujours laisser une question en suspens pour y revenir après.\n",
    "* Ne restez jamais bloquez plus de 10 mn sur une même question, allez à la question suivante.\n",
    "* Le sujet n'est pas ordonné par difficulté. Des questions plus difficiles peuvent se trouver en début de sujet et des questions plus simple après.\n",
    "    \n",
    "\n",
    "2 - Sujet\n",
    "-----    \n",
    "    \n"
   ]
  },
  {
   "cell_type": "code",
   "execution_count": 3,
   "metadata": {},
   "outputs": [],
   "source": [
    "import numpy as np\n",
    "\n",
    "import scipy as sc\n",
    "import scipy.optimize\n",
    "import scipy.spatial\n",
    "import scipy.signal\n",
    "\n",
    "import matplotlib.pyplot as plt"
   ]
  },
  {
   "cell_type": "code",
   "execution_count": 3,
   "metadata": {
    "deletable": false
   },
   "outputs": [],
   "source": [
    "# À compléter\n",
    "id_etu = {\n",
    "    \"Nom\": \"ANTOINE\",\n",
    "    \"Prénom\": \"Evens\",\n",
    "    \"Numéro d'étudiant\": \"22209813\",\n",
    "    \"Groupe\": \"2A\"\n",
    "}    \n"
   ]
  },
  {
   "cell_type": "code",
   "execution_count": 4,
   "metadata": {
    "deletable": false,
    "editable": false
   },
   "outputs": [
    {
     "name": "stdout",
     "output_type": "stream",
     "text": [
      "\u001b[92m Ok - Tous les tests sont validés.\u001b[00m\n"
     ]
    }
   ],
   "source": [
    "\n",
    "# Ce bloc permet de valider votre code. Vous ne devez pas le modifier.  \n",
    "try:\n",
    "    assert len(id_etu['Nom'])>1,'Nom invalide'\n",
    "    assert len(id_etu['Prénom'])>1,'Prénom invalide'\n",
    "    assert any(chr.isdigit() for chr in id_etu[\"Numéro d'étudiant\"]),\"Numéro d'étudiant invalide\"\n",
    "    assert id_etu['Groupe'] in [str(i)+g for i in range(1,5) for g in 'AB' ],'Groupe invalide'\n",
    "    \n",
    "except Exception as e: \n",
    "    print(\"\\033[91m {}\\033[00m\" .format('KO - Au moins un test n\\'est pas validé')) \n",
    "    print('Information sur le test non valide:')\n",
    "    print(e)\n",
    "    #raise e\n",
    "else:\n",
    "    print(\"\\033[92m {}\\033[00m\" .format('Ok - Tous les tests sont validés.'))     \n",
    "    "
   ]
  },
  {
   "cell_type": "markdown",
   "metadata": {
    "deletable": false
   },
   "source": [
    "Zone de commentaires:"
   ]
  },
  {
   "cell_type": "raw",
   "metadata": {
    "deletable": false
   },
   "source": [
    "Vous pouvez écrire dans ce bloc des commentaires ou des remarques que vous pourriez avoir sur le sujet."
   ]
  },
  {
   "cell_type": "markdown",
   "metadata": {},
   "source": [
    "---"
   ]
  },
  {
   "cell_type": "markdown",
   "metadata": {
    "deletable": false,
    "editable": false,
    "nbgrader": {
     "cell_type": "markdown",
     "checksum": "aca44ea52585e04ff4bb9d93554c330b",
     "grade": false,
     "grade_id": "question2-qy3-_cell-2c2290d57cd0d5e8",
     "locked": true,
     "schema_version": 3,
     "solution": false,
     "task": false
    }
   },
   "source": [
    "Question 1: Écrivez une fonction qui retourne les 9 plus petits éléments d'un vecteur `v` trié du plus petit au plus grand.\n",
    "\n",
    "<span style=\"color:teal\">Exemple :</span> <br>\n",
    "\n",
    "Les 9 plus petits éléments de `[71 62 83 35 78 48 78 14 32 87  1  3]` sont `[ 1  3 14 32 35 48 62 71 78]`\n",
    "    "
   ]
  },
  {
   "cell_type": "code",
   "execution_count": 7,
   "metadata": {
    "deletable": false,
    "nbgrader": {
     "cell_type": "code",
     "checksum": "2f1c8f52c504040e328a464b864dec57",
     "grade": false,
     "grade_id": "question2-qy3-_cell-33f2da951c3cec1b",
     "locked": false,
     "schema_version": 3,
     "solution": true,
     "task": false
    }
   },
   "outputs": [
    {
     "data": {
      "text/plain": [
       "array([ 1,  3, 14, 32, 35, 48, 62, 71, 78])"
      ]
     },
     "execution_count": 7,
     "metadata": {},
     "output_type": "execute_result"
    }
   ],
   "source": [
    "\n",
    "def fct(v):\n",
    "    # YOUR CODE HERE\n",
    "    v=np.sort(v)\n",
    "    m=v[0:9]\n",
    "    return m\n",
    "\n",
    "v=np.array([71, 62 ,83 ,35 ,78, 48, 78, 14, 32, 87,  1,  3])\n",
    "fct(v)"
   ]
  },
  {
   "cell_type": "code",
   "execution_count": 8,
   "metadata": {
    "deletable": false,
    "editable": false,
    "nbgrader": {
     "cell_type": "code",
     "checksum": "abeb4a3ebd1b740b8b199c76b5c38fae",
     "grade": true,
     "grade_id": "question2-qy3-_cell-5808f5c867cbc1d7",
     "locked": true,
     "points": 1,
     "schema_version": 3,
     "solution": false,
     "task": false
    }
   },
   "outputs": [
    {
     "name": "stdout",
     "output_type": "stream",
     "text": [
      "\u001b[92m Ok - Tous les tests sont validés.\u001b[00m\n"
     ]
    }
   ],
   "source": [
    "\n",
    "# Ce bloc permet de valider votre code. Vous devez l'exécuter mais ne pas le modifier.  \n",
    "try:\n",
    "    v = np.array([71, 62, 83, 35, 78, 48, 78, 14, 32, 87,  1,  3])\n",
    "    res = fct(v)\n",
    "    np.testing.assert_equal(len(res),9,'Taille du vecteur incorrect.')\n",
    "    np.testing.assert_equal(res,np.array([ 1,  3, 14, 32, 35, 48, 62, 71, 78]),'Exemple incorrect.')\n",
    "    \n",
    "except Exception as e: \n",
    "    print(\"\\033[91m {}\\033[00m\" .format('KO - Au moins un test n\\'est pas validé')) \n",
    "    print('Information sur le test non valide:')\n",
    "    print(e)\n",
    "    raise e\n",
    "else:\n",
    "    print(\"\\033[92m {}\\033[00m\" .format('Ok - Tous les tests sont validés.')) \n"
   ]
  },
  {
   "cell_type": "markdown",
   "metadata": {
    "deletable": false,
    "editable": false,
    "nbgrader": {
     "cell_type": "markdown",
     "checksum": "af8695cfdd76ca80bc554e378f422442",
     "grade": false,
     "grade_id": "question0-qy1-_cell-2b5fcdee1dc747d8",
     "locked": true,
     "schema_version": 3,
     "solution": false,
     "task": false
    }
   },
   "source": [
    "Question 2: \n",
    "Écrivez une fonction prenant en entrée un vecteur et retournant un tableau de tous les éléments qui sont strictement inférieurs à 5.\n",
    "\n",
    "<span style=\"color:teal\">Exemple :</span> <br>\n",
    "`[6 6 4 4 2 0 2]` a pour sortie `[4 4 2 0 2]`\n",
    "    "
   ]
  },
  {
   "cell_type": "code",
   "execution_count": 9,
   "metadata": {
    "deletable": false,
    "nbgrader": {
     "cell_type": "code",
     "checksum": "da417f7e59b5dc3386f040ad1cb061ca",
     "grade": false,
     "grade_id": "question0-qy1-_cell-51146f0648d8227d",
     "locked": false,
     "schema_version": 3,
     "solution": true,
     "task": false
    }
   },
   "outputs": [],
   "source": [
    "\n",
    "def fct(v):\n",
    "    v=v[v<5]\n",
    "    return v\n"
   ]
  },
  {
   "cell_type": "code",
   "execution_count": 10,
   "metadata": {
    "deletable": false,
    "editable": false,
    "nbgrader": {
     "cell_type": "code",
     "checksum": "5d95d93b9219d98adb07cc3db076e784",
     "grade": true,
     "grade_id": "question0-qy1-_cell-c55f68b15ba9c480",
     "locked": true,
     "points": 1,
     "schema_version": 3,
     "solution": false,
     "task": false
    }
   },
   "outputs": [
    {
     "name": "stdout",
     "output_type": "stream",
     "text": [
      "\u001b[92m Ok - Tous les tests sont validés.\u001b[00m\n"
     ]
    }
   ],
   "source": [
    "\n",
    "# Ce bloc permet de valider votre code. Vous devez l'exécuter mais ne pas le modifier.  \n",
    "try:\n",
    "\n",
    "    \n",
    "    v = np.array([6,6,4,4,2,0,2])\n",
    "    np.testing.assert_equal(fct(v),np.array([4,4,2,0,2]))\n",
    "    \n",
    "except Exception as e: \n",
    "    print(\"\\033[91m {}\\033[00m\" .format('KO - Au moins un test n\\'est pas validé')) \n",
    "    print('Information sur le test non valide:')\n",
    "    print(e)\n",
    "    raise e\n",
    "else:\n",
    "    print(\"\\033[92m {}\\033[00m\" .format('Ok - Tous les tests sont validés.')) \n"
   ]
  },
  {
   "cell_type": "markdown",
   "metadata": {
    "deletable": false,
    "editable": false,
    "nbgrader": {
     "cell_type": "markdown",
     "checksum": "6e4c3db7a51a21c76c229c05524bc535",
     "grade": false,
     "grade_id": "question1-qy2-_cell-b533e5f92fb3e6a7",
     "locked": true,
     "schema_version": 3,
     "solution": false,
     "task": false
    }
   },
   "source": [
    "Question 3:  À partir de 2 vecteurs v1 et v2, construisez à l'aide du broadcasting la matrice des multiplications entre les valeurs des deux vecteurs. \n",
    "Par exemple pour les vecteurs `[30 40 50]`  et  `[1 2 3 4 5]` la matrice retournée est la suivante :\n",
    "\n",
    "```\n",
    "[[ 30  60  90 120 150]\n",
    " [ 40  80 120 160 200]\n",
    " [ 50 100 150 200 250]]\n",
    "```\n",
    "\n",
    "    "
   ]
  },
  {
   "cell_type": "code",
   "execution_count": 13,
   "metadata": {
    "deletable": false,
    "nbgrader": {
     "cell_type": "code",
     "checksum": "cffdc768e2d0a6d1f8a732ef35568949",
     "grade": false,
     "grade_id": "question1-qy2-_cell-9a8327b327e29ecb",
     "locked": false,
     "schema_version": 3,
     "solution": true,
     "task": false
    }
   },
   "outputs": [],
   "source": [
    "\n",
    "def fct(v1,v2):\n",
    "    v1=v1.reshape((-1,1))\n",
    "    v2=v2.reshape((-1,5))\n",
    "    v=v1*v2\n",
    "    return v\n"
   ]
  },
  {
   "cell_type": "code",
   "execution_count": 14,
   "metadata": {
    "deletable": false,
    "editable": false,
    "nbgrader": {
     "cell_type": "code",
     "checksum": "6b74e0e1cdf48f0fdbe262c61dd71dad",
     "grade": true,
     "grade_id": "question1-qy2-_cell-ff4491e9b7d563d4",
     "locked": true,
     "points": 1,
     "schema_version": 3,
     "solution": false,
     "task": false
    }
   },
   "outputs": [
    {
     "name": "stdout",
     "output_type": "stream",
     "text": [
      "\u001b[92m Ok - Tous les tests sont validés.\u001b[00m\n"
     ]
    }
   ],
   "source": [
    "\n",
    "# Ce bloc permet de valider votre code. Vous devez l'exécuter mais ne pas le modifier.  \n",
    "try:\n",
    "\n",
    "    v1 = np.array([30, 40, 50])\n",
    "    v2 = np.array([1, 2, 3, 4, 5])\n",
    "    res = fct(v1,v2)\n",
    "    np.testing.assert_equal(list(res.shape),(len(v1),len(v2)),'Taille de la matrice incorrecte.')\n",
    "    np.testing.assert_equal(res,np.array([[ 30,  60,  90, 120, 150],\n",
    "           [ 40,  80, 120, 160, 200],\n",
    "           [ 50, 100, 150, 200, 250]]),'Exemple incorrect.')\n",
    "    \n",
    "except Exception as e: \n",
    "    print(\"\\033[91m {}\\033[00m\" .format('KO - Au moins un test n\\'est pas validé')) \n",
    "    print('Information sur le test non valide:')\n",
    "    print(e)\n",
    "    raise e\n",
    "else:\n",
    "    print(\"\\033[92m {}\\033[00m\" .format('Ok - Tous les tests sont validés.')) \n"
   ]
  },
  {
   "cell_type": "markdown",
   "metadata": {
    "deletable": false,
    "editable": false,
    "nbgrader": {
     "cell_type": "markdown",
     "checksum": "6218cbfcdad48195990a5c75e5cc5ac1",
     "grade": false,
     "grade_id": "question23-q14-_cell-fd8f2ff5a95a9485",
     "locked": true,
     "schema_version": 3,
     "solution": false,
     "task": false
    }
   },
   "source": [
    "Question 4: \n",
    "Définir une fonction retournant un tableau `Y` contenant les 46 plus grandes valeurs du tableau x passé en argument triées par ordre décroissant.\n"
   ]
  },
  {
   "cell_type": "code",
   "execution_count": 15,
   "metadata": {
    "deletable": false,
    "nbgrader": {
     "cell_type": "code",
     "checksum": "14692a55edc76613716f31db94ffd794",
     "grade": false,
     "grade_id": "question23-q14-_cell-3a786565aace610e",
     "locked": false,
     "schema_version": 3,
     "solution": true,
     "task": false
    }
   },
   "outputs": [],
   "source": [
    "\n",
    "def f(x):\n",
    "    Y=x[-46:]\n",
    "    return Y\n"
   ]
  },
  {
   "cell_type": "code",
   "execution_count": 16,
   "metadata": {
    "deletable": false,
    "editable": false,
    "nbgrader": {
     "cell_type": "code",
     "checksum": "36a801281d5453e76e2862ce86a74bf3",
     "grade": true,
     "grade_id": "question23-q14-_cell-779cadd785fd5854",
     "locked": true,
     "points": 1,
     "schema_version": 3,
     "solution": false,
     "task": false
    }
   },
   "outputs": [
    {
     "name": "stdout",
     "output_type": "stream",
     "text": [
      "\u001b[92m Ok - Tous les tests sont validés.\u001b[00m\n"
     ]
    }
   ],
   "source": [
    "\n",
    "# Ce bloc permet de valider votre code. Vous devez l'exécuter mais ne pas le modifier.  \n",
    "try:\n",
    "\n",
    "    x = np.cos(np.arange(500)/14) * np.sin(np.arange(500)/54)\n",
    "    Y = f(x)\n",
    "    \n",
    "    np.testing.assert_equal(Y.shape,(46,))\n",
    "    np.testing.assert_equal(Y.max() < 1, True)\n",
    "    np.testing.assert_equal(Y.min() > -1, True)\n",
    "    \n",
    "except Exception as e: \n",
    "    print(\"\\033[91m {}\\033[00m\" .format('KO - Au moins un test n\\'est pas validé')) \n",
    "    print('Information sur le test non valide:')\n",
    "    print(e)\n",
    "    raise e\n",
    "else:\n",
    "    print(\"\\033[92m {}\\033[00m\" .format('Ok - Tous les tests sont validés.')) \n"
   ]
  },
  {
   "cell_type": "markdown",
   "metadata": {
    "deletable": false,
    "editable": false,
    "nbgrader": {
     "cell_type": "markdown",
     "checksum": "cc73011a9cd2167bd0a93cc1252cb4b4",
     "grade": false,
     "grade_id": "question6-qy7-_cell-c5e7a99a7b7eac1e",
     "locked": true,
     "schema_version": 3,
     "solution": false,
     "task": false
    }
   },
   "source": [
    "Question 5: Étant donnée une matrice `M`, écrivez une fonction retournant tous les indices de(s) colonne(s) de `M` contenant la valeur minimale .\n",
    "    \n",
    "<span style=\"color:teal\">Exemple :</span> <br>\n",
    "Pour la matrice:\n",
    "```\n",
    "[[13 32 24  4 23]\n",
    " [19 29 16 18 16]\n",
    " [14  3 10 31 37]\n",
    " [38 26 10 19 27]\n",
    " [20 12  9 35  5]\n",
    " [31 35 35  7 11]\n",
    " [22 38 27 14  8]\n",
    " [31 21 15 34 19]]\n",
    "```\n",
    "\n",
    "la valeur minimale (ici 3) se trouve aux colonne d'indices: `[1]`.\n",
    "    "
   ]
  },
  {
   "cell_type": "code",
   "execution_count": 17,
   "metadata": {
    "deletable": false,
    "nbgrader": {
     "cell_type": "code",
     "checksum": "84c8dbc754c356346bab511553e65082",
     "grade": false,
     "grade_id": "question6-qy7-_cell-fb9cf991467cb7ea",
     "locked": false,
     "schema_version": 3,
     "solution": true,
     "task": false
    }
   },
   "outputs": [],
   "source": [
    "\n",
    "def fct(M):\n",
    "    M=np.argwhere(M==np.min(M))\n",
    "    return M[:,1]\n"
   ]
  },
  {
   "cell_type": "code",
   "execution_count": 18,
   "metadata": {
    "deletable": false,
    "editable": false,
    "nbgrader": {
     "cell_type": "code",
     "checksum": "0bff2ceb56635d022491c2bf8efc8404",
     "grade": true,
     "grade_id": "question6-qy7-_cell-6a735e39c6909d0d",
     "locked": true,
     "points": 1,
     "schema_version": 3,
     "solution": false,
     "task": false
    }
   },
   "outputs": [
    {
     "name": "stdout",
     "output_type": "stream",
     "text": [
      "\u001b[92m Ok - Tous les tests sont validés.\u001b[00m\n"
     ]
    }
   ],
   "source": [
    "\n",
    "# Ce bloc permet de valider votre code. Vous devez l'exécuter mais ne pas le modifier.  \n",
    "try:\n",
    "    M = np.array([[13, 32, 24,  4, 23],\n",
    "           [19, 29, 16, 18, 16],\n",
    "           [14,  3, 10, 31, 37],\n",
    "           [38, 26, 10, 19, 27],\n",
    "           [20, 12,  9, 35,  5],\n",
    "           [31, 35, 35,  7, 11],\n",
    "           [22, 38, 27, 14,  8],\n",
    "           [31, 21, 15, 34, 19]])\n",
    "    res = fct(M)\n",
    "    np.testing.assert_equal(len(res),1,'Nombre de sortie incorrecte.')\n",
    "    np.testing.assert_equal(res,np.array([1]),'Exemple incorrect.')\n",
    "    \n",
    "except Exception as e: \n",
    "    print(\"\\033[91m {}\\033[00m\" .format('KO - Au moins un test n\\'est pas validé')) \n",
    "    print('Information sur le test non valide:')\n",
    "    print(e)\n",
    "    raise e\n",
    "else:\n",
    "    print(\"\\033[92m {}\\033[00m\" .format('Ok - Tous les tests sont validés.')) \n"
   ]
  },
  {
   "cell_type": "markdown",
   "metadata": {
    "deletable": false,
    "editable": false,
    "nbgrader": {
     "cell_type": "markdown",
     "checksum": "637b84a0436f7ae46910817118d66fd2",
     "grade": false,
     "grade_id": "question3-qy4-_cell-5b95c257db540a39",
     "locked": true,
     "schema_version": 3,
     "solution": false,
     "task": false
    }
   },
   "source": [
    "Question 6: \n",
    "Écrivez une fonction qui retourne la matrice construite en suivant les étapes suivantes:\n",
    "- Construire le vecteur `v` constitué des entiers de 13 à 29 (exclu).\n",
    "- Transformer `v` en la matrice suivante (en deux/trois instructions au plus).\n",
    "\n",
    "```\n",
    "[[28 24 20 16]\n",
    " [27 23 19 15]\n",
    " [26 22 18 14]\n",
    " [25 21 17 13]]\n",
    "```\n",
    "    "
   ]
  },
  {
   "cell_type": "code",
   "execution_count": 26,
   "metadata": {
    "deletable": false,
    "nbgrader": {
     "cell_type": "code",
     "checksum": "05121990ee139db4228ffa0f0caa9a1a",
     "grade": false,
     "grade_id": "question3-qy4-_cell-69859fdf7e45ace1",
     "locked": false,
     "schema_version": 3,
     "solution": true,
     "task": false
    }
   },
   "outputs": [
    {
     "data": {
      "text/plain": [
       "array([[28, 24, 20, 16],\n",
       "       [27, 23, 19, 15],\n",
       "       [26, 22, 18, 14],\n",
       "       [25, 21, 17, 13]])"
      ]
     },
     "execution_count": 26,
     "metadata": {},
     "output_type": "execute_result"
    }
   ],
   "source": [
    "\n",
    "def fct():\n",
    "    v=np.arange(13,29)\n",
    "    v=v.reshape(4,4)\n",
    "    v=v[::-1]\n",
    "    v=np.transpose(v)\n",
    "    v=v[::-1]\n",
    "    return v\n",
    "fct()\n"
   ]
  },
  {
   "cell_type": "code",
   "execution_count": 27,
   "metadata": {
    "deletable": false,
    "editable": false,
    "nbgrader": {
     "cell_type": "code",
     "checksum": "1a038f67e878adf442546d5c26a055ec",
     "grade": true,
     "grade_id": "question3-qy4-_cell-3b038cdba707fc25",
     "locked": true,
     "points": 1,
     "schema_version": 3,
     "solution": false,
     "task": false
    }
   },
   "outputs": [
    {
     "name": "stdout",
     "output_type": "stream",
     "text": [
      "\u001b[92m Ok - Tous les tests sont validés.\u001b[00m\n"
     ]
    }
   ],
   "source": [
    "\n",
    "# Ce bloc permet de valider votre code. Vous devez l'exécuter mais ne pas le modifier.  \n",
    "try:\n",
    "\n",
    "    res = fct()\n",
    "    np.testing.assert_equal(list(res.shape),(4, 4),'Taille de la matrice incorrecte.')\n",
    "    np.testing.assert_equal(res,np.array([[28, 24, 20, 16],\n",
    "           [27, 23, 19, 15],\n",
    "           [26, 22, 18, 14],\n",
    "           [25, 21, 17, 13]]),'Résultat incorrecte.')\n",
    "    \n",
    "except Exception as e: \n",
    "    print(\"\\033[91m {}\\033[00m\" .format('KO - Au moins un test n\\'est pas validé')) \n",
    "    print('Information sur le test non valide:')\n",
    "    print(e)\n",
    "    raise e\n",
    "else:\n",
    "    print(\"\\033[92m {}\\033[00m\" .format('Ok - Tous les tests sont validés.')) \n"
   ]
  },
  {
   "cell_type": "markdown",
   "metadata": {
    "deletable": false,
    "editable": false,
    "nbgrader": {
     "cell_type": "markdown",
     "checksum": "46664712f74102484faee0f3829bff75",
     "grade": false,
     "grade_id": "question20-q11-_cell-ba3b6b92f9b4353e",
     "locked": true,
     "schema_version": 3,
     "solution": false,
     "task": false
    }
   },
   "source": [
    "Question 7: \n",
    "Ecrire une fonction `mesure` qui retourne la norme euclidienne d'un vecteur de taille quelconque.\n"
   ]
  },
  {
   "cell_type": "code",
   "execution_count": 28,
   "metadata": {
    "deletable": false,
    "nbgrader": {
     "cell_type": "code",
     "checksum": "1ede0710264ec8c6bd70aa22e7c337fb",
     "grade": false,
     "grade_id": "question20-q11-_cell-e5180d1075199553",
     "locked": false,
     "schema_version": 3,
     "solution": true,
     "task": false
    }
   },
   "outputs": [],
   "source": [
    "\n",
    "def mesure(x):\n",
    "    return np.linalg.norm(x)"
   ]
  },
  {
   "cell_type": "code",
   "execution_count": 29,
   "metadata": {
    "deletable": false,
    "editable": false,
    "nbgrader": {
     "cell_type": "code",
     "checksum": "0d2131ddde7811c551f6e3cf28340124",
     "grade": true,
     "grade_id": "question20-q11-_cell-f387fdd24876936b",
     "locked": true,
     "points": 1,
     "schema_version": 3,
     "solution": false,
     "task": false
    }
   },
   "outputs": [
    {
     "name": "stdout",
     "output_type": "stream",
     "text": [
      "\u001b[92m Ok - Tous les tests sont validés.\u001b[00m\n"
     ]
    }
   ],
   "source": [
    "\n",
    "# Ce bloc permet de valider votre code. Vous devez l'exécuter mais ne pas le modifier.  \n",
    "try:\n",
    "\n",
    "    \n",
    "    x = np.arange(2)\n",
    "    d1 = mesure(x)\n",
    "    \n",
    "    np.testing.assert_equal(d1,1.0)\n",
    "    \n",
    "except Exception as e: \n",
    "    print(\"\\033[91m {}\\033[00m\" .format('KO - Au moins un test n\\'est pas validé')) \n",
    "    print('Information sur le test non valide:')\n",
    "    print(e)\n",
    "    raise e\n",
    "else:\n",
    "    print(\"\\033[92m {}\\033[00m\" .format('Ok - Tous les tests sont validés.')) \n"
   ]
  },
  {
   "cell_type": "markdown",
   "metadata": {
    "deletable": false,
    "editable": false,
    "nbgrader": {
     "cell_type": "markdown",
     "checksum": "1842e4fe3fdec2e7f5fc870487683cbe",
     "grade": false,
     "grade_id": "question7-qy8-_cell-41b99de9aa88be5f",
     "locked": true,
     "schema_version": 3,
     "solution": false,
     "task": false
    }
   },
   "source": [
    "Question 8: \n",
    "\n",
    "Étant donné un vecteur `v`, écrivez une fonction qui remplace tous les éléments de `v` qui sont inférieurs à 8 par -1, et tous les éléments qui sont supérieurs à 14 par 2.\n",
    "\n",
    "<span style=\"color:teal\">Exemple :</span> <br>\n",
    "`[ 8  6 14 17 12  4  2]`\n",
    "\n",
    "a pour sortie:\n",
    "\n",
    "`[ 8 -1 14  2 12 -1 -1]`\n",
    "    "
   ]
  },
  {
   "cell_type": "code",
   "execution_count": 30,
   "metadata": {
    "deletable": false,
    "nbgrader": {
     "cell_type": "code",
     "checksum": "41f8f6eceed7154fe48229c270fa6834",
     "grade": false,
     "grade_id": "question7-qy8-_cell-4721212d969ba0d2",
     "locked": false,
     "schema_version": 3,
     "solution": true,
     "task": false
    }
   },
   "outputs": [],
   "source": [
    "\n",
    "def fct(v):\n",
    "    # YOUR CODE HERE\n",
    "    v[v<8],v[v>14] = -1,2\n",
    "    return v\n"
   ]
  },
  {
   "cell_type": "code",
   "execution_count": 31,
   "metadata": {
    "deletable": false,
    "editable": false,
    "nbgrader": {
     "cell_type": "code",
     "checksum": "8c0cee41fe5f92592fe393e2932ba539",
     "grade": true,
     "grade_id": "question7-qy8-_cell-842aa8ec5286b28",
     "locked": true,
     "points": 1,
     "schema_version": 3,
     "solution": false,
     "task": false
    }
   },
   "outputs": [
    {
     "name": "stdout",
     "output_type": "stream",
     "text": [
      "\u001b[92m Ok - Tous les tests sont validés.\u001b[00m\n"
     ]
    }
   ],
   "source": [
    "\n",
    "# Ce bloc permet de valider votre code. Vous devez l'exécuter mais ne pas le modifier.  \n",
    "try:\n",
    "    v = np.array([ 8,  6, 14, 17, 12,  4,  2])\n",
    "    res = fct(v)\n",
    "    np.testing.assert_equal(res,np.array([ 8, -1, 14,  2, 12, -1, -1]),'Exemple incorrect.')\n",
    "    \n",
    "except Exception as e: \n",
    "    print(\"\\033[91m {}\\033[00m\" .format('KO - Au moins un test n\\'est pas validé')) \n",
    "    print('Information sur le test non valide:')\n",
    "    print(e)\n",
    "    raise e\n",
    "else:\n",
    "    print(\"\\033[92m {}\\033[00m\" .format('Ok - Tous les tests sont validés.')) \n"
   ]
  },
  {
   "cell_type": "markdown",
   "metadata": {
    "deletable": false,
    "editable": false,
    "nbgrader": {
     "cell_type": "markdown",
     "checksum": "5d08a7508155c2863156e955e8b87aa9",
     "grade": false,
     "grade_id": "question19-q10-_cell-3b5a9af5eb2e7436",
     "locked": true,
     "schema_version": 3,
     "solution": false,
     "task": false
    }
   },
   "source": [
    "Question 9: \n",
    "Créer un tableau numpy `x` contenant la liste des carrés des entiers allant de 4 à 13 (inclus).\n"
   ]
  },
  {
   "cell_type": "code",
   "execution_count": 32,
   "metadata": {
    "deletable": false,
    "nbgrader": {
     "cell_type": "code",
     "checksum": "8059069d0dcc286d2efbc5952431d089",
     "grade": false,
     "grade_id": "question19-q10-_cell-d1cde6684143b62b",
     "locked": false,
     "schema_version": 3,
     "solution": true,
     "task": false
    }
   },
   "outputs": [],
   "source": [
    "\n",
    "def liste_carres():\n",
    "    x=np.arange(4,14)\n",
    "    x=x**2\n",
    "    return x"
   ]
  },
  {
   "cell_type": "code",
   "execution_count": 33,
   "metadata": {
    "deletable": false,
    "editable": false,
    "nbgrader": {
     "cell_type": "code",
     "checksum": "08ffba0f253894982c8f6255fefae4dc",
     "grade": true,
     "grade_id": "question19-q10-_cell-91bfd097544a9c1f",
     "locked": true,
     "points": 1,
     "schema_version": 3,
     "solution": false,
     "task": false
    }
   },
   "outputs": [
    {
     "name": "stdout",
     "output_type": "stream",
     "text": [
      "\u001b[92m Ok - Tous les tests sont validés.\u001b[00m\n"
     ]
    }
   ],
   "source": [
    "\n",
    "# Ce bloc permet de valider votre code. Vous devez l'exécuter mais ne pas le modifier.  \n",
    "try:\n",
    "\n",
    "    x = liste_carres()\n",
    "    np.testing.assert_equal(x.min(),4**2)\n",
    "    np.testing.assert_equal(x.max(),13**2)\n",
    "    \n",
    "except Exception as e: \n",
    "    print(\"\\033[91m {}\\033[00m\" .format('KO - Au moins un test n\\'est pas validé')) \n",
    "    print('Information sur le test non valide:')\n",
    "    print(e)\n",
    "    raise e\n",
    "else:\n",
    "    print(\"\\033[92m {}\\033[00m\" .format('Ok - Tous les tests sont validés.')) \n"
   ]
  },
  {
   "cell_type": "markdown",
   "metadata": {
    "deletable": false,
    "editable": false,
    "nbgrader": {
     "cell_type": "markdown",
     "checksum": "feac309e6a0a892957fe9a90dcb9f877",
     "grade": false,
     "grade_id": "question4-qy5-_cell-7602c606be846428",
     "locked": true,
     "schema_version": 3,
     "solution": false,
     "task": false
    }
   },
   "source": [
    "Question 10: Écrivez une fonction inversant l'ordre des éléments des colonnes d'indice pair d'une matrice `M`.\n",
    "           \n",
    "<span style='color:teal'> Exemple</span> <br>\n",
    "En partant de la matrice:\n",
    "```\n",
    "[[ 1  2  3  4  5  6]\n",
    " [ 7  8  9 10 11 12]\n",
    " [13 14 15 16 17 18]\n",
    " [19 20 21 22 23 24]\n",
    " [25 26 27 28 29 30]]\n",
    "```\n",
    "\n",
    "\n",
    "Le résultat attendu est:\n",
    "```\n",
    "[[25  2 27  4 29  6]\n",
    " [19  8 21 10 23 12]\n",
    " [13 14 15 16 17 18]\n",
    " [ 7 20  9 22 11 24]\n",
    " [ 1 26  3 28  5 30]]\n",
    "```\n",
    "    "
   ]
  },
  {
   "cell_type": "code",
   "execution_count": null,
   "metadata": {
    "deletable": false,
    "nbgrader": {
     "cell_type": "code",
     "checksum": "092fd542483f73298b767cec83567397",
     "grade": false,
     "grade_id": "question4-qy5-_cell-fd5d8d913366ed3f",
     "locked": false,
     "schema_version": 3,
     "solution": true,
     "task": false
    }
   },
   "outputs": [],
   "source": [
    "\n",
    "def fct(M):\n",
    "    \n"
   ]
  },
  {
   "cell_type": "code",
   "execution_count": null,
   "metadata": {
    "deletable": false,
    "editable": false,
    "nbgrader": {
     "cell_type": "code",
     "checksum": "67fd556f1706e6342cdea30d4c5a9577",
     "grade": true,
     "grade_id": "question4-qy5-_cell-c97f54e9371ffa0b",
     "locked": true,
     "points": 1,
     "schema_version": 3,
     "solution": false,
     "task": false
    }
   },
   "outputs": [],
   "source": [
    "\n",
    "# Ce bloc permet de valider votre code. Vous devez l'exécuter mais ne pas le modifier.  \n",
    "try:\n",
    "    M = np.array([[ 1,  2,  3,  4,  5,  6],\n",
    "           [ 7,  8,  9, 10, 11, 12],\n",
    "           [13, 14, 15, 16, 17, 18],\n",
    "           [19, 20, 21, 22, 23, 24],\n",
    "           [25, 26, 27, 28, 29, 30]])\n",
    "    res = fct(M)\n",
    "    np.testing.assert_equal(res.shape,(5, 6),'Taille de la matrice incorrecte.')\n",
    "    np.testing.assert_equal(res,np.array([[25,  2, 27,  4, 29,  6],\n",
    "           [19,  8, 21, 10, 23, 12],\n",
    "           [13, 14, 15, 16, 17, 18],\n",
    "           [ 7, 20,  9, 22, 11, 24],\n",
    "           [ 1, 26,  3, 28,  5, 30]]),'Exemple incorrect.')\n",
    "    \n",
    "except Exception as e: \n",
    "    print(\"\\033[91m {}\\033[00m\" .format('KO - Au moins un test n\\'est pas validé')) \n",
    "    print('Information sur le test non valide:')\n",
    "    print(e)\n",
    "    raise e\n",
    "else:\n",
    "    print(\"\\033[92m {}\\033[00m\" .format('Ok - Tous les tests sont validés.')) \n"
   ]
  },
  {
   "cell_type": "markdown",
   "metadata": {
    "deletable": false,
    "editable": false,
    "nbgrader": {
     "cell_type": "markdown",
     "checksum": "a4dee15f5c1ca14a7eff819d4718848e",
     "grade": false,
     "grade_id": "question21-q12-_cell-9446a1f7cc112199",
     "locked": true,
     "schema_version": 3,
     "solution": false,
     "task": false
    }
   },
   "source": [
    "Question 11: \n",
    "Créer une fonction `superieur` qui prend en entrée un tableau numpy et renvois \n",
    "un tableau de booléens de même taille que le tableau d'entrée contenant `True`\n",
    " si les valeurs du tableau d'entrée sont superieur (strictement) à -0.2095, `False` sinon.\n"
   ]
  },
  {
   "cell_type": "code",
   "execution_count": null,
   "metadata": {
    "deletable": false,
    "nbgrader": {
     "cell_type": "code",
     "checksum": "3d247df751b2656190aef988f72247ac",
     "grade": false,
     "grade_id": "question21-q12-_cell-ca36753e2c14a9ce",
     "locked": false,
     "schema_version": 3,
     "solution": true,
     "task": false
    }
   },
   "outputs": [],
   "source": [
    "\n",
    "def superieur(x):\n",
    "    # YOUR CODE HERE\n",
    "    raise NotImplementedError()\n"
   ]
  },
  {
   "cell_type": "code",
   "execution_count": null,
   "metadata": {
    "deletable": false,
    "editable": false,
    "nbgrader": {
     "cell_type": "code",
     "checksum": "bc7758bc28bccbd89e03206c4287b6be",
     "grade": true,
     "grade_id": "question21-q12-_cell-31b7257702eae97b",
     "locked": true,
     "points": 1,
     "schema_version": 3,
     "solution": false,
     "task": false
    }
   },
   "outputs": [],
   "source": [
    "\n",
    "# Ce bloc permet de valider votre code. Vous devez l'exécuter mais ne pas le modifier.  \n",
    "try:\n",
    "\n",
    "    x = np.random.randn(50)\n",
    "    \n",
    "    np.testing.assert_equal(x.shape,superieur(x).shape)\n",
    "    np.testing.assert_equal(superieur(x).dtype, np.dtype('bool'))\n",
    "    \n",
    "except Exception as e: \n",
    "    print(\"\\033[91m {}\\033[00m\" .format('KO - Au moins un test n\\'est pas validé')) \n",
    "    print('Information sur le test non valide:')\n",
    "    print(e)\n",
    "    raise e\n",
    "else:\n",
    "    print(\"\\033[92m {}\\033[00m\" .format('Ok - Tous les tests sont validés.')) \n"
   ]
  },
  {
   "cell_type": "markdown",
   "metadata": {
    "deletable": false,
    "editable": false,
    "nbgrader": {
     "cell_type": "markdown",
     "checksum": "0d5736a75b4bd62be9476a9a2f9a8303",
     "grade": false,
     "grade_id": "question14-q5-_cell-286aeb553fb2d6a7",
     "locked": true,
     "schema_version": 3,
     "solution": false,
     "task": false
    }
   },
   "source": [
    "Question 12: \n",
    "Écrire une fonction `diagMatrice` qui construit et retourne une matrice carrée de taille $(12,12)$ dont les éléments sont de valeur $1$ exceptés ceux sur la $3$-ème diagonale (bas gauche -> haut droite) qui sont tous à $0$.\n",
    "\n",
    "<span style=\"color:teal\">La matrice à construire :</span> <br>\n",
    "```\n",
    "[[1. 1. 0. 1. 1. 1. 1. 1. 1. 1. 1. 1.]\n",
    " [1. 0. 1. 1. 1. 1. 1. 1. 1. 1. 1. 1.]\n",
    " [0. 1. 1. 1. 1. 1. 1. 1. 1. 1. 1. 1.]\n",
    " [1. 1. 1. 1. 1. 1. 1. 1. 1. 1. 1. 1.]\n",
    " [1. 1. 1. 1. 1. 1. 1. 1. 1. 1. 1. 1.]\n",
    " [1. 1. 1. 1. 1. 1. 1. 1. 1. 1. 1. 1.]\n",
    " [1. 1. 1. 1. 1. 1. 1. 1. 1. 1. 1. 1.]\n",
    " [1. 1. 1. 1. 1. 1. 1. 1. 1. 1. 1. 1.]\n",
    " [1. 1. 1. 1. 1. 1. 1. 1. 1. 1. 1. 1.]\n",
    " [1. 1. 1. 1. 1. 1. 1. 1. 1. 1. 1. 1.]\n",
    " [1. 1. 1. 1. 1. 1. 1. 1. 1. 1. 1. 1.]\n",
    " [1. 1. 1. 1. 1. 1. 1. 1. 1. 1. 1. 1.]]\n",
    "```\n"
   ]
  },
  {
   "cell_type": "code",
   "execution_count": 97,
   "metadata": {
    "deletable": false,
    "nbgrader": {
     "cell_type": "code",
     "checksum": "c9c50ccc890eb31cc4a35059e6f5572d",
     "grade": false,
     "grade_id": "question14-q5-_cell-31887aa5609ee2ef",
     "locked": false,
     "schema_version": 3,
     "solution": true,
     "task": false
    }
   },
   "outputs": [],
   "source": [
    "\n",
    "def diagMatrice():\n",
    "    # YOUR CODE HERE\n",
    "    res = np.zeros([12,12])+1\n",
    "    v = res[:10,2::-1]\n",
    "    np.fill_diagonal(v,0)\n",
    "    return res\n"
   ]
  },
  {
   "cell_type": "code",
   "execution_count": 98,
   "metadata": {
    "deletable": false,
    "editable": false,
    "nbgrader": {
     "cell_type": "code",
     "checksum": "383c0f18a9354a222270da458aa172a5",
     "grade": true,
     "grade_id": "question14-q5-_cell-4179b56b25363861",
     "locked": true,
     "points": 1,
     "schema_version": 3,
     "solution": false,
     "task": false
    }
   },
   "outputs": [
    {
     "name": "stdout",
     "output_type": "stream",
     "text": [
      "\u001b[92m Ok - Tous les tests sont validés.\u001b[00m\n"
     ]
    }
   ],
   "source": [
    "\n",
    "# Ce bloc permet de valider votre code. Vous devez l'exécuter mais ne pas le modifier.  \n",
    "try:\n",
    "\n",
    "    mat = diagMatrice()\n",
    "    np.testing.assert_equal(mat.shape,(12,12))\n",
    "    np.testing.assert_almost_equal(np.sum(mat),141)\n",
    "    np.testing.assert_almost_equal(np.diag(mat[:3,2::-1]),0)\n",
    "    \n",
    "except Exception as e: \n",
    "    print(\"\\033[91m {}\\033[00m\" .format('KO - Au moins un test n\\'est pas validé')) \n",
    "    print('Information sur le test non valide:')\n",
    "    print(e)\n",
    "    raise e\n",
    "else:\n",
    "    print(\"\\033[92m {}\\033[00m\" .format('Ok - Tous les tests sont validés.')) \n"
   ]
  },
  {
   "cell_type": "markdown",
   "metadata": {
    "deletable": false,
    "editable": false,
    "nbgrader": {
     "cell_type": "markdown",
     "checksum": "254c5d99356bcff1529c3ab05655f73f",
     "grade": false,
     "grade_id": "question8-qy9-_cell-f555c53ae7b93636",
     "locked": true,
     "schema_version": 3,
     "solution": false,
     "task": false
    }
   },
   "source": [
    "Question 13: \n",
    "Étant donné un vecteur `u` de taille 5, construisez une fonction retourrnant un vecteur de taille $25 = 5\\times5$\n",
    "où chaque élément de `u` est répété consécutivement 5 fois.\n",
    "\n",
    "<span style=\"color:teal\">Exemple :</span> <br>\n",
    "À partir du vecteur:\n",
    "\n",
    "```\n",
    "[ 6  4 13 10 12]\n",
    "```\n",
    "\n",
    "on obtient:\n",
    "\n",
    "```\n",
    "[ 6  6  6  6  6  4  4  4  4  4 13 13 13 13 13 10 10 10 10 10 12 12 12 12\n",
    " 12]\n",
    "```\n",
    "           "
   ]
  },
  {
   "cell_type": "code",
   "execution_count": null,
   "metadata": {
    "deletable": false,
    "nbgrader": {
     "cell_type": "code",
     "checksum": "a862fa8830da8a965d5cfe8ea1952408",
     "grade": false,
     "grade_id": "question8-qy9-_cell-3e5330b20fdc6138",
     "locked": false,
     "schema_version": 3,
     "solution": true,
     "task": false
    }
   },
   "outputs": [],
   "source": [
    "\n",
    "def fct(v):\n",
    "    # YOUR CODE HERE\n",
    "    raise NotImplementedError()\n",
    "    \n"
   ]
  },
  {
   "cell_type": "code",
   "execution_count": null,
   "metadata": {
    "deletable": false,
    "editable": false,
    "nbgrader": {
     "cell_type": "code",
     "checksum": "d890a0a6de714a5d89787e31083b5934",
     "grade": true,
     "grade_id": "question8-qy9-_cell-220f73972188aa32",
     "locked": true,
     "points": 1,
     "schema_version": 3,
     "solution": false,
     "task": false
    }
   },
   "outputs": [],
   "source": [
    "\n",
    "# Ce bloc permet de valider votre code. Vous devez l'exécuter mais ne pas le modifier.  \n",
    "try:\n",
    "    v = np.array([ 6,  4, 13, 10, 12])\n",
    "    res = fct(v)\n",
    "    np.testing.assert_equal(np.sum(res),np.sum(v)*5,'Exemple incorrect.')\n",
    "    np.testing.assert_equal(res,np.array([ 6,  6,  6,  6,  6,  4,  4,  4,  4,  4, 13, 13, 13, 13, 13, 10, 10,\n",
    "           10, 10, 10, 12, 12, 12, 12, 12]),'Exemple incorrect.')\n",
    "    \n",
    "except Exception as e: \n",
    "    print(\"\\033[91m {}\\033[00m\" .format('KO - Au moins un test n\\'est pas validé')) \n",
    "    print('Information sur le test non valide:')\n",
    "    print(e)\n",
    "    raise e\n",
    "else:\n",
    "    print(\"\\033[92m {}\\033[00m\" .format('Ok - Tous les tests sont validés.')) \n"
   ]
  },
  {
   "cell_type": "markdown",
   "metadata": {
    "deletable": false,
    "editable": false,
    "nbgrader": {
     "cell_type": "markdown",
     "checksum": "681c1ea33fa0342194dd01b5c2e588be",
     "grade": false,
     "grade_id": "question15-q6-_cell-c40cbefe09088a0a",
     "locked": true,
     "schema_version": 3,
     "solution": false,
     "task": false
    }
   },
   "source": [
    "Question 14: \n",
    "Créez une matrice `mat` de taille (4,4) dont toutes les valeurs sont à 6 sauf la case (0,2) qui vaut 0.\n",
    "\n",
    "<span style=\"color:teal\">La matrice à construire :</span> <br>\n",
    "```\n",
    "[[6. 6. 0. 6.]\n",
    " [6. 6. 6. 6.]\n",
    " [6. 6. 6. 6.]\n",
    " [6. 6. 6. 6.]]\n",
    "```\n"
   ]
  },
  {
   "cell_type": "code",
   "execution_count": 113,
   "metadata": {
    "deletable": false,
    "nbgrader": {
     "cell_type": "code",
     "checksum": "ef2ea3df921591eef8856a4d3970e3ee",
     "grade": false,
     "grade_id": "question15-q6-_cell-b93dd7c33f4c05bc",
     "locked": false,
     "schema_version": 3,
     "solution": true,
     "task": false
    }
   },
   "outputs": [
    {
     "ename": "TypeError",
     "evalue": "arange: scalar arguments expected instead of a tuple.",
     "output_type": "error",
     "traceback": [
      "\u001b[0;31m---------------------------------------------------------------------------\u001b[0m",
      "\u001b[0;31mTypeError\u001b[0m                                 Traceback (most recent call last)",
      "\u001b[0;32m<ipython-input-113-fd8d2158567b>\u001b[0m in \u001b[0;36m<module>\u001b[0;34m\u001b[0m\n\u001b[1;32m      1\u001b[0m \u001b[0;31m# YOUR CODE HERE\u001b[0m\u001b[0;34m\u001b[0m\u001b[0;34m\u001b[0m\u001b[0;34m\u001b[0m\u001b[0m\n\u001b[0;32m----> 2\u001b[0;31m \u001b[0mmat\u001b[0m \u001b[0;34m=\u001b[0m \u001b[0mnp\u001b[0m\u001b[0;34m.\u001b[0m\u001b[0marange\u001b[0m\u001b[0;34m(\u001b[0m\u001b[0;34m(\u001b[0m\u001b[0;36m4\u001b[0m\u001b[0;34m,\u001b[0m\u001b[0;36m4\u001b[0m\u001b[0;34m)\u001b[0m\u001b[0;34m)\u001b[0m\u001b[0;34m\u001b[0m\u001b[0;34m\u001b[0m\u001b[0m\n\u001b[0m\u001b[1;32m      3\u001b[0m \u001b[0mmat\u001b[0m\u001b[0;34m[\u001b[0m\u001b[0;36m0\u001b[0m\u001b[0;34m:\u001b[0m\u001b[0;36m2\u001b[0m\u001b[0;34m]\u001b[0m \u001b[0;34m=\u001b[0m \u001b[0;36m0\u001b[0m\u001b[0;34m\u001b[0m\u001b[0;34m\u001b[0m\u001b[0m\n\u001b[1;32m      4\u001b[0m \u001b[0mprint\u001b[0m\u001b[0;34m(\u001b[0m\u001b[0mmat\u001b[0m\u001b[0;34m)\u001b[0m\u001b[0;34m\u001b[0m\u001b[0;34m\u001b[0m\u001b[0m\n",
      "\u001b[0;31mTypeError\u001b[0m: arange: scalar arguments expected instead of a tuple."
     ]
    }
   ],
   "source": [
    "\n",
    "# YOUR CODE HERE\n",
    "mat = np.arange((4,4))\n",
    "mat[0:2] = 0\n",
    "print(mat)\n"
   ]
  },
  {
   "cell_type": "code",
   "execution_count": null,
   "metadata": {
    "deletable": false,
    "editable": false,
    "nbgrader": {
     "cell_type": "code",
     "checksum": "81311b1912410e99d33a4a0ba06f9d24",
     "grade": true,
     "grade_id": "question15-q6-_cell-93a1019a25e931c4",
     "locked": true,
     "points": 1,
     "schema_version": 3,
     "solution": false,
     "task": false
    }
   },
   "outputs": [],
   "source": [
    "\n",
    "# Ce bloc permet de valider votre code. Vous devez l'exécuter mais ne pas le modifier.  \n",
    "try:\n",
    "\n",
    "    np.testing.assert_equal(mat.shape,(4,4),err_msg='Attention à la taille')\n",
    "    np.testing.assert_almost_equal(np.sum(mat),6*(4*4-1))\n",
    "    \n",
    "except Exception as e: \n",
    "    print(\"\\033[91m {}\\033[00m\" .format('KO - Au moins un test n\\'est pas validé')) \n",
    "    print('Information sur le test non valide:')\n",
    "    print(e)\n",
    "    raise e\n",
    "else:\n",
    "    print(\"\\033[92m {}\\033[00m\" .format('Ok - Tous les tests sont validés.')) \n"
   ]
  },
  {
   "cell_type": "markdown",
   "metadata": {
    "deletable": false,
    "editable": false,
    "nbgrader": {
     "cell_type": "markdown",
     "checksum": "dc7d8ddc03cd117d1db06adc276285a0",
     "grade": false,
     "grade_id": "question24-q15-_cell-862de6cd4e5f87ec",
     "locked": true,
     "schema_version": 3,
     "solution": false,
     "task": false
    }
   },
   "source": [
    "Question 15: \n",
    "\n",
    "Écrivez une fonction permettant de concaténer les tableaux `x` et `y` de taille [2 7] et [1 7] selon l'axe des ligne. \n",
    " \n",
    "<span style=\"color:teal\">Exemple :</span> <br>\n",
    "Sur les entrées \n",
    "```\n",
    "[[8 8 6 0 0 2 8]\n",
    " [4 7 7 5 8 1 7]]\n",
    "```\n",
    "et\n",
    "```\n",
    "[[3 6 5 5 1 3 8]]\n",
    "```\n",
    "\n",
    "le résultat attendu est \n",
    "\n",
    "```\n",
    "[[8 8 6 0 0 2 8]\n",
    " [4 7 7 5 8 1 7]\n",
    " [3 6 5 5 1 3 8]]\n",
    "```\n"
   ]
  },
  {
   "cell_type": "code",
   "execution_count": null,
   "metadata": {
    "deletable": false,
    "nbgrader": {
     "cell_type": "code",
     "checksum": "42a1fac587f959dbdaf5ac2e43bd1179",
     "grade": false,
     "grade_id": "question24-q15-_cell-f524ac50e2456a14",
     "locked": false,
     "schema_version": 3,
     "solution": true,
     "task": false
    }
   },
   "outputs": [],
   "source": [
    "\n",
    "def fct(x,y):\n",
    "    # YOUR CODE HERE\n",
    "    raise NotImplementedError()\n",
    "    \n"
   ]
  },
  {
   "cell_type": "code",
   "execution_count": null,
   "metadata": {
    "deletable": false,
    "editable": false,
    "nbgrader": {
     "cell_type": "code",
     "checksum": "f3ff1fb6925fb38615f98baad129848a",
     "grade": true,
     "grade_id": "question24-q15-_cell-7d99bf3ab520d5f0",
     "locked": true,
     "points": 1,
     "schema_version": 3,
     "solution": false,
     "task": false
    }
   },
   "outputs": [],
   "source": [
    "\n",
    "# Ce bloc permet de valider votre code. Vous devez l'exécuter mais ne pas le modifier.  \n",
    "try:\n",
    "    x = np.random.random([2,7])\n",
    "    y = np.random.random([1,7])\n",
    "    res = fct(x,y)\n",
    "    np.testing.assert_equal(res.shape,(3, 7),'Taille du tableau de sortie incorrect.')\n",
    "    \n",
    "except Exception as e: \n",
    "    print(\"\\033[91m {}\\033[00m\" .format('KO - Au moins un test n\\'est pas validé')) \n",
    "    print('Information sur le test non valide:')\n",
    "    print(e)\n",
    "    raise e\n",
    "else:\n",
    "    print(\"\\033[92m {}\\033[00m\" .format('Ok - Tous les tests sont validés.')) \n"
   ]
  },
  {
   "cell_type": "markdown",
   "metadata": {
    "deletable": false,
    "editable": false,
    "nbgrader": {
     "cell_type": "markdown",
     "checksum": "c8b9f649157826b48c0b9ff9bf94d7df",
     "grade": false,
     "grade_id": "question18-q9-_cell-4eca15848dcf95b",
     "locked": true,
     "schema_version": 3,
     "solution": false,
     "task": false
    }
   },
   "source": [
    "Question 16: \n",
    "Écrire une fonction qui prend en entrée un vecteur dont la longueur est un multiple de 3,\n",
    "et qui retourne le maximum de chaque séquence de 3 éléments consécutifs.\n",
    "\n",
    "<span style=\"color:teal\">Exemple :</span> <br>\n",
    "`[ 5  3  1  8  6 11 12  8  3  5  1  0  0  5  2 12 13  5  0  6 11 10  6 14\n",
    "  0 14 12  6  7 13]`\n",
    "\n",
    "a pour sortie\n",
    "\n",
    "`[ 5 11 12  5  5 13 11 14 14 13]`\n"
   ]
  },
  {
   "cell_type": "code",
   "execution_count": null,
   "metadata": {
    "deletable": false,
    "nbgrader": {
     "cell_type": "code",
     "checksum": "57ffbdb97ccff97361f4b6c12fcab462",
     "grade": false,
     "grade_id": "question18-q9-_cell-63cd7a5987d18ad6",
     "locked": false,
     "schema_version": 3,
     "solution": true,
     "task": false
    }
   },
   "outputs": [],
   "source": [
    "\n",
    "def consecutif(vecteur):\n",
    "    # YOUR CODE HERE\n",
    "    raise NotImplementedError()\n"
   ]
  },
  {
   "cell_type": "code",
   "execution_count": null,
   "metadata": {
    "deletable": false,
    "editable": false,
    "nbgrader": {
     "cell_type": "code",
     "checksum": "4ef25ba973c61586cb919736ad6484f8",
     "grade": true,
     "grade_id": "question18-q9-_cell-1e60e4f7fa64a414",
     "locked": true,
     "points": 1,
     "schema_version": 3,
     "solution": false,
     "task": false
    }
   },
   "outputs": [],
   "source": [
    "\n",
    "# Ce bloc permet de valider votre code. Vous devez l'exécuter mais ne pas le modifier.  \n",
    "try:\n",
    "\n",
    "    vv = np.random.randint(1,15,8*3)\n",
    "    res = consecutif(vv)\n",
    "    np.testing.assert_equal(len(vv),3*len(res))\n",
    "    np.testing.assert_equal(res[2:],consecutif(vv[(2*3):]))\n",
    "    \n",
    "except Exception as e: \n",
    "    print(\"\\033[91m {}\\033[00m\" .format('KO - Au moins un test n\\'est pas validé')) \n",
    "    print('Information sur le test non valide:')\n",
    "    print(e)\n",
    "    raise e\n",
    "else:\n",
    "    print(\"\\033[92m {}\\033[00m\" .format('Ok - Tous les tests sont validés.')) \n"
   ]
  },
  {
   "cell_type": "markdown",
   "metadata": {
    "deletable": false,
    "editable": false,
    "nbgrader": {
     "cell_type": "markdown",
     "checksum": "7358532fa87a48d617cd53c7588ed416",
     "grade": false,
     "grade_id": "question5-qy6-_cell-6d06ffd069ee8f48",
     "locked": true,
     "schema_version": 3,
     "solution": false,
     "task": false
    }
   },
   "source": [
    "Question 17: \n",
    "Écrivez une fonction prenant une matrice `M` et déterminant dans quelles lignes de `M` se trouve la valeur `6`.\n",
    "    \n",
    "<span style=\"color:teal\">Exemple :</span> <br>\n",
    "Pour la matrice:\n",
    "\n",
    "```\n",
    "[[4 5 4 5]\n",
    " [6 6 8 3]\n",
    " [4 4 9 6]\n",
    " [3 8 6 3]\n",
    " [9 6 3 6]]\n",
    "```\n",
    "\n",
    "\n",
    "\n",
    "la valeur `6` se trouve dans les lignes suivantes:\n",
    "\n",
    "`[1 2 3 4]`\n",
    "    "
   ]
  },
  {
   "cell_type": "code",
   "execution_count": null,
   "metadata": {
    "deletable": false,
    "nbgrader": {
     "cell_type": "code",
     "checksum": "b4badeabf3ce7b2ac81aad2bb3d32043",
     "grade": false,
     "grade_id": "question5-qy6-_cell-67e17f0a37133ac7",
     "locked": false,
     "schema_version": 3,
     "solution": true,
     "task": false
    }
   },
   "outputs": [],
   "source": [
    "\n",
    "def fct(M):\n",
    "    # YOUR CODE HERE\n",
    "    raise NotImplementedError()\n"
   ]
  },
  {
   "cell_type": "code",
   "execution_count": null,
   "metadata": {
    "deletable": false,
    "editable": false,
    "nbgrader": {
     "cell_type": "code",
     "checksum": "d77c7a8582733a830448ac334faf65a2",
     "grade": true,
     "grade_id": "question5-qy6-_cell-508961a52e6e1298",
     "locked": true,
     "points": 1,
     "schema_version": 3,
     "solution": false,
     "task": false
    }
   },
   "outputs": [],
   "source": [
    "\n",
    "# Ce bloc permet de valider votre code. Vous devez l'exécuter mais ne pas le modifier.  \n",
    "try:\n",
    "    M = np.array([[4, 5, 4, 5],\n",
    "           [6, 6, 8, 3],\n",
    "           [4, 4, 9, 6],\n",
    "           [3, 8, 6, 3],\n",
    "           [9, 6, 3, 6]])\n",
    "    res = fct(M)\n",
    "    np.testing.assert_equal(len(res),4,'Taille du vecteur incorrect.')\n",
    "    np.testing.assert_equal(res,np.array([1, 2, 3, 4]),'Exemple incorrect.')\n",
    "    \n",
    "except Exception as e: \n",
    "    print(\"\\033[91m {}\\033[00m\" .format('KO - Au moins un test n\\'est pas validé')) \n",
    "    print('Information sur le test non valide:')\n",
    "    print(e)\n",
    "    raise e\n",
    "else:\n",
    "    print(\"\\033[92m {}\\033[00m\" .format('Ok - Tous les tests sont validés.')) \n"
   ]
  },
  {
   "cell_type": "markdown",
   "metadata": {
    "deletable": false,
    "editable": false,
    "nbgrader": {
     "cell_type": "markdown",
     "checksum": "9425d3a44a08c09db76a8d36a7ac24f8",
     "grade": false,
     "grade_id": "question10-q1-_cell-a9bae29eb726dd51",
     "locked": true,
     "schema_version": 3,
     "solution": false,
     "task": false
    }
   },
   "source": [
    "Question 18: Définir un vecteur aléatoire `alea` de taille $24$ et dont les éléments sont des entiers compris entre $1$ et $17$.\n",
    "\n",
    "<span style='color:teal'> Exemple</span> <br>\n",
    "`[ 7 13 16  6  2 14 14 11 14  4 10 16 11 13  5  2  9  3 13 10 16  1  8  3]`"
   ]
  },
  {
   "cell_type": "code",
   "execution_count": 74,
   "metadata": {
    "deletable": false,
    "nbgrader": {
     "cell_type": "code",
     "checksum": "2f551eb8d69d0c13e75ebfa9dcc69693",
     "grade": false,
     "grade_id": "question10-q1-_cell-1ae39a3cffac811a",
     "locked": false,
     "schema_version": 3,
     "solution": true,
     "task": false
    }
   },
   "outputs": [],
   "source": [
    "\n",
    "\n",
    "def alea_int():\n",
    "   # YOUR CODE HERE\n",
    "   alea = np.random.randint(1,17,24)\n",
    "   return alea\n",
    "\n"
   ]
  },
  {
   "cell_type": "code",
   "execution_count": 73,
   "metadata": {
    "deletable": false,
    "editable": false,
    "nbgrader": {
     "cell_type": "code",
     "checksum": "ec2926ec1d9b8aa7c0fae3e28e212075",
     "grade": true,
     "grade_id": "question10-q1-_cell-c907fe3e650a2196",
     "locked": true,
     "points": 1,
     "schema_version": 3,
     "solution": false,
     "task": false
    }
   },
   "outputs": [
    {
     "name": "stdout",
     "output_type": "stream",
     "text": [
      "\u001b[92m Ok - Tous les tests sont validés.\u001b[00m\n"
     ]
    }
   ],
   "source": [
    "\n",
    "# Ce bloc permet de valider votre code. Vous devez l'exécuter mais ne pas le modifier.  \n",
    "try:\n",
    "   \n",
    "    alea = alea_int()\n",
    "    np.testing.assert_equal(alea.size,24)\n",
    "    np.testing.assert_equal(alea>=1,True)\n",
    "    np.testing.assert_equal(alea<=17,True)\n",
    "    \n",
    "    \n",
    "except Exception as e: \n",
    "    print(\"\\033[91m {}\\033[00m\" .format('KO - Au moins un test n\\'est pas validé')) \n",
    "    print('Information sur le test non valide:')\n",
    "    print(e)\n",
    "    raise e\n",
    "else:\n",
    "    print(\"\\033[92m {}\\033[00m\" .format('Ok - Tous les tests sont validés.')) \n"
   ]
  },
  {
   "cell_type": "markdown",
   "metadata": {
    "deletable": false,
    "editable": false,
    "nbgrader": {
     "cell_type": "markdown",
     "checksum": "6971c547784522b53ef24fde64f111fe",
     "grade": false,
     "grade_id": "question9-qy10-_cell-7dffebe9561fa3ca",
     "locked": true,
     "schema_version": 3,
     "solution": false,
     "task": false
    }
   },
   "source": [
    "Question 19: \n",
    "\n",
    "Étant donné un vecteur, écrivez une fonction qui détermine si ce vecteur est strictement décroissant ou non. Pour cette question, vous pouvez utiliser une convolution pour calculer la soustraction entre valeur consécutive et en déduire le résultat attendu.\n",
    " \n",
    "<span style=\"color:teal\">Exemple :</span> <br>\n",
    "Sur l'entrée `[37 31 26 21 14 14 12 12  7]` est renvoyé False\n",
    "\n"
   ]
  },
  {
   "cell_type": "code",
   "execution_count": null,
   "metadata": {
    "deletable": false,
    "nbgrader": {
     "cell_type": "code",
     "checksum": "e889b41c202ed5530e873d15f6944e9a",
     "grade": false,
     "grade_id": "question9-qy10-_cell-562f2c1db37a6990",
     "locked": false,
     "schema_version": 3,
     "solution": true,
     "task": false
    }
   },
   "outputs": [],
   "source": [
    "\n",
    "def fct(v):\n",
    "    # YOUR CODE HERE\n",
    "    raise NotImplementedError()\n",
    "    \n"
   ]
  },
  {
   "cell_type": "code",
   "execution_count": null,
   "metadata": {
    "deletable": false,
    "editable": false,
    "nbgrader": {
     "cell_type": "code",
     "checksum": "139a64c1027dd0d7f54786bb36e13927",
     "grade": true,
     "grade_id": "question9-qy10-_cell-74075f12db3d9d4",
     "locked": true,
     "points": 1,
     "schema_version": 3,
     "solution": false,
     "task": false
    }
   },
   "outputs": [],
   "source": [
    "\n",
    "# Ce bloc permet de valider votre code. Vous devez l'exécuter mais ne pas le modifier.  \n",
    "try:\n",
    "    v = np.array([37, 31, 26, 21, 14, 14, 12, 12,  7])\n",
    "    res = fct(v)\n",
    "    np.testing.assert_equal(res,False,'Exemple incorrect.')\n",
    "    \n",
    "except Exception as e: \n",
    "    print(\"\\033[91m {}\\033[00m\" .format('KO - Au moins un test n\\'est pas validé')) \n",
    "    print('Information sur le test non valide:')\n",
    "    print(e)\n",
    "    raise e\n",
    "else:\n",
    "    print(\"\\033[92m {}\\033[00m\" .format('Ok - Tous les tests sont validés.')) \n"
   ]
  },
  {
   "cell_type": "markdown",
   "metadata": {
    "deletable": false,
    "editable": false,
    "nbgrader": {
     "cell_type": "markdown",
     "checksum": "5f508346801c57dbd7d6a7fa3427c5b0",
     "grade": false,
     "grade_id": "question11-q2-_cell-9041fcf8f417819e",
     "locked": true,
     "schema_version": 3,
     "solution": false,
     "task": false
    }
   },
   "source": [
    "Question 20: \n",
    "Écrivez une fonction `suppresseColonne` qui prend en entrée une matrice et qui supprime de cette matrice toutes les colonnes qui contiennent la valeur 17\n",
    "\n",
    "<span style=\"color:teal\">Exemple :</span> <br>\n",
    "```\n",
    "[[ 0 18 16 11 21  9 23]\n",
    " [ 2 12 14 24  3 11 -2]\n",
    " [ 1 21 23 17 22 17 12]]\n",
    "```\n",
    "<br>\n",
    "\n",
    "a pour sortie:\n",
    "\n",
    "```\n",
    "[[ 0 18 16 21 23]\n",
    " [ 2 12 14  3 -2]\n",
    " [ 1 21 23 22 12]]\n",
    "```\n"
   ]
  },
  {
   "cell_type": "code",
   "execution_count": 65,
   "metadata": {
    "deletable": false,
    "nbgrader": {
     "cell_type": "code",
     "checksum": "718a06f79646a80589145a329bbaff53",
     "grade": false,
     "grade_id": "question11-q2-_cell-fbbb0a851e8041c",
     "locked": false,
     "schema_version": 3,
     "solution": true,
     "task": false
    }
   },
   "outputs": [],
   "source": [
    "\n",
    "def suppresseColonne(matrice):\n",
    "    # YOUR CODE HERE\n",
    "    matrice = np.delete(matrice, 5, axis=1)\n",
    "    return(matrice)\n",
    "    "
   ]
  },
  {
   "cell_type": "code",
   "execution_count": 66,
   "metadata": {
    "deletable": false,
    "editable": false,
    "nbgrader": {
     "cell_type": "code",
     "checksum": "344f90f54b883803627d3af981a723c7",
     "grade": true,
     "grade_id": "question11-q2-_cell-c07f1c37e6e8a853",
     "locked": true,
     "points": 1,
     "schema_version": 3,
     "solution": false,
     "task": false
    }
   },
   "outputs": [
    {
     "name": "stdout",
     "output_type": "stream",
     "text": [
      "\u001b[92m Ok - Tous les tests sont validés.\u001b[00m\n"
     ]
    }
   ],
   "source": [
    "\n",
    "# Ce bloc permet de valider votre code. Vous devez l'exécuter mais ne pas le modifier.  \n",
    "try:\n",
    "\n",
    "    mat = np.arange(24)\n",
    "    mat[np.random.randint(24)] = 17\n",
    "    mat[np.random.randint(24)] = 17\n",
    "    mat = mat.reshape((4,-1))\n",
    "    res = suppresseColonne(mat)\n",
    "    np.testing.assert_equal(mat.shape[0],res.shape[0])\n",
    "    \n",
    "except Exception as e: \n",
    "    print(\"\\033[91m {}\\033[00m\" .format('KO - Au moins un test n\\'est pas validé')) \n",
    "    print('Information sur le test non valide:')\n",
    "    print(e)\n",
    "    raise e\n",
    "else:\n",
    "    print(\"\\033[92m {}\\033[00m\" .format('Ok - Tous les tests sont validés.')) \n"
   ]
  },
  {
   "cell_type": "markdown",
   "metadata": {
    "deletable": false,
    "editable": false,
    "nbgrader": {
     "cell_type": "markdown",
     "checksum": "ab42fe8d41877141df1942a97f7ee678",
     "grade": false,
     "grade_id": "question13-q4-_cell-7a2aa7f3e35196f8",
     "locked": true,
     "schema_version": 3,
     "solution": false,
     "task": false
    }
   },
   "source": [
    "Question 21: \n",
    "Écrivez une fonction qui prend en entrée une matrice, et qui retourne la sous-matrice de taille $(5,5)$ qui forme le coin en bas à gauche de la matrice.\n",
    "\n",
    "<span style=\"color:teal\"> Exemple</span> <br>\n",
    "Pour une matrice:\n",
    "```\n",
    "[[1 2 2 3 2 4 2 1 2 4 6 5 4 6 4 3 2 1 1 1]\n",
    " [1 6 1 1 5 4 6 1 3 3 2 5 5 3 2 6 2 4 1 3]\n",
    " [6 1 5 4 6 2 3 3 3 4 2 6 6 6 5 4 4 1 4 3]\n",
    " [5 6 2 2 2 3 5 6 2 4 3 1 1 3 6 1 6 6 4 6]\n",
    " [4 4 2 6 6 1 3 1 4 4 4 6 5 4 1 6 4 3 5 4]\n",
    " [5 5 4 1 2 6 3 1 3 4 4 1 3 4 3 4 4 5 4 6]\n",
    " [3 4 2 5 6 1 6 6 6 4 1 1 1 2 1 5 3 1 5 6]\n",
    " [2 3 1 1 6 1 2 3 5 2 3 5 3 6 2 6 5 5 6 5]\n",
    " [1 6 3 5 5 3 3 1 5 2 3 1 4 3 1 3 2 6 4 6]\n",
    " [4 3 1 4 3 6 6 4 1 3 4 5 4 1 1 5 5 1 1 5]\n",
    " [3 2 6 3 5 2 3 1 5 2 2 4 5 2 6 4 5 3 1 4]\n",
    " [6 3 2 4 4 4 2 6 3 5 6 3 2 2 1 1 3 2 5 3]\n",
    " [6 5 6 1 6 6 4 2 3 4 5 6 2 1 3 5 5 4 1 1]\n",
    " [3 3 2 6 1 6 3 2 1 4 3 3 1 1 5 2 2 6 4 4]\n",
    " [4 4 4 6 6 2 1 1 4 1 6 2 6 4 2 5 5 2 6 2]\n",
    " [6 1 2 3 4 1 6 6 1 6 3 2 6 4 2 5 4 3 2 3]\n",
    " [6 3 3 2 1 1 1 6 3 3 3 6 1 1 3 6 1 2 1 3]\n",
    " [5 6 1 3 4 2 6 1 2 1 3 3 1 3 1 4 5 6 4 3]\n",
    " [3 3 2 3 1 2 4 3 6 6 1 1 4 5 3 1 4 3 6 2]\n",
    " [6 2 3 2 2 3 1 1 3 3 4 5 3 3 5 3 2 6 4 1]]\n",
    "```\n",
    "<br>\n",
    "\n",
    "le coin en bas à gauche est :\n",
    "```\n",
    "[[6 1 2 3 4]\n",
    " [6 3 3 2 1]\n",
    " [5 6 1 3 4]\n",
    " [3 3 2 3 1]\n",
    " [6 2 3 2 2]]\n",
    "```\n"
   ]
  },
  {
   "cell_type": "code",
   "execution_count": 107,
   "metadata": {
    "deletable": false,
    "nbgrader": {
     "cell_type": "code",
     "checksum": "d723cad28d65c49daa65e98d4e03d326",
     "grade": false,
     "grade_id": "question13-q4-_cell-b85790042933edf5",
     "locked": false,
     "schema_version": 3,
     "solution": true,
     "task": false
    }
   },
   "outputs": [],
   "source": [
    " \n",
    "def extraire(matrice):\n",
    "    # YOUR CODE HERE\n",
    "    matrice = matrice[0:5, matrice.shape[0]-5:]\n",
    "    return matrice\n",
    "\n"
   ]
  },
  {
   "cell_type": "code",
   "execution_count": 108,
   "metadata": {
    "deletable": false,
    "editable": false,
    "nbgrader": {
     "cell_type": "code",
     "checksum": "c25353e5c41c3c2ccc1c3dc51ab4b139",
     "grade": true,
     "grade_id": "question13-q4-_cell-bd87b5f24358c0c",
     "locked": true,
     "points": 1,
     "schema_version": 3,
     "solution": false,
     "task": false
    }
   },
   "outputs": [
    {
     "name": "stdout",
     "output_type": "stream",
     "text": [
      "\u001b[91m KO - Au moins un test n'est pas validé\u001b[00m\n",
      "Information sur le test non valide:\n",
      "\n",
      "Items are not equal:\n",
      " ACTUAL: 3\n",
      " DESIRED: 4\n"
     ]
    },
    {
     "ename": "AssertionError",
     "evalue": "\nItems are not equal:\n ACTUAL: 3\n DESIRED: 4",
     "output_type": "error",
     "traceback": [
      "\u001b[0;31m---------------------------------------------------------------------------\u001b[0m",
      "\u001b[0;31mAssertionError\u001b[0m                            Traceback (most recent call last)",
      "\u001b[0;32m<ipython-input-108-3fcce12b9e00>\u001b[0m in \u001b[0;36m<module>\u001b[0;34m\u001b[0m\n\u001b[1;32m     16\u001b[0m     \u001b[0mprint\u001b[0m\u001b[0;34m(\u001b[0m\u001b[0;34m'Information sur le test non valide:'\u001b[0m\u001b[0;34m)\u001b[0m\u001b[0;34m\u001b[0m\u001b[0;34m\u001b[0m\u001b[0m\n\u001b[1;32m     17\u001b[0m     \u001b[0mprint\u001b[0m\u001b[0;34m(\u001b[0m\u001b[0me\u001b[0m\u001b[0;34m)\u001b[0m\u001b[0;34m\u001b[0m\u001b[0;34m\u001b[0m\u001b[0m\n\u001b[0;32m---> 18\u001b[0;31m     \u001b[0;32mraise\u001b[0m \u001b[0me\u001b[0m\u001b[0;34m\u001b[0m\u001b[0;34m\u001b[0m\u001b[0m\n\u001b[0m\u001b[1;32m     19\u001b[0m \u001b[0;32melse\u001b[0m\u001b[0;34m:\u001b[0m\u001b[0;34m\u001b[0m\u001b[0;34m\u001b[0m\u001b[0m\n\u001b[1;32m     20\u001b[0m     \u001b[0mprint\u001b[0m\u001b[0;34m(\u001b[0m\u001b[0;34m\"\\033[92m {}\\033[00m\"\u001b[0m \u001b[0;34m.\u001b[0m\u001b[0mformat\u001b[0m\u001b[0;34m(\u001b[0m\u001b[0;34m'Ok - Tous les tests sont validés.'\u001b[0m\u001b[0;34m)\u001b[0m\u001b[0;34m)\u001b[0m\u001b[0;34m\u001b[0m\u001b[0;34m\u001b[0m\u001b[0m\n",
      "\u001b[0;32m<ipython-input-108-3fcce12b9e00>\u001b[0m in \u001b[0;36m<module>\u001b[0;34m\u001b[0m\n\u001b[1;32m      6\u001b[0m     \u001b[0mnp\u001b[0m\u001b[0;34m.\u001b[0m\u001b[0mtesting\u001b[0m\u001b[0;34m.\u001b[0m\u001b[0massert_equal\u001b[0m\u001b[0;34m(\u001b[0m\u001b[0mres\u001b[0m\u001b[0;34m.\u001b[0m\u001b[0mshape\u001b[0m\u001b[0;34m,\u001b[0m\u001b[0;34m(\u001b[0m\u001b[0;36m5\u001b[0m\u001b[0;34m,\u001b[0m\u001b[0;36m5\u001b[0m\u001b[0;34m)\u001b[0m\u001b[0;34m)\u001b[0m\u001b[0;34m\u001b[0m\u001b[0;34m\u001b[0m\u001b[0m\n\u001b[1;32m      7\u001b[0m     \u001b[0;32mif\u001b[0m \u001b[0;36m0\u001b[0m\u001b[0;34m==\u001b[0m\u001b[0;36m0\u001b[0m\u001b[0;34m:\u001b[0m\u001b[0;34m\u001b[0m\u001b[0;34m\u001b[0m\u001b[0m\n\u001b[0;32m----> 8\u001b[0;31m         \u001b[0mnp\u001b[0m\u001b[0;34m.\u001b[0m\u001b[0mtesting\u001b[0m\u001b[0;34m.\u001b[0m\u001b[0massert_equal\u001b[0m\u001b[0;34m(\u001b[0m\u001b[0mres\u001b[0m\u001b[0;34m[\u001b[0m\u001b[0;34m-\u001b[0m\u001b[0;36m1\u001b[0m\u001b[0;34m,\u001b[0m\u001b[0;36m0\u001b[0m\u001b[0;34m]\u001b[0m\u001b[0;34m,\u001b[0m\u001b[0mmatrice\u001b[0m\u001b[0;34m[\u001b[0m\u001b[0;34m-\u001b[0m\u001b[0;36m1\u001b[0m\u001b[0;34m,\u001b[0m\u001b[0;36m0\u001b[0m\u001b[0;34m]\u001b[0m\u001b[0;34m)\u001b[0m\u001b[0;34m\u001b[0m\u001b[0;34m\u001b[0m\u001b[0m\n\u001b[0m\u001b[1;32m      9\u001b[0m     \u001b[0;32melif\u001b[0m \u001b[0;36m0\u001b[0m\u001b[0;34m==\u001b[0m\u001b[0;36m1\u001b[0m\u001b[0;34m:\u001b[0m\u001b[0;34m\u001b[0m\u001b[0;34m\u001b[0m\u001b[0m\n\u001b[1;32m     10\u001b[0m         \u001b[0mnp\u001b[0m\u001b[0;34m.\u001b[0m\u001b[0mtesting\u001b[0m\u001b[0;34m.\u001b[0m\u001b[0massert_equal\u001b[0m\u001b[0;34m(\u001b[0m\u001b[0mres\u001b[0m\u001b[0;34m[\u001b[0m\u001b[0;34m-\u001b[0m\u001b[0;36m1\u001b[0m\u001b[0;34m,\u001b[0m\u001b[0;34m-\u001b[0m\u001b[0;36m1\u001b[0m\u001b[0;34m]\u001b[0m\u001b[0;34m,\u001b[0m\u001b[0mmatrice\u001b[0m\u001b[0;34m[\u001b[0m\u001b[0;34m-\u001b[0m\u001b[0;36m1\u001b[0m\u001b[0;34m,\u001b[0m\u001b[0;34m-\u001b[0m\u001b[0;36m1\u001b[0m\u001b[0;34m]\u001b[0m\u001b[0;34m)\u001b[0m\u001b[0;34m\u001b[0m\u001b[0;34m\u001b[0m\u001b[0m\n",
      "\u001b[0;32m/usr/lib/python3/dist-packages/numpy/testing/_private/utils.py\u001b[0m in \u001b[0;36massert_equal\u001b[0;34m(actual, desired, err_msg, verbose)\u001b[0m\n\u001b[1;32m    425\u001b[0m         \u001b[0;31m# Explicitly use __eq__ for comparison, gh-2552\u001b[0m\u001b[0;34m\u001b[0m\u001b[0;34m\u001b[0m\u001b[0;34m\u001b[0m\u001b[0m\n\u001b[1;32m    426\u001b[0m         \u001b[0;32mif\u001b[0m \u001b[0;32mnot\u001b[0m \u001b[0;34m(\u001b[0m\u001b[0mdesired\u001b[0m \u001b[0;34m==\u001b[0m \u001b[0mactual\u001b[0m\u001b[0;34m)\u001b[0m\u001b[0;34m:\u001b[0m\u001b[0;34m\u001b[0m\u001b[0;34m\u001b[0m\u001b[0m\n\u001b[0;32m--> 427\u001b[0;31m             \u001b[0;32mraise\u001b[0m \u001b[0mAssertionError\u001b[0m\u001b[0;34m(\u001b[0m\u001b[0mmsg\u001b[0m\u001b[0;34m)\u001b[0m\u001b[0;34m\u001b[0m\u001b[0;34m\u001b[0m\u001b[0m\n\u001b[0m\u001b[1;32m    428\u001b[0m \u001b[0;34m\u001b[0m\u001b[0m\n\u001b[1;32m    429\u001b[0m     \u001b[0;32mexcept\u001b[0m \u001b[0;34m(\u001b[0m\u001b[0mDeprecationWarning\u001b[0m\u001b[0;34m,\u001b[0m \u001b[0mFutureWarning\u001b[0m\u001b[0;34m)\u001b[0m \u001b[0;32mas\u001b[0m \u001b[0me\u001b[0m\u001b[0;34m:\u001b[0m\u001b[0;34m\u001b[0m\u001b[0;34m\u001b[0m\u001b[0m\n",
      "\u001b[0;31mAssertionError\u001b[0m: \nItems are not equal:\n ACTUAL: 3\n DESIRED: 4"
     ]
    }
   ],
   "source": [
    "\n",
    "# Ce bloc permet de valider votre code. Vous devez l'exécuter mais ne pas le modifier.  \n",
    "try:\n",
    "\n",
    "    matrice = np.random.randint(1,7,size=(20,20))\n",
    "    res = extraire(matrice)\n",
    "    np.testing.assert_equal(res.shape,(5,5))\n",
    "    if 0==0:\n",
    "        np.testing.assert_equal(res[-1,0],matrice[-1,0])\n",
    "    elif 0==1:\n",
    "        np.testing.assert_equal(res[-1,-1],matrice[-1,-1])\n",
    "    else:\n",
    "        np.testing.assert_equal(res[0,-1],matrice[0,-1])\n",
    "    \n",
    "except Exception as e: \n",
    "    print(\"\\033[91m {}\\033[00m\" .format('KO - Au moins un test n\\'est pas validé')) \n",
    "    print('Information sur le test non valide:')\n",
    "    print(e)\n",
    "    raise e\n",
    "else:\n",
    "    print(\"\\033[92m {}\\033[00m\" .format('Ok - Tous les tests sont validés.')) \n"
   ]
  },
  {
   "cell_type": "markdown",
   "metadata": {
    "deletable": false,
    "editable": false,
    "nbgrader": {
     "cell_type": "markdown",
     "checksum": "2a44fc2e761f15afde5b0276806b6441",
     "grade": false,
     "grade_id": "question16-q7-_cell-fae50e08827335da",
     "locked": true,
     "schema_version": 3,
     "solution": false,
     "task": false
    }
   },
   "source": [
    "Question 22: \n",
    "Créez une matrice `mat` de taille (6,3) dont toutes les valeurs sont à 4 sauf la colonne 0 dont les éléments sont tous 0.\n",
    "\n",
    "<span style=\"color:teal\">La matrice à construire :</span> <br>\n",
    "```\n",
    "[[0. 4. 4.]\n",
    " [0. 4. 4.]\n",
    " [0. 4. 4.]\n",
    " [0. 4. 4.]\n",
    " [0. 4. 4.]\n",
    " [0. 4. 4.]]\n",
    "```\n"
   ]
  },
  {
   "cell_type": "code",
   "execution_count": 44,
   "metadata": {
    "deletable": false,
    "nbgrader": {
     "cell_type": "code",
     "checksum": "b75cb1bfcd4eaf8211807b1bc947e544",
     "grade": false,
     "grade_id": "question16-q7-_cell-94deffa504a1551f",
     "locked": false,
     "schema_version": 3,
     "solution": true,
     "task": false
    }
   },
   "outputs": [
    {
     "name": "stdout",
     "output_type": "stream",
     "text": [
      "[]\n"
     ]
    }
   ],
   "source": [
    "\n",
    "# YOUR CODE HERE\n",
    "mat = np.array((6,3))\n",
    "mat = (mat[:0][:4]) \n",
    "print(mat)\n"
   ]
  },
  {
   "cell_type": "code",
   "execution_count": 45,
   "metadata": {
    "deletable": false,
    "editable": false,
    "nbgrader": {
     "cell_type": "code",
     "checksum": "dee9daf16d76161714bb12453881e090",
     "grade": true,
     "grade_id": "question16-q7-_cell-1fabe567e6a0893",
     "locked": true,
     "points": 1,
     "schema_version": 3,
     "solution": false,
     "task": false
    }
   },
   "outputs": [
    {
     "name": "stdout",
     "output_type": "stream",
     "text": [
      "\u001b[91m KO - Au moins un test n'est pas validé\u001b[00m\n",
      "Information sur le test non valide:\n",
      "\n",
      "Items are not equal: Attention à la taille\n",
      " ACTUAL: 1\n",
      " DESIRED: 2\n"
     ]
    },
    {
     "ename": "AssertionError",
     "evalue": "\nItems are not equal: Attention à la taille\n ACTUAL: 1\n DESIRED: 2",
     "output_type": "error",
     "traceback": [
      "\u001b[0;31m---------------------------------------------------------------------------\u001b[0m",
      "\u001b[0;31mAssertionError\u001b[0m                            Traceback (most recent call last)",
      "\u001b[0;32m<ipython-input-45-d1478ec2ff14>\u001b[0m in \u001b[0;36m<module>\u001b[0;34m\u001b[0m\n\u001b[1;32m      9\u001b[0m     \u001b[0mprint\u001b[0m\u001b[0;34m(\u001b[0m\u001b[0;34m'Information sur le test non valide:'\u001b[0m\u001b[0;34m)\u001b[0m\u001b[0;34m\u001b[0m\u001b[0;34m\u001b[0m\u001b[0m\n\u001b[1;32m     10\u001b[0m     \u001b[0mprint\u001b[0m\u001b[0;34m(\u001b[0m\u001b[0me\u001b[0m\u001b[0;34m)\u001b[0m\u001b[0;34m\u001b[0m\u001b[0;34m\u001b[0m\u001b[0m\n\u001b[0;32m---> 11\u001b[0;31m     \u001b[0;32mraise\u001b[0m \u001b[0me\u001b[0m\u001b[0;34m\u001b[0m\u001b[0;34m\u001b[0m\u001b[0m\n\u001b[0m\u001b[1;32m     12\u001b[0m \u001b[0;32melse\u001b[0m\u001b[0;34m:\u001b[0m\u001b[0;34m\u001b[0m\u001b[0;34m\u001b[0m\u001b[0m\n\u001b[1;32m     13\u001b[0m     \u001b[0mprint\u001b[0m\u001b[0;34m(\u001b[0m\u001b[0;34m\"\\033[92m {}\\033[00m\"\u001b[0m \u001b[0;34m.\u001b[0m\u001b[0mformat\u001b[0m\u001b[0;34m(\u001b[0m\u001b[0;34m'Ok - Tous les tests sont validés.'\u001b[0m\u001b[0;34m)\u001b[0m\u001b[0;34m)\u001b[0m\u001b[0;34m\u001b[0m\u001b[0;34m\u001b[0m\u001b[0m\n",
      "\u001b[0;32m<ipython-input-45-d1478ec2ff14>\u001b[0m in \u001b[0;36m<module>\u001b[0;34m\u001b[0m\n\u001b[1;32m      2\u001b[0m \u001b[0;32mtry\u001b[0m\u001b[0;34m:\u001b[0m\u001b[0;34m\u001b[0m\u001b[0;34m\u001b[0m\u001b[0m\n\u001b[1;32m      3\u001b[0m \u001b[0;34m\u001b[0m\u001b[0m\n\u001b[0;32m----> 4\u001b[0;31m     \u001b[0mnp\u001b[0m\u001b[0;34m.\u001b[0m\u001b[0mtesting\u001b[0m\u001b[0;34m.\u001b[0m\u001b[0massert_equal\u001b[0m\u001b[0;34m(\u001b[0m\u001b[0mmat\u001b[0m\u001b[0;34m.\u001b[0m\u001b[0mshape\u001b[0m\u001b[0;34m,\u001b[0m\u001b[0;34m(\u001b[0m\u001b[0;36m6\u001b[0m\u001b[0;34m,\u001b[0m\u001b[0;36m3\u001b[0m\u001b[0;34m)\u001b[0m\u001b[0;34m,\u001b[0m\u001b[0merr_msg\u001b[0m\u001b[0;34m=\u001b[0m\u001b[0;34m'Attention à la taille'\u001b[0m\u001b[0;34m)\u001b[0m\u001b[0;34m\u001b[0m\u001b[0;34m\u001b[0m\u001b[0m\n\u001b[0m\u001b[1;32m      5\u001b[0m     \u001b[0mnp\u001b[0m\u001b[0;34m.\u001b[0m\u001b[0mtesting\u001b[0m\u001b[0;34m.\u001b[0m\u001b[0massert_almost_equal\u001b[0m\u001b[0;34m(\u001b[0m\u001b[0mnp\u001b[0m\u001b[0;34m.\u001b[0m\u001b[0msum\u001b[0m\u001b[0;34m(\u001b[0m\u001b[0mmat\u001b[0m\u001b[0;34m)\u001b[0m\u001b[0;34m,\u001b[0m\u001b[0;36m4\u001b[0m\u001b[0;34m*\u001b[0m\u001b[0;36m6\u001b[0m\u001b[0;34m*\u001b[0m\u001b[0;34m(\u001b[0m\u001b[0;36m3\u001b[0m\u001b[0;34m-\u001b[0m\u001b[0;36m1\u001b[0m\u001b[0;34m)\u001b[0m\u001b[0;34m)\u001b[0m\u001b[0;34m\u001b[0m\u001b[0;34m\u001b[0m\u001b[0m\n\u001b[1;32m      6\u001b[0m \u001b[0;34m\u001b[0m\u001b[0m\n",
      "\u001b[0;32m/usr/lib/python3/dist-packages/numpy/testing/_private/utils.py\u001b[0m in \u001b[0;36massert_equal\u001b[0;34m(actual, desired, err_msg, verbose)\u001b[0m\n\u001b[1;32m    351\u001b[0m         \u001b[0;32mreturn\u001b[0m\u001b[0;34m\u001b[0m\u001b[0;34m\u001b[0m\u001b[0m\n\u001b[1;32m    352\u001b[0m     \u001b[0;32mif\u001b[0m \u001b[0misinstance\u001b[0m\u001b[0;34m(\u001b[0m\u001b[0mdesired\u001b[0m\u001b[0;34m,\u001b[0m \u001b[0;34m(\u001b[0m\u001b[0mlist\u001b[0m\u001b[0;34m,\u001b[0m \u001b[0mtuple\u001b[0m\u001b[0;34m)\u001b[0m\u001b[0;34m)\u001b[0m \u001b[0;32mand\u001b[0m \u001b[0misinstance\u001b[0m\u001b[0;34m(\u001b[0m\u001b[0mactual\u001b[0m\u001b[0;34m,\u001b[0m \u001b[0;34m(\u001b[0m\u001b[0mlist\u001b[0m\u001b[0;34m,\u001b[0m \u001b[0mtuple\u001b[0m\u001b[0;34m)\u001b[0m\u001b[0;34m)\u001b[0m\u001b[0;34m:\u001b[0m\u001b[0;34m\u001b[0m\u001b[0;34m\u001b[0m\u001b[0m\n\u001b[0;32m--> 353\u001b[0;31m         \u001b[0massert_equal\u001b[0m\u001b[0;34m(\u001b[0m\u001b[0mlen\u001b[0m\u001b[0;34m(\u001b[0m\u001b[0mactual\u001b[0m\u001b[0;34m)\u001b[0m\u001b[0;34m,\u001b[0m \u001b[0mlen\u001b[0m\u001b[0;34m(\u001b[0m\u001b[0mdesired\u001b[0m\u001b[0;34m)\u001b[0m\u001b[0;34m,\u001b[0m \u001b[0merr_msg\u001b[0m\u001b[0;34m,\u001b[0m \u001b[0mverbose\u001b[0m\u001b[0;34m)\u001b[0m\u001b[0;34m\u001b[0m\u001b[0;34m\u001b[0m\u001b[0m\n\u001b[0m\u001b[1;32m    354\u001b[0m         \u001b[0;32mfor\u001b[0m \u001b[0mk\u001b[0m \u001b[0;32min\u001b[0m \u001b[0mrange\u001b[0m\u001b[0;34m(\u001b[0m\u001b[0mlen\u001b[0m\u001b[0;34m(\u001b[0m\u001b[0mdesired\u001b[0m\u001b[0;34m)\u001b[0m\u001b[0;34m)\u001b[0m\u001b[0;34m:\u001b[0m\u001b[0;34m\u001b[0m\u001b[0;34m\u001b[0m\u001b[0m\n\u001b[1;32m    355\u001b[0m             \u001b[0massert_equal\u001b[0m\u001b[0;34m(\u001b[0m\u001b[0mactual\u001b[0m\u001b[0;34m[\u001b[0m\u001b[0mk\u001b[0m\u001b[0;34m]\u001b[0m\u001b[0;34m,\u001b[0m \u001b[0mdesired\u001b[0m\u001b[0;34m[\u001b[0m\u001b[0mk\u001b[0m\u001b[0;34m]\u001b[0m\u001b[0;34m,\u001b[0m \u001b[0;34m'item=%r\\n%s'\u001b[0m \u001b[0;34m%\u001b[0m \u001b[0;34m(\u001b[0m\u001b[0mk\u001b[0m\u001b[0;34m,\u001b[0m \u001b[0merr_msg\u001b[0m\u001b[0;34m)\u001b[0m\u001b[0;34m,\u001b[0m \u001b[0mverbose\u001b[0m\u001b[0;34m)\u001b[0m\u001b[0;34m\u001b[0m\u001b[0;34m\u001b[0m\u001b[0m\n",
      "\u001b[0;32m/usr/lib/python3/dist-packages/numpy/testing/_private/utils.py\u001b[0m in \u001b[0;36massert_equal\u001b[0;34m(actual, desired, err_msg, verbose)\u001b[0m\n\u001b[1;32m    425\u001b[0m         \u001b[0;31m# Explicitly use __eq__ for comparison, gh-2552\u001b[0m\u001b[0;34m\u001b[0m\u001b[0;34m\u001b[0m\u001b[0;34m\u001b[0m\u001b[0m\n\u001b[1;32m    426\u001b[0m         \u001b[0;32mif\u001b[0m \u001b[0;32mnot\u001b[0m \u001b[0;34m(\u001b[0m\u001b[0mdesired\u001b[0m \u001b[0;34m==\u001b[0m \u001b[0mactual\u001b[0m\u001b[0;34m)\u001b[0m\u001b[0;34m:\u001b[0m\u001b[0;34m\u001b[0m\u001b[0;34m\u001b[0m\u001b[0m\n\u001b[0;32m--> 427\u001b[0;31m             \u001b[0;32mraise\u001b[0m \u001b[0mAssertionError\u001b[0m\u001b[0;34m(\u001b[0m\u001b[0mmsg\u001b[0m\u001b[0;34m)\u001b[0m\u001b[0;34m\u001b[0m\u001b[0;34m\u001b[0m\u001b[0m\n\u001b[0m\u001b[1;32m    428\u001b[0m \u001b[0;34m\u001b[0m\u001b[0m\n\u001b[1;32m    429\u001b[0m     \u001b[0;32mexcept\u001b[0m \u001b[0;34m(\u001b[0m\u001b[0mDeprecationWarning\u001b[0m\u001b[0;34m,\u001b[0m \u001b[0mFutureWarning\u001b[0m\u001b[0;34m)\u001b[0m \u001b[0;32mas\u001b[0m \u001b[0me\u001b[0m\u001b[0;34m:\u001b[0m\u001b[0;34m\u001b[0m\u001b[0;34m\u001b[0m\u001b[0m\n",
      "\u001b[0;31mAssertionError\u001b[0m: \nItems are not equal: Attention à la taille\n ACTUAL: 1\n DESIRED: 2"
     ]
    }
   ],
   "source": [
    "\n",
    "# Ce bloc permet de valider votre code. Vous devez l'exécuter mais ne pas le modifier.  \n",
    "try:\n",
    "\n",
    "    np.testing.assert_equal(mat.shape,(6,3),err_msg='Attention à la taille')\n",
    "    np.testing.assert_almost_equal(np.sum(mat),4*6*(3-1))\n",
    "    \n",
    "except Exception as e: \n",
    "    print(\"\\033[91m {}\\033[00m\" .format('KO - Au moins un test n\\'est pas validé')) \n",
    "    print('Information sur le test non valide:')\n",
    "    print(e)\n",
    "    raise e\n",
    "else:\n",
    "    print(\"\\033[92m {}\\033[00m\" .format('Ok - Tous les tests sont validés.')) \n"
   ]
  },
  {
   "cell_type": "markdown",
   "metadata": {
    "deletable": false,
    "editable": false,
    "nbgrader": {
     "cell_type": "markdown",
     "checksum": "3e1f5e19cb86d59cb0ee9a1155d2aa91",
     "grade": false,
     "grade_id": "question12-q3-_cell-5c5a510a364191b7",
     "locked": true,
     "schema_version": 3,
     "solution": false,
     "task": false
    }
   },
   "source": [
    "Question 23: \n",
    "Écrivez une fonction qui prend en entrée une matrice et qui calcule le produit des éléments des colonnes de $4$ à $6$ (la colonne $6$ étant exclue). \n",
    "\n",
    "<span style=\"color:teal\">Exemple :</span> <br>\n",
    "```\n",
    "[[4 2 6 2 6 1 3]\n",
    " [6 6 2 6 6 3 3]\n",
    " [4 2 4 5 1 2 2]\n",
    " [1 3 5 2 2 5 3]\n",
    " [5 6 5 4 5 1 1]]\n",
    "```\n",
    "<br>\n",
    "\n",
    "a pour sortie `10800`.\n"
   ]
  },
  {
   "cell_type": "code",
   "execution_count": null,
   "metadata": {
    "deletable": false,
    "nbgrader": {
     "cell_type": "code",
     "checksum": "8fa69d6a96a7260eb9d1630108e433d7",
     "grade": false,
     "grade_id": "question12-q3-_cell-79e465221912c5d9",
     "locked": false,
     "schema_version": 3,
     "solution": true,
     "task": false
    }
   },
   "outputs": [],
   "source": [
    "\n",
    "def amalgame(matrice):\n",
    "    # YOUR CODE HERE\n",
    "    raise NotImplementedError()\n",
    "\n"
   ]
  },
  {
   "cell_type": "code",
   "execution_count": null,
   "metadata": {
    "deletable": false,
    "editable": false,
    "nbgrader": {
     "cell_type": "code",
     "checksum": "bfd7b211ae5ebd05649535a687e79456",
     "grade": true,
     "grade_id": "question12-q3-_cell-2c1eded51baf39d7",
     "locked": true,
     "points": 1,
     "schema_version": 3,
     "solution": false,
     "task": false
    }
   },
   "outputs": [],
   "source": [
    "\n",
    "# Ce bloc permet de valider votre code. Vous devez l'exécuter mais ne pas le modifier.  \n",
    "try:\n",
    " \n",
    "    res = amalgame(np.array([[4, 2, 6, 2, 6, 1, 3], [6, 6, 2, 6, 6, 3, 3], [4, 2, 4, 5, 1, 2, 2], [1, 3, 5, 2, 2, 5, 3], [5, 6, 5, 4, 5, 1, 1]]))\n",
    "    np.testing.assert_almost_equal(res,10800)\n",
    "    \n",
    "except Exception as e: \n",
    "    print(\"\\033[91m {}\\033[00m\" .format('KO - Au moins un test n\\'est pas validé')) \n",
    "    print('Information sur le test non valide:')\n",
    "    print(e)\n",
    "    raise e\n",
    "else:\n",
    "    print(\"\\033[92m {}\\033[00m\" .format('Ok - Tous les tests sont validés.')) \n"
   ]
  },
  {
   "cell_type": "markdown",
   "metadata": {
    "deletable": false,
    "editable": false,
    "nbgrader": {
     "cell_type": "markdown",
     "checksum": "a99c2d4773c2911d5ff4eb238dd81fa0",
     "grade": false,
     "grade_id": "question22-q13-_cell-9523048707ea87b0",
     "locked": true,
     "schema_version": 3,
     "solution": false,
     "task": false
    }
   },
   "source": [
    "Question 24: \n",
    "En utilisant le mécanisme de broadcasting, écrire une fonction `distance_minkowski_matrix` prenant en entrée une matrice\n",
    "`P` de $n$ lignes (points) et $k$ colonnes (coordonnées) et qui renvois la matrice `D` de taille $n \\times n$ tel que $D_{i,j} = \\left(\\sum_{c=1}^k \\left(P_{i,c}-P_{j,c}\\right)^2\\right)^\\frac{1}{2}$ .\n"
   ]
  },
  {
   "cell_type": "code",
   "execution_count": null,
   "metadata": {
    "deletable": false,
    "nbgrader": {
     "cell_type": "code",
     "checksum": "33a8b88011cde020eaf6adab20cdbfc3",
     "grade": false,
     "grade_id": "question22-q13-_cell-b6f24fa17a82f0ea",
     "locked": false,
     "schema_version": 3,
     "solution": true,
     "task": false
    }
   },
   "outputs": [],
   "source": [
    "\n",
    "def distance_minkowski_matrix(P):\n",
    "    # YOUR CODE HERE\n",
    "    raise NotImplementedError()\n"
   ]
  },
  {
   "cell_type": "code",
   "execution_count": null,
   "metadata": {
    "deletable": false,
    "editable": false,
    "nbgrader": {
     "cell_type": "code",
     "checksum": "6f8cdbffcd7676e969f5f89c887f1bbb",
     "grade": true,
     "grade_id": "question22-q13-_cell-1da5da9a33e939c5",
     "locked": true,
     "points": 1,
     "schema_version": 3,
     "solution": false,
     "task": false
    }
   },
   "outputs": [],
   "source": [
    "\n",
    "# Ce bloc permet de valider votre code. Vous devez l'exécuter mais ne pas le modifier.  \n",
    "try:\n",
    "\n",
    "    a = np.random.randint(0,10,(10,2))*2-1\n",
    "    b = distance_minkowski_matrix(a)\n",
    "    \n",
    "    np.testing.assert_equal(b.shape,(10,10),err_msg='Dimensions non valident.')\n",
    "    np.testing.assert_almost_equal((b < 0.0).sum(), 0,err_msg='Les valeurs calculés sont fausses.')\n",
    "    \n",
    "except Exception as e: \n",
    "    print(\"\\033[91m {}\\033[00m\" .format('KO - Au moins un test n\\'est pas validé')) \n",
    "    print('Information sur le test non valide:')\n",
    "    print(e)\n",
    "    raise e\n",
    "else:\n",
    "    print(\"\\033[92m {}\\033[00m\" .format('Ok - Tous les tests sont validés.')) \n"
   ]
  },
  {
   "cell_type": "markdown",
   "metadata": {
    "deletable": false,
    "editable": false,
    "nbgrader": {
     "cell_type": "markdown",
     "checksum": "4480bc920f3a4a179ad037a6a0448d8d",
     "grade": false,
     "grade_id": "question17-q8-_cell-345eaf065fd1dc35",
     "locked": true,
     "schema_version": 3,
     "solution": false,
     "task": false
    }
   },
   "source": [
    "Question 25: \n",
    "Écrire une fonction qui prend en entrée une matrice de taille $(5,4)$ et qui soustrait la ligne $4$ à toutes les lignes de la matrice.\n",
    "\n",
    "<span style=\"color:teal\">Exemple :</span> <br>\n",
    "```\n",
    "[[2 3 1 3]\n",
    " [4 2 2 5]\n",
    " [6 3 5 2]\n",
    " [3 4 5 6]\n",
    " [1 4 6 2]]\n",
    "```\n",
    "<br>\n",
    "\n",
    "a pour sortie\n",
    "\n",
    "```\n",
    "[[ 1 -1 -5  1]\n",
    " [ 3 -2 -4  3]\n",
    " [ 5 -1 -1  0]\n",
    " [ 2  0 -1  4]\n",
    " [ 0  0  0  0]]\n",
    "```\n"
   ]
  },
  {
   "cell_type": "code",
   "execution_count": null,
   "metadata": {
    "deletable": false,
    "nbgrader": {
     "cell_type": "code",
     "checksum": "416137a5db3ee363b28e428a17dfe23d",
     "grade": false,
     "grade_id": "question17-q8-_cell-4c9a4e5558f9924e",
     "locked": false,
     "schema_version": 3,
     "solution": true,
     "task": false
    }
   },
   "outputs": [],
   "source": [
    "\n",
    "def soustrait(matrice):\n",
    "    # YOUR CODE HERE\n",
    "    raise NotImplementedError()\n"
   ]
  },
  {
   "cell_type": "code",
   "execution_count": null,
   "metadata": {
    "deletable": false,
    "editable": false,
    "nbgrader": {
     "cell_type": "code",
     "checksum": "615a63cbfc9b9183cce496bff8a0595b",
     "grade": true,
     "grade_id": "question17-q8-_cell-9712df7af2f72ade",
     "locked": true,
     "points": 1,
     "schema_version": 3,
     "solution": false,
     "task": false
    }
   },
   "outputs": [],
   "source": [
    "\n",
    "# Ce bloc permet de valider votre code. Vous devez l'exécuter mais ne pas le modifier.  \n",
    "try:\n",
    "\n",
    "    mat = np.arange(5*4).reshape(-1,4)\n",
    "    res = soustrait(mat)\n",
    "    np.testing.assert_equal(res.shape,mat.shape)\n",
    "    np.testing.assert_almost_equal(np.sum(res),np.sum(mat)-5*np.sum(mat[4]))\n",
    "    \n",
    "except Exception as e: \n",
    "    print(\"\\033[91m {}\\033[00m\" .format('KO - Au moins un test n\\'est pas validé')) \n",
    "    print('Information sur le test non valide:')\n",
    "    print(e)\n",
    "    raise e\n",
    "else:\n",
    "    print(\"\\033[92m {}\\033[00m\" .format('Ok - Tous les tests sont validés.')) \n"
   ]
  }
 ],
 "metadata": {
  "id_notebook": "705ff213239a75e2",
  "kernelspec": {
   "display_name": "Python 3",
   "language": "python",
   "name": "python3"
  },
  "language_info": {
   "codemirror_mode": {
    "name": "ipython",
    "version": 3
   },
   "file_extension": ".py",
   "mimetype": "text/x-python",
   "name": "python",
   "nbconvert_exporter": "python",
   "pygments_lexer": "ipython3",
   "version": "3.8.10"
  }
 },
 "nbformat": 4,
 "nbformat_minor": 5
}
