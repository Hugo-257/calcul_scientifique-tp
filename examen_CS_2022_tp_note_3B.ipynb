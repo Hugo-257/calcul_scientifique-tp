{
 "cells": [
  {
   "cell_type": "markdown",
   "id": "5a2c5354",
   "metadata": {},
   "source": [
    "\n",
    "TP noté de Calcul scientifique\n",
    " =====\n",
    " \n",
    "1 - Consignes \n",
    "-----\n",
    "\n",
    "L'examen sera à réaliser en python 3. Les questions du sujet doivent être résolues uniquement avec des fonctions des librairies `numpy`, `scipy` et `matplotlib` vu durant l'année.\n",
    "\t\n",
    "**<span style=\"color:red\"> À part si cela est précisé, vous ne devez pas utiliser directement de boucle (`for`,`while`) ou de branchement conditionnel (`if`).</span>.**\n",
    "\n",
    "**<span style=\"color:red\"> \n",
    "Vous rendrez ce notebook en fin d'examen sur la plateforme ecampus sans en changer le nom. Les réponses sont à mettre dans le présent notebook et non dans un autre fichier.</span>**\n",
    "\n",
    "**<span style=\"color:red\"> \n",
    "Aucun envoi par mail ou soumission en retard ne sera accepté.</span>**\n",
    "\n",
    "**<span style=\"color:red\"> \n",
    "Vous devez avant tous avoir un code fonctionnel, ne perdez pas de temps sur des considérations esthétiques et supprimez les codes non fonctionnels.</span>**\n",
    "\n",
    "**<span style=\"color:red\"> \n",
    "Vous ne devez pas créer de nouveau bloque et vous répondrez aux questions uniquement dans les zones prévues.</span>**\n",
    "\n",
    "Gestion du temps:\n",
    "* Vous avez 2h30 pour traiter 25 questions, soit une moyenne de 6mn par question.\n",
    "* Il y a des questions faciles auquelles vous repondrez en moins de 5mn.\n",
    "* Vous pouvez toujours laisser une question en suspens pour y revenir après.\n",
    "* Ne restez jamais bloquez plus de 10 mn sur une même question, allez à la question suivante.\n",
    "* Le sujet n'est pas ordonné par difficulté. Des questions plus difficiles peuvent se trouver en début de sujet et des questions plus simple après.\n",
    "    \n",
    "\n",
    "2 - Sujet\n",
    "-----    \n",
    "    \n"
   ]
  },
  {
   "cell_type": "code",
   "execution_count": 57,
   "id": "979019dc",
   "metadata": {},
   "outputs": [],
   "source": [
    "import numpy as np\n",
    "\n",
    "import scipy as sc\n",
    "import scipy.optimize\n",
    "import scipy.spatial\n",
    "import scipy.signal\n",
    "\n",
    "import matplotlib.pyplot as plt"
   ]
  },
  {
   "cell_type": "code",
   "execution_count": 58,
   "id": "ce8aadbc",
   "metadata": {
    "deletable": false,
    "editable": true
   },
   "outputs": [],
   "source": [
    "# À compléter\n",
    "id_etu = {\n",
    "    \"Nom\": \"NTORE \",\n",
    "    \"Prénom\": \"HUGUES\",\n",
    "    \"Numéro d'étudiant\": \"2221à884\",\n",
    "    \"Groupe\": \"4A\"\n",
    "}    \n"
   ]
  },
  {
   "cell_type": "code",
   "execution_count": 59,
   "id": "aa3e51b4",
   "metadata": {
    "deletable": false,
    "editable": false
   },
   "outputs": [
    {
     "name": "stdout",
     "output_type": "stream",
     "text": [
      "\u001b[92m Ok - Tous les tests sont validés.\u001b[00m\n"
     ]
    }
   ],
   "source": [
    "\n",
    "# Ce bloc permet de valider votre code. Vous ne devez pas le modifier.  \n",
    "try:\n",
    "    assert len(id_etu['Nom'])>1,'Nom invalide'\n",
    "    assert len(id_etu['Prénom'])>1,'Prénom invalide'\n",
    "    assert any(chr.isdigit() for chr in id_etu[\"Numéro d'étudiant\"]),\"Numéro d'étudiant invalide\"\n",
    "    assert id_etu['Groupe'] in [str(i)+g for i in range(1,5) for g in 'AB' ],'Groupe invalide'\n",
    "    \n",
    "except Exception as e: \n",
    "    print(\"\\033[91m {}\\033[00m\" .format('KO - Au moins un test n\\'est pas validé')) \n",
    "    print('Information sur le test non valide:')\n",
    "    print(e)\n",
    "    #raise e\n",
    "else:\n",
    "    print(\"\\033[92m {}\\033[00m\" .format('Ok - Tous les tests sont validés.'))     \n",
    "    "
   ]
  },
  {
   "cell_type": "markdown",
   "id": "c385efc5",
   "metadata": {
    "deletable": false
   },
   "source": [
    "Zone de commentaires:"
   ]
  },
  {
   "cell_type": "raw",
   "id": "f3aa712a",
   "metadata": {
    "deletable": false
   },
   "source": [
    "Vous pouvez écrire dans ce bloc des commentaires ou des remarques que vous pourriez avoir sur le sujet."
   ]
  },
  {
   "cell_type": "markdown",
   "id": "9c60ead1",
   "metadata": {},
   "source": [
    "---"
   ]
  },
  {
   "cell_type": "markdown",
   "id": "784f0282",
   "metadata": {
    "deletable": false,
    "editable": false,
    "nbgrader": {
     "cell_type": "markdown",
     "checksum": "7879128a30b63ba8a01e26ff36ec1118",
     "grade": false,
     "grade_id": "question17-q8-_cell-8493db9fca6c9e51",
     "locked": true,
     "schema_version": 3,
     "solution": false,
     "task": false
    }
   },
   "source": [
    "Question 1: \n",
    "Écrire une fonction qui prend en entrée une matrice de taille $(5,2)$ et qui soustrait la ligne $2$ à toutes les lignes de la matrice.\n",
    "\n",
    "<span style=\"color:teal\">Exemple :</span> <br>\n",
    "```\n",
    "[[5 6]\n",
    " [5 2]\n",
    " [3 5]\n",
    " [5 5]\n",
    " [3 3]]\n",
    "```\n",
    "<br>\n",
    "\n",
    "a pour sortie\n",
    "\n",
    "```\n",
    "[[ 2  1]\n",
    " [ 2 -3]\n",
    " [ 0  0]\n",
    " [ 2  0]\n",
    " [ 0 -2]]\n",
    "```\n"
   ]
  },
  {
   "cell_type": "code",
   "execution_count": 60,
   "id": "af33e4a7",
   "metadata": {
    "deletable": false,
    "nbgrader": {
     "cell_type": "code",
     "checksum": "59c2ffe5a6b5b835892f4d35711010a6",
     "grade": false,
     "grade_id": "question17-q8-_cell-94ca4f7e4c1a8aca",
     "locked": false,
     "schema_version": 3,
     "solution": true,
     "task": false
    }
   },
   "outputs": [],
   "source": [
    "\n",
    "def soustrait(matrice):\n",
    "    return matrice - matrice[2,:]"
   ]
  },
  {
   "cell_type": "code",
   "execution_count": 61,
   "id": "87c1ce4d",
   "metadata": {
    "deletable": false,
    "editable": false,
    "nbgrader": {
     "cell_type": "code",
     "checksum": "7476b81dca3364f6f92db68170aa6165",
     "grade": true,
     "grade_id": "question17-q8-_cell-1137c05fd2a9e51",
     "locked": true,
     "points": 1,
     "schema_version": 3,
     "solution": false,
     "task": false
    }
   },
   "outputs": [
    {
     "name": "stdout",
     "output_type": "stream",
     "text": [
      "\u001b[92m Ok - Tous les tests sont validés.\u001b[00m\n"
     ]
    }
   ],
   "source": [
    "\n",
    "# Ce bloc permet de valider votre code. Vous devez l'exécuter mais ne pas le modifier.  \n",
    "try:\n",
    "\n",
    "    mat = np.arange(5*2).reshape(-1,2)\n",
    "    res = soustrait(mat)\n",
    "    np.testing.assert_equal(res.shape,mat.shape)\n",
    "    np.testing.assert_almost_equal(np.sum(res),np.sum(mat)-5*np.sum(mat[2]))\n",
    "    \n",
    "except Exception as e: \n",
    "    print(\"\\033[91m {}\\033[00m\" .format('KO - Au moins un test n\\'est pas validé')) \n",
    "    print('Information sur le test non valide:')\n",
    "    print(e)\n",
    "    raise e\n",
    "else:\n",
    "    print(\"\\033[92m {}\\033[00m\" .format('Ok - Tous les tests sont validés.')) \n"
   ]
  },
  {
   "cell_type": "markdown",
   "id": "e59bdd7d",
   "metadata": {
    "deletable": false,
    "editable": false,
    "nbgrader": {
     "cell_type": "markdown",
     "checksum": "0b3d17df24c54c01a2e68de2faa6e144",
     "grade": false,
     "grade_id": "question12-q3-_cell-6cc62c2ca9b06b29",
     "locked": true,
     "schema_version": 3,
     "solution": false,
     "task": false
    }
   },
   "source": [
    "Question 2: \n",
    "Écrivez une fonction qui prend en entrée une matrice et qui calcule le produit des éléments des colonnes de $2$ à $4$ (la colonne $4$ étant exclue). \n",
    "\n",
    "<span style=\"color:teal\">Exemple :</span> <br>\n",
    "```\n",
    "[[3 6 6 4 3 6]\n",
    " [3 3 2 2 3 5]]\n",
    "```\n",
    "<br>\n",
    "\n",
    "a pour sortie `96`.\n"
   ]
  },
  {
   "cell_type": "code",
   "execution_count": 62,
   "id": "eea67b3b",
   "metadata": {
    "deletable": false,
    "nbgrader": {
     "cell_type": "code",
     "checksum": "4ae60c3b2721ee7100cb1942ae13bc41",
     "grade": false,
     "grade_id": "question12-q3-_cell-2ec492387872b58a",
     "locked": false,
     "schema_version": 3,
     "solution": true,
     "task": false
    }
   },
   "outputs": [],
   "source": [
    "\n",
    "def amalgame(matrice):\n",
    "    return np.prod(matrice[:,2:4])\n"
   ]
  },
  {
   "cell_type": "code",
   "execution_count": 63,
   "id": "4fff4328",
   "metadata": {
    "deletable": false,
    "editable": false,
    "nbgrader": {
     "cell_type": "code",
     "checksum": "729f33d35d5e9d2876929861f37a0aaa",
     "grade": true,
     "grade_id": "question12-q3-_cell-ce85bf92a7187d7e",
     "locked": true,
     "points": 1,
     "schema_version": 3,
     "solution": false,
     "task": false
    }
   },
   "outputs": [
    {
     "name": "stdout",
     "output_type": "stream",
     "text": [
      "\u001b[92m Ok - Tous les tests sont validés.\u001b[00m\n"
     ]
    }
   ],
   "source": [
    "\n",
    "# Ce bloc permet de valider votre code. Vous devez l'exécuter mais ne pas le modifier.  \n",
    "try:\n",
    " \n",
    "    res = amalgame(np.array([[3, 6, 6, 4, 3, 6], [3, 3, 2, 2, 3, 5]]))\n",
    "    np.testing.assert_almost_equal(res,96)\n",
    "    \n",
    "except Exception as e: \n",
    "    print(\"\\033[91m {}\\033[00m\" .format('KO - Au moins un test n\\'est pas validé')) \n",
    "    print('Information sur le test non valide:')\n",
    "    print(e)\n",
    "    raise e\n",
    "else:\n",
    "    print(\"\\033[92m {}\\033[00m\" .format('Ok - Tous les tests sont validés.')) \n"
   ]
  },
  {
   "cell_type": "markdown",
   "id": "b94993ff",
   "metadata": {
    "deletable": false,
    "editable": false,
    "nbgrader": {
     "cell_type": "markdown",
     "checksum": "0ac7f7f63d4574e41390e1fd1730e72b",
     "grade": false,
     "grade_id": "question10-q1-_cell-442580ddac3d52b5",
     "locked": true,
     "schema_version": 3,
     "solution": false,
     "task": false
    }
   },
   "source": [
    "Question 3: Définir un vecteur aléatoire `alea` de taille $15$ et dont les éléments sont des entiers compris entre $-7$ et $17$.\n",
    "\n",
    "<span style='color:teal'> Exemple</span> <br>\n",
    "`[-6  9 -5 -5 -2 14  6  7 -3 15 -4 14 -3 14  1]`"
   ]
  },
  {
   "cell_type": "code",
   "execution_count": 64,
   "id": "83826fff",
   "metadata": {
    "deletable": false,
    "nbgrader": {
     "cell_type": "code",
     "checksum": "ef4e99077a6eb77188a1de42ea847e81",
     "grade": false,
     "grade_id": "question10-q1-_cell-57bd5e9f7d019330",
     "locked": false,
     "schema_version": 3,
     "solution": true,
     "task": false
    }
   },
   "outputs": [],
   "source": [
    "\n",
    "\n",
    "def alea_int():\n",
    "   alea=np.linspace(-7,17,num=15)\n",
    "   return alea\n",
    "\n"
   ]
  },
  {
   "cell_type": "code",
   "execution_count": 65,
   "id": "03f6cb69",
   "metadata": {
    "deletable": false,
    "editable": false,
    "nbgrader": {
     "cell_type": "code",
     "checksum": "fb7902357ccc62f33923bddfead846a3",
     "grade": true,
     "grade_id": "question10-q1-_cell-37a99bf375aee3da",
     "locked": true,
     "points": 1,
     "schema_version": 3,
     "solution": false,
     "task": false
    }
   },
   "outputs": [
    {
     "name": "stdout",
     "output_type": "stream",
     "text": [
      "\u001b[92m Ok - Tous les tests sont validés.\u001b[00m\n"
     ]
    }
   ],
   "source": [
    "\n",
    "# Ce bloc permet de valider votre code. Vous devez l'exécuter mais ne pas le modifier.  \n",
    "try:\n",
    "   \n",
    "    alea = alea_int()\n",
    "    np.testing.assert_equal(alea.size,15)\n",
    "    np.testing.assert_equal(alea>=-7,True)\n",
    "    np.testing.assert_equal(alea<=17,True)\n",
    "    \n",
    "    \n",
    "except Exception as e: \n",
    "    print(\"\\033[91m {}\\033[00m\" .format('KO - Au moins un test n\\'est pas validé')) \n",
    "    print('Information sur le test non valide:')\n",
    "    print(e)\n",
    "    raise e\n",
    "else:\n",
    "    print(\"\\033[92m {}\\033[00m\" .format('Ok - Tous les tests sont validés.')) \n"
   ]
  },
  {
   "cell_type": "markdown",
   "id": "3c5f60e5",
   "metadata": {
    "deletable": false,
    "editable": false,
    "nbgrader": {
     "cell_type": "markdown",
     "checksum": "5ac7dd16ecb9803b5402437a05603bf8",
     "grade": false,
     "grade_id": "question16-q7-_cell-7eae9030a4a8c4c7",
     "locked": true,
     "schema_version": 3,
     "solution": false,
     "task": false
    }
   },
   "source": [
    "Question 4: \n",
    "Créez une matrice `mat` de taille (6,6) dont toutes les valeurs sont à 4 sauf la colonne 4 dont les éléments sont tous 0.\n",
    "\n",
    "<span style=\"color:teal\">La matrice à construire :</span> <br>\n",
    "```\n",
    "[[4. 4. 4. 4. 0. 4.]\n",
    " [4. 4. 4. 4. 0. 4.]\n",
    " [4. 4. 4. 4. 0. 4.]\n",
    " [4. 4. 4. 4. 0. 4.]\n",
    " [4. 4. 4. 4. 0. 4.]\n",
    " [4. 4. 4. 4. 0. 4.]]\n",
    "```\n"
   ]
  },
  {
   "cell_type": "code",
   "execution_count": 66,
   "id": "0f74e2c6",
   "metadata": {
    "deletable": false,
    "nbgrader": {
     "cell_type": "code",
     "checksum": "f7e862de2ee8a88c95d1560ee20dc651",
     "grade": false,
     "grade_id": "question16-q7-_cell-22117a64190152ac",
     "locked": false,
     "schema_version": 3,
     "solution": true,
     "task": false
    }
   },
   "outputs": [],
   "source": [
    "\n",
    "mat=np.full((6,6),4)\n",
    "mat[:,4]=np.zeros(6)\n"
   ]
  },
  {
   "cell_type": "code",
   "execution_count": 67,
   "id": "f5afdb1f",
   "metadata": {
    "deletable": false,
    "editable": false,
    "nbgrader": {
     "cell_type": "code",
     "checksum": "d9da44b26c0ea992a66bd6cc0f669499",
     "grade": true,
     "grade_id": "question16-q7-_cell-d7a02b3db1c9c3ce",
     "locked": true,
     "points": 1,
     "schema_version": 3,
     "solution": false,
     "task": false
    }
   },
   "outputs": [
    {
     "name": "stdout",
     "output_type": "stream",
     "text": [
      "\u001b[92m Ok - Tous les tests sont validés.\u001b[00m\n"
     ]
    }
   ],
   "source": [
    "\n",
    "# Ce bloc permet de valider votre code. Vous devez l'exécuter mais ne pas le modifier.  \n",
    "try:\n",
    "\n",
    "    np.testing.assert_equal(mat.shape,(6,6),err_msg='Attention à la taille')\n",
    "    np.testing.assert_almost_equal(np.sum(mat),4*6*(6-1))\n",
    "    \n",
    "except Exception as e: \n",
    "    print(\"\\033[91m {}\\033[00m\" .format('KO - Au moins un test n\\'est pas validé')) \n",
    "    print('Information sur le test non valide:')\n",
    "    print(e)\n",
    "    raise e\n",
    "else:\n",
    "    print(\"\\033[92m {}\\033[00m\" .format('Ok - Tous les tests sont validés.')) \n"
   ]
  },
  {
   "cell_type": "markdown",
   "id": "f4da6e5b",
   "metadata": {
    "deletable": false,
    "editable": false,
    "nbgrader": {
     "cell_type": "markdown",
     "checksum": "3ca1efc9f9bad0070d7f658bedc0e40d",
     "grade": false,
     "grade_id": "question7-qy8-_cell-7152dc7ece48e6a4",
     "locked": true,
     "schema_version": 3,
     "solution": false,
     "task": false
    }
   },
   "source": [
    "Question 5: \n",
    "\n",
    "Étant donné un vecteur `v`, écrivez une fonction qui remplace tous les éléments de `v` qui sont inférieurs à 10 par -2, et tous les éléments qui sont supérieurs à 12 par 4.\n",
    "\n",
    "<span style=\"color:teal\">Exemple :</span> <br>\n",
    "`[ 4  4 15  9  7  8]`\n",
    "\n",
    "a pour sortie:\n",
    "\n",
    "`[-2 -2  4 -2 -2 -2]`\n",
    "    "
   ]
  },
  {
   "cell_type": "code",
   "execution_count": 68,
   "id": "4b32b789",
   "metadata": {
    "deletable": false,
    "nbgrader": {
     "cell_type": "code",
     "checksum": "a9cca10a2175346dfc0892488fae8396",
     "grade": false,
     "grade_id": "question7-qy8-_cell-7498ccf451a41a5f",
     "locked": false,
     "schema_version": 3,
     "solution": true,
     "task": false
    }
   },
   "outputs": [],
   "source": [
    "\n",
    "def fct(v):\n",
    "    v[v<10]=-2\n",
    "    v[v>12]=4\n",
    "    return v\n"
   ]
  },
  {
   "cell_type": "code",
   "execution_count": 69,
   "id": "46982dd9",
   "metadata": {
    "deletable": false,
    "editable": false,
    "nbgrader": {
     "cell_type": "code",
     "checksum": "cc173fd6f8ac6bf50883567be06c2182",
     "grade": true,
     "grade_id": "question7-qy8-_cell-4fd6508f57976146",
     "locked": true,
     "points": 1,
     "schema_version": 3,
     "solution": false,
     "task": false
    }
   },
   "outputs": [
    {
     "name": "stdout",
     "output_type": "stream",
     "text": [
      "\u001b[92m Ok - Tous les tests sont validés.\u001b[00m\n"
     ]
    }
   ],
   "source": [
    "\n",
    "# Ce bloc permet de valider votre code. Vous devez l'exécuter mais ne pas le modifier.  \n",
    "try:\n",
    "    v = np.array([ 4,  4, 15,  9,  7,  8])\n",
    "    res = fct(v)\n",
    "    np.testing.assert_equal(res,np.array([-2, -2,  4, -2, -2, -2]),'Exemple incorrect.')\n",
    "    \n",
    "except Exception as e: \n",
    "    print(\"\\033[91m {}\\033[00m\" .format('KO - Au moins un test n\\'est pas validé')) \n",
    "    print('Information sur le test non valide:')\n",
    "    print(e)\n",
    "    raise e\n",
    "else:\n",
    "    print(\"\\033[92m {}\\033[00m\" .format('Ok - Tous les tests sont validés.')) \n"
   ]
  },
  {
   "cell_type": "markdown",
   "id": "605d0fe8",
   "metadata": {
    "deletable": false,
    "editable": false,
    "nbgrader": {
     "cell_type": "markdown",
     "checksum": "4458273d65127b7a08eb15ca9c053d64",
     "grade": false,
     "grade_id": "question18-q9-_cell-bb02b9dba5b6941f",
     "locked": true,
     "schema_version": 3,
     "solution": false,
     "task": false
    }
   },
   "source": [
    "Question 6: \n",
    "Écrire une fonction qui prend en entrée un vecteur dont la longueur est un multiple de 5,\n",
    "et qui retourne le maximum de chaque séquence de 5 éléments consécutifs.\n",
    "\n",
    "<span style=\"color:teal\">Exemple :</span> <br>\n",
    "`[11  7  9  1  6  0  0 10  0  4  6  4  3  2  3 12 12  5  4 10 14 12  9  0\n",
    "  5  3  8 12  8 14 10  6 10  8  7  1 13 13 14  5 11 13  9  4  9  7  2  2\n",
    " 10  3]`\n",
    "\n",
    "a pour sortie\n",
    "\n",
    "`[11 10  6 12 14 14 10 14 13 10]`\n"
   ]
  },
  {
   "cell_type": "code",
   "execution_count": 70,
   "id": "16c7517f",
   "metadata": {
    "deletable": false,
    "nbgrader": {
     "cell_type": "code",
     "checksum": "8240050bd6b2e9e2cd29bf8d4f259d1a",
     "grade": false,
     "grade_id": "question18-q9-_cell-ea84952c2ab1cd4",
     "locked": false,
     "schema_version": 3,
     "solution": true,
     "task": false
    }
   },
   "outputs": [],
   "source": [
    "\n",
    "def consecutif(vecteur):\n",
    "    return np.max(vecteur.reshape((int(vecteur.size/5),5)),axis=1)\n",
    "\n"
   ]
  },
  {
   "cell_type": "code",
   "execution_count": 71,
   "id": "15571610",
   "metadata": {
    "deletable": false,
    "editable": false,
    "nbgrader": {
     "cell_type": "code",
     "checksum": "1628a47fb2bfa797b1c1c6c5dfbbc8e9",
     "grade": true,
     "grade_id": "question18-q9-_cell-a62b228339e26953",
     "locked": true,
     "points": 1,
     "schema_version": 3,
     "solution": false,
     "task": false
    }
   },
   "outputs": [
    {
     "name": "stdout",
     "output_type": "stream",
     "text": [
      "\u001b[92m Ok - Tous les tests sont validés.\u001b[00m\n"
     ]
    }
   ],
   "source": [
    "\n",
    "# Ce bloc permet de valider votre code. Vous devez l'exécuter mais ne pas le modifier.  \n",
    "try:\n",
    "\n",
    "    vv = np.random.randint(1,15,8*5)\n",
    "    res = consecutif(vv)\n",
    "    np.testing.assert_equal(len(vv),5*len(res))\n",
    "    np.testing.assert_equal(res[2:],consecutif(vv[(2*5):]))\n",
    "    \n",
    "except Exception as e: \n",
    "    print(\"\\033[91m {}\\033[00m\" .format('KO - Au moins un test n\\'est pas validé')) \n",
    "    print('Information sur le test non valide:')\n",
    "    print(e)\n",
    "    raise e\n",
    "else:\n",
    "    print(\"\\033[92m {}\\033[00m\" .format('Ok - Tous les tests sont validés.')) \n"
   ]
  },
  {
   "cell_type": "markdown",
   "id": "5cdd5f7c",
   "metadata": {
    "deletable": false,
    "editable": false,
    "nbgrader": {
     "cell_type": "markdown",
     "checksum": "9cb6f51b8a65a633ce7c30b7fc6ffaa2",
     "grade": false,
     "grade_id": "question22-q13-_cell-bcdb863f17963ae2",
     "locked": true,
     "schema_version": 3,
     "solution": false,
     "task": false
    }
   },
   "source": [
    "Question 7: \n",
    "En utilisant le mécanisme de broadcasting, écrire une fonction `distance_minkowski_matrix` prenant en entrée une matrice\n",
    "`P` de $n$ lignes (points) et $k$ colonnes (coordonnées) et qui renvois la matrice `D` de taille $n \\times n$ tel que $D_{i,j} = \\left(\\sum_{c=1}^k \\left(P_{i,c}-P_{j,c}\\right)^2\\right)^\\frac{1}{2}$ .\n"
   ]
  },
  {
   "cell_type": "code",
   "execution_count": 72,
   "id": "75654eef",
   "metadata": {
    "deletable": false,
    "nbgrader": {
     "cell_type": "code",
     "checksum": "643a2c17a19d5a2c1d9a43569a586c32",
     "grade": false,
     "grade_id": "question22-q13-_cell-a281eaa11ab21414",
     "locked": false,
     "schema_version": 3,
     "solution": true,
     "task": false
    }
   },
   "outputs": [],
   "source": [
    "\n",
    "def distance_minkowski_matrix(P):\n",
    "    tmp = P[:,np.newaxis]\n",
    "    tmp = np.power((tmp-P),2)\n",
    "    D=np.power(np.sum(tmp,axis=2),1/2)\n",
    "    return D\n",
    "    "
   ]
  },
  {
   "cell_type": "code",
   "execution_count": 73,
   "id": "151f5b90",
   "metadata": {
    "deletable": false,
    "editable": false,
    "nbgrader": {
     "cell_type": "code",
     "checksum": "f7912ee69671d0cf05abe17d015f98ad",
     "grade": true,
     "grade_id": "question22-q13-_cell-cbda227e17580206",
     "locked": true,
     "points": 1,
     "schema_version": 3,
     "solution": false,
     "task": false
    }
   },
   "outputs": [
    {
     "name": "stdout",
     "output_type": "stream",
     "text": [
      "\u001b[92m Ok - Tous les tests sont validés.\u001b[00m\n"
     ]
    }
   ],
   "source": [
    "\n",
    "# Ce bloc permet de valider votre code. Vous devez l'exécuter mais ne pas le modifier.  \n",
    "try:\n",
    "\n",
    "    a = np.random.randint(0,10,(10,2))*2-1\n",
    "    b = distance_minkowski_matrix(a)\n",
    "    \n",
    "    np.testing.assert_equal(b.shape,(10,10),err_msg='Dimensions non valident.')\n",
    "    np.testing.assert_almost_equal((b < 0.0).sum(), 0,err_msg='Les valeurs calculés sont fausses.')\n",
    "    \n",
    "except Exception as e: \n",
    "    print(\"\\033[91m {}\\033[00m\" .format('KO - Au moins un test n\\'est pas validé')) \n",
    "    print('Information sur le test non valide:')\n",
    "    print(e)\n",
    "    raise e\n",
    "else:\n",
    "    print(\"\\033[92m {}\\033[00m\" .format('Ok - Tous les tests sont validés.')) \n"
   ]
  },
  {
   "cell_type": "markdown",
   "id": "76050b89",
   "metadata": {
    "deletable": false,
    "editable": false,
    "nbgrader": {
     "cell_type": "markdown",
     "checksum": "3240c5866cb21cb3a6c0e698f8727156",
     "grade": false,
     "grade_id": "question0-qy1-_cell-3e91986332a67d33",
     "locked": true,
     "schema_version": 3,
     "solution": false,
     "task": false
    }
   },
   "source": [
    "Question 8: \n",
    "Écrivez une fonction prenant en entrée un vecteur et retournant un tableau de tous les éléments qui sont supérieurs ou égals à 3.\n",
    "\n",
    "<span style=\"color:teal\">Exemple :</span> <br>\n",
    "`[5 6 2 0 0 2 3]` a pour sortie `[5 6 3]`\n",
    "    "
   ]
  },
  {
   "cell_type": "code",
   "execution_count": 74,
   "id": "4e4bb4af",
   "metadata": {
    "deletable": false,
    "nbgrader": {
     "cell_type": "code",
     "checksum": "40bec1df0d6cf4a27a189bb51f5bf9d6",
     "grade": false,
     "grade_id": "question0-qy1-_cell-37210f6ac2ecca76",
     "locked": false,
     "schema_version": 3,
     "solution": true,
     "task": false
    }
   },
   "outputs": [],
   "source": [
    "\n",
    "def fct(v):\n",
    "    return v[v>=3]\n",
    "    \n"
   ]
  },
  {
   "cell_type": "code",
   "execution_count": 75,
   "id": "75189b01",
   "metadata": {
    "deletable": false,
    "editable": false,
    "nbgrader": {
     "cell_type": "code",
     "checksum": "eec01428aecc5897de813905a71bc25a",
     "grade": true,
     "grade_id": "question0-qy1-_cell-498e437fd28a9b3a",
     "locked": true,
     "points": 1,
     "schema_version": 3,
     "solution": false,
     "task": false
    }
   },
   "outputs": [
    {
     "name": "stdout",
     "output_type": "stream",
     "text": [
      "\u001b[92m Ok - Tous les tests sont validés.\u001b[00m\n"
     ]
    }
   ],
   "source": [
    "\n",
    "# Ce bloc permet de valider votre code. Vous devez l'exécuter mais ne pas le modifier.  \n",
    "try:\n",
    "\n",
    "    \n",
    "    v = np.array([5,6,2,0,0,2,3])\n",
    "    np.testing.assert_equal(fct(v),np.array([5,6,3]))\n",
    "    \n",
    "except Exception as e: \n",
    "    print(\"\\033[91m {}\\033[00m\" .format('KO - Au moins un test n\\'est pas validé')) \n",
    "    print('Information sur le test non valide:')\n",
    "    print(e)\n",
    "    raise e\n",
    "else:\n",
    "    print(\"\\033[92m {}\\033[00m\" .format('Ok - Tous les tests sont validés.')) \n"
   ]
  },
  {
   "cell_type": "markdown",
   "id": "45ac106c",
   "metadata": {
    "deletable": false,
    "editable": false,
    "nbgrader": {
     "cell_type": "markdown",
     "checksum": "e3b80ea56a6b1713526ff4eeb7af572d",
     "grade": false,
     "grade_id": "question20-q11-_cell-7d71c60eb63b5116",
     "locked": true,
     "schema_version": 3,
     "solution": false,
     "task": false
    }
   },
   "source": [
    "Question 9: \n",
    "Ecrire une fonction `mesure` qui retourne la norme euclidienne d'un vecteur de taille quelconque.\n"
   ]
  },
  {
   "cell_type": "code",
   "execution_count": 76,
   "id": "fd662631",
   "metadata": {
    "deletable": false,
    "nbgrader": {
     "cell_type": "code",
     "checksum": "0f1fa8b405d50b60c869f8eaf1910bef",
     "grade": false,
     "grade_id": "question20-q11-_cell-a760b26ab34ea79",
     "locked": false,
     "schema_version": 3,
     "solution": true,
     "task": false
    }
   },
   "outputs": [],
   "source": [
    "\n",
    "def mesure(x):\n",
    "    return np.linalg.norm(x)\n"
   ]
  },
  {
   "cell_type": "code",
   "execution_count": 77,
   "id": "54d80233",
   "metadata": {
    "deletable": false,
    "editable": false,
    "nbgrader": {
     "cell_type": "code",
     "checksum": "34d4075382dbca818265c21d587b2b3c",
     "grade": true,
     "grade_id": "question20-q11-_cell-6fbf4d2dfbac97bf",
     "locked": true,
     "points": 1,
     "schema_version": 3,
     "solution": false,
     "task": false
    }
   },
   "outputs": [
    {
     "name": "stdout",
     "output_type": "stream",
     "text": [
      "\u001b[92m Ok - Tous les tests sont validés.\u001b[00m\n"
     ]
    }
   ],
   "source": [
    "\n",
    "# Ce bloc permet de valider votre code. Vous devez l'exécuter mais ne pas le modifier.  \n",
    "try:\n",
    "\n",
    "    \n",
    "    x = np.arange(2)\n",
    "    d1 = mesure(x)\n",
    "    \n",
    "    np.testing.assert_equal(d1,1.0)\n",
    "    \n",
    "except Exception as e: \n",
    "    print(\"\\033[91m {}\\033[00m\" .format('KO - Au moins un test n\\'est pas validé')) \n",
    "    print('Information sur le test non valide:')\n",
    "    print(e)\n",
    "    raise e\n",
    "else:\n",
    "    print(\"\\033[92m {}\\033[00m\" .format('Ok - Tous les tests sont validés.')) \n"
   ]
  },
  {
   "cell_type": "markdown",
   "id": "e9f48814",
   "metadata": {
    "deletable": false,
    "editable": false,
    "nbgrader": {
     "cell_type": "markdown",
     "checksum": "dd1cb0ada6f4e3df81a45e05be6bce4c",
     "grade": false,
     "grade_id": "question15-q6-_cell-5178fb8f45197132",
     "locked": true,
     "schema_version": 3,
     "solution": false,
     "task": false
    }
   },
   "source": [
    "Question 10: \n",
    "Créez une matrice `mat` de taille (7,2) dont toutes les valeurs sont à 2 sauf la case (4,0) qui vaut 0.\n",
    "\n",
    "<span style=\"color:teal\">La matrice à construire :</span> <br>\n",
    "```\n",
    "[[2. 2.]\n",
    " [2. 2.]\n",
    " [2. 2.]\n",
    " [2. 2.]\n",
    " [0. 2.]\n",
    " [2. 2.]\n",
    " [2. 2.]]\n",
    "```\n"
   ]
  },
  {
   "cell_type": "code",
   "execution_count": 78,
   "id": "194e3bd7",
   "metadata": {
    "deletable": false,
    "nbgrader": {
     "cell_type": "code",
     "checksum": "8378991f02f408c5dd1f9d6b59b4d2d7",
     "grade": false,
     "grade_id": "question15-q6-_cell-137162e5c4c829b",
     "locked": false,
     "schema_version": 3,
     "solution": true,
     "task": false
    }
   },
   "outputs": [],
   "source": [
    "mat=np.full((7,2),2)\n",
    "mat[4,0]=0\n"
   ]
  },
  {
   "cell_type": "code",
   "execution_count": 79,
   "id": "88156b10",
   "metadata": {
    "deletable": false,
    "editable": false,
    "nbgrader": {
     "cell_type": "code",
     "checksum": "7574c355b8aa4bc9b4edd5e373e64dbb",
     "grade": true,
     "grade_id": "question15-q6-_cell-87c3ae33ddbc0fcb",
     "locked": true,
     "points": 1,
     "schema_version": 3,
     "solution": false,
     "task": false
    }
   },
   "outputs": [
    {
     "name": "stdout",
     "output_type": "stream",
     "text": [
      "\u001b[92m Ok - Tous les tests sont validés.\u001b[00m\n"
     ]
    }
   ],
   "source": [
    "\n",
    "# Ce bloc permet de valider votre code. Vous devez l'exécuter mais ne pas le modifier.  \n",
    "try:\n",
    "\n",
    "    np.testing.assert_equal(mat.shape,(7,2),err_msg='Attention à la taille')\n",
    "    np.testing.assert_almost_equal(np.sum(mat),2*(7*2-1))\n",
    "    \n",
    "except Exception as e: \n",
    "    print(\"\\033[91m {}\\033[00m\" .format('KO - Au moins un test n\\'est pas validé')) \n",
    "    print('Information sur le test non valide:')\n",
    "    print(e)\n",
    "    raise e\n",
    "else:\n",
    "    print(\"\\033[92m {}\\033[00m\" .format('Ok - Tous les tests sont validés.')) \n"
   ]
  },
  {
   "cell_type": "markdown",
   "id": "42dee988",
   "metadata": {
    "deletable": false,
    "editable": false,
    "nbgrader": {
     "cell_type": "markdown",
     "checksum": "8af05642d90a3b5e7dd036f53c0ad249",
     "grade": false,
     "grade_id": "question19-q10-_cell-ec9c53f65fc77ff6",
     "locked": true,
     "schema_version": 3,
     "solution": false,
     "task": false
    }
   },
   "source": [
    "Question 11: \n",
    "Créer un tableau numpy `x` contenant la liste des carrés des entiers allant de 1 à 14 (inclus).\n"
   ]
  },
  {
   "cell_type": "code",
   "execution_count": 80,
   "id": "1704ccb8",
   "metadata": {
    "deletable": false,
    "nbgrader": {
     "cell_type": "code",
     "checksum": "96edba6710917a7c026ceb05d80b42ae",
     "grade": false,
     "grade_id": "question19-q10-_cell-8f656e6361ea0087",
     "locked": false,
     "schema_version": 3,
     "solution": true,
     "task": false
    }
   },
   "outputs": [],
   "source": [
    "\n",
    "def liste_carres():\n",
    "    return np.power(np.arange(1,15),2)\n"
   ]
  },
  {
   "cell_type": "code",
   "execution_count": 81,
   "id": "6ed24a2c",
   "metadata": {
    "deletable": false,
    "editable": false,
    "nbgrader": {
     "cell_type": "code",
     "checksum": "6423387cf614cffc6f32746fc49b8011",
     "grade": true,
     "grade_id": "question19-q10-_cell-6989f39bdedbbf82",
     "locked": true,
     "points": 1,
     "schema_version": 3,
     "solution": false,
     "task": false
    }
   },
   "outputs": [
    {
     "name": "stdout",
     "output_type": "stream",
     "text": [
      "\u001b[92m Ok - Tous les tests sont validés.\u001b[00m\n"
     ]
    }
   ],
   "source": [
    "\n",
    "# Ce bloc permet de valider votre code. Vous devez l'exécuter mais ne pas le modifier.  \n",
    "try:\n",
    "\n",
    "    x = liste_carres()\n",
    "    np.testing.assert_equal(x.min(),1**2)\n",
    "    np.testing.assert_equal(x.max(),14**2)\n",
    "    \n",
    "except Exception as e: \n",
    "    print(\"\\033[91m {}\\033[00m\" .format('KO - Au moins un test n\\'est pas validé')) \n",
    "    print('Information sur le test non valide:')\n",
    "    print(e)\n",
    "    raise e\n",
    "else:\n",
    "    print(\"\\033[92m {}\\033[00m\" .format('Ok - Tous les tests sont validés.')) \n"
   ]
  },
  {
   "cell_type": "markdown",
   "id": "b1ff8641",
   "metadata": {
    "deletable": false,
    "editable": false,
    "nbgrader": {
     "cell_type": "markdown",
     "checksum": "442787da30f0705bf7086ab6d9cde795",
     "grade": false,
     "grade_id": "question21-q12-_cell-99e8162d63b7086f",
     "locked": true,
     "schema_version": 3,
     "solution": false,
     "task": false
    }
   },
   "source": [
    "Question 12: \n",
    "Créer une fonction `inferieur` qui prend en entrée un tableau numpy et renvois \n",
    "un tableau de booléens de même taille que le tableau d'entrée contenant `False`\n",
    " si les valeurs du tableau d'entrée sont inferieur (strictement) à -0.8756, `True` sinon.\n"
   ]
  },
  {
   "cell_type": "code",
   "execution_count": 82,
   "id": "59817744",
   "metadata": {
    "deletable": false,
    "nbgrader": {
     "cell_type": "code",
     "checksum": "a14de5d09c238309d4c8188c9902a10c",
     "grade": false,
     "grade_id": "question21-q12-_cell-ed3fa3c6c5504e9a",
     "locked": false,
     "schema_version": 3,
     "solution": true,
     "task": false
    }
   },
   "outputs": [],
   "source": [
    "\n",
    "def inferieur(x):\n",
    "    return x<-0.8756\n"
   ]
  },
  {
   "cell_type": "code",
   "execution_count": 83,
   "id": "51a6ab27",
   "metadata": {
    "deletable": false,
    "editable": false,
    "nbgrader": {
     "cell_type": "code",
     "checksum": "2f3a387c1d4370877dbd7ef57c8e5c4b",
     "grade": true,
     "grade_id": "question21-q12-_cell-815704d6965371b3",
     "locked": true,
     "points": 1,
     "schema_version": 3,
     "solution": false,
     "task": false
    }
   },
   "outputs": [
    {
     "name": "stdout",
     "output_type": "stream",
     "text": [
      "\u001b[92m Ok - Tous les tests sont validés.\u001b[00m\n"
     ]
    }
   ],
   "source": [
    "\n",
    "# Ce bloc permet de valider votre code. Vous devez l'exécuter mais ne pas le modifier.  \n",
    "try:\n",
    "\n",
    "    x = np.random.randn(50)\n",
    "    \n",
    "    np.testing.assert_equal(x.shape,inferieur(x).shape)\n",
    "    np.testing.assert_equal(inferieur(x).dtype, np.dtype('bool'))\n",
    "    \n",
    "except Exception as e: \n",
    "    print(\"\\033[91m {}\\033[00m\" .format('KO - Au moins un test n\\'est pas validé')) \n",
    "    print('Information sur le test non valide:')\n",
    "    print(e)\n",
    "    raise e\n",
    "else:\n",
    "    print(\"\\033[92m {}\\033[00m\" .format('Ok - Tous les tests sont validés.')) \n"
   ]
  },
  {
   "cell_type": "markdown",
   "id": "e65b87a6",
   "metadata": {
    "deletable": false,
    "editable": false,
    "nbgrader": {
     "cell_type": "markdown",
     "checksum": "f631d5061e7aa84a4d229f32c2395909",
     "grade": false,
     "grade_id": "question1-qy2-_cell-931302c61a2981d8",
     "locked": true,
     "schema_version": 3,
     "solution": false,
     "task": false
    }
   },
   "source": [
    "Question 13:  À partir de 2 vecteurs v1 et v2, construisez à l'aide du broadcasting la matrice des multiplications entre les valeurs des deux vecteurs. \n",
    "Par exemple pour les vecteurs `[40 50 60 70]`  et  `[1 2 3 4 5]` la matrice retournée est la suivante :\n",
    "\n",
    "```\n",
    "[[ 40  80 120 160 200]\n",
    " [ 50 100 150 200 250]\n",
    " [ 60 120 180 240 300]\n",
    " [ 70 140 210 280 350]]\n",
    "```\n",
    "\n",
    "    "
   ]
  },
  {
   "cell_type": "code",
   "execution_count": 84,
   "id": "8ed828f0",
   "metadata": {
    "deletable": false,
    "nbgrader": {
     "cell_type": "code",
     "checksum": "f3b34045267c970722a23c10de7f49ab",
     "grade": false,
     "grade_id": "question1-qy2-_cell-828978da5a6849b0",
     "locked": false,
     "schema_version": 3,
     "solution": true,
     "task": false
    }
   },
   "outputs": [],
   "source": [
    "\n",
    "def fct(v1,v2):\n",
    "   v1=v1[:,np.newaxis]\n",
    "   v2=v2[np.newaxis,:]\n",
    "   return v1*v2\n",
    "v1 = np.array([40, 50, 60, 70])\n",
    "v2 = np.array([1, 2, 3, 4, 5])\n",
    "res = fct(v1,v2)"
   ]
  },
  {
   "cell_type": "code",
   "execution_count": 85,
   "id": "f74c8665",
   "metadata": {
    "deletable": false,
    "editable": false,
    "nbgrader": {
     "cell_type": "code",
     "checksum": "aeb75b83af8299135ba7526127066132",
     "grade": true,
     "grade_id": "question1-qy2-_cell-4aded60ffa9285e1",
     "locked": true,
     "points": 1,
     "schema_version": 3,
     "solution": false,
     "task": false
    }
   },
   "outputs": [
    {
     "name": "stdout",
     "output_type": "stream",
     "text": [
      "\u001b[92m Ok - Tous les tests sont validés.\u001b[00m\n"
     ]
    }
   ],
   "source": [
    "\n",
    "# Ce bloc permet de valider votre code. Vous devez l'exécuter mais ne pas le modifier.  \n",
    "try:\n",
    "\n",
    "    v1 = np.array([40, 50, 60, 70])\n",
    "    v2 = np.array([1, 2, 3, 4, 5])\n",
    "    res = fct(v1,v2)\n",
    "    np.testing.assert_equal(list(res.shape),(len(v1),len(v2)),'Taille de la matrice incorrecte.')\n",
    "    np.testing.assert_equal(res,np.array([[ 40,  80, 120, 160, 200],\n",
    "           [ 50, 100, 150, 200, 250],\n",
    "           [ 60, 120, 180, 240, 300],\n",
    "           [ 70, 140, 210, 280, 350]]),'Exemple incorrect.')\n",
    "    \n",
    "except Exception as e: \n",
    "    print(\"\\033[91m {}\\033[00m\" .format('KO - Au moins un test n\\'est pas validé')) \n",
    "    print('Information sur le test non valide:')\n",
    "    print(e)\n",
    "    raise e\n",
    "else:\n",
    "    print(\"\\033[92m {}\\033[00m\" .format('Ok - Tous les tests sont validés.')) \n"
   ]
  },
  {
   "cell_type": "markdown",
   "id": "9ee0f380",
   "metadata": {
    "deletable": false,
    "editable": false,
    "nbgrader": {
     "cell_type": "markdown",
     "checksum": "661640b944938d4c892cc451ff71e40b",
     "grade": false,
     "grade_id": "question24-q15-_cell-7297d55d9034a740",
     "locked": true,
     "schema_version": 3,
     "solution": false,
     "task": false
    }
   },
   "source": [
    "Question 14: \n",
    "\n",
    "Écrivez une fonction permettant de concaténer les tableaux `x` et `y` de taille [2 7] et [6 7] selon l'axe des ligne. \n",
    " \n",
    "<span style=\"color:teal\">Exemple :</span> <br>\n",
    "Sur les entrées \n",
    "```\n",
    "[[5 4 3 4 0 5 1]\n",
    " [7 1 1 2 8 2 2]]\n",
    "```\n",
    "et\n",
    "```\n",
    "[[4 5 7 7 1 3 1]\n",
    " [4 4 0 5 5 4 2]\n",
    " [3 8 8 0 7 6 8]\n",
    " [4 1 8 3 3 3 2]\n",
    " [5 4 5 6 5 8 2]\n",
    " [1 3 6 5 3 0 7]]\n",
    "```\n",
    "\n",
    "le résultat attendu est \n",
    "\n",
    "```\n",
    "[[5 4 3 4 0 5 1]\n",
    " [7 1 1 2 8 2 2]\n",
    " [4 5 7 7 1 3 1]\n",
    " [4 4 0 5 5 4 2]\n",
    " [3 8 8 0 7 6 8]\n",
    " [4 1 8 3 3 3 2]\n",
    " [5 4 5 6 5 8 2]\n",
    " [1 3 6 5 3 0 7]]\n",
    "```\n"
   ]
  },
  {
   "cell_type": "code",
   "execution_count": 86,
   "id": "63947b20",
   "metadata": {
    "deletable": false,
    "nbgrader": {
     "cell_type": "code",
     "checksum": "8cf3b5fa8d171197b8cef3ac055383c0",
     "grade": false,
     "grade_id": "question24-q15-_cell-ae55cfdce68d102c",
     "locked": false,
     "schema_version": 3,
     "solution": true,
     "task": false
    }
   },
   "outputs": [],
   "source": [
    "\n",
    "def fct(x,y):\n",
    "    return np.vstack((x,y))\n",
    "x = np.random.random([2,7])\n",
    "y = np.random.random([6,7])\n",
    "res = fct(x,y) \n"
   ]
  },
  {
   "cell_type": "code",
   "execution_count": 87,
   "id": "adb0ac75",
   "metadata": {
    "deletable": false,
    "editable": false,
    "nbgrader": {
     "cell_type": "code",
     "checksum": "023c990d02daa7a95f6bd01bd0eeb0c9",
     "grade": true,
     "grade_id": "question24-q15-_cell-39be920d32f4045",
     "locked": true,
     "points": 1,
     "schema_version": 3,
     "solution": false,
     "task": false
    }
   },
   "outputs": [
    {
     "name": "stdout",
     "output_type": "stream",
     "text": [
      "\u001b[92m Ok - Tous les tests sont validés.\u001b[00m\n"
     ]
    }
   ],
   "source": [
    "\n",
    "# Ce bloc permet de valider votre code. Vous devez l'exécuter mais ne pas le modifier.  \n",
    "try:\n",
    "    x = np.random.random([2,7])\n",
    "    y = np.random.random([6,7])\n",
    "    res = fct(x,y)\n",
    "    np.testing.assert_equal(res.shape,(8, 7),'Taille du tableau de sortie incorrect.')\n",
    "    \n",
    "except Exception as e: \n",
    "    print(\"\\033[91m {}\\033[00m\" .format('KO - Au moins un test n\\'est pas validé')) \n",
    "    print('Information sur le test non valide:')\n",
    "    print(e)\n",
    "    raise e\n",
    "else:\n",
    "    print(\"\\033[92m {}\\033[00m\" .format('Ok - Tous les tests sont validés.')) \n"
   ]
  },
  {
   "cell_type": "markdown",
   "id": "a0b65a11",
   "metadata": {
    "deletable": false,
    "editable": false,
    "nbgrader": {
     "cell_type": "markdown",
     "checksum": "27880d063fde8d346d3d75b68f1bbd45",
     "grade": false,
     "grade_id": "question3-qy4-_cell-b2b6f572be4dfeaa",
     "locked": true,
     "schema_version": 3,
     "solution": false,
     "task": false
    }
   },
   "source": [
    "Question 15: \n",
    "Écrivez une fonction qui retourne la matrice construite en suivant les étapes suivantes:\n",
    "- Construire le vecteur `v` constitué des entiers de 1 à 21 (exclu).\n",
    "- Transformer `v` en la matrice suivante (en deux/trois instructions au plus).\n",
    "\n",
    "```\n",
    "[[20 15 10  5]\n",
    " [19 14  9  4]\n",
    " [18 13  8  3]\n",
    " [17 12  7  2]\n",
    " [16 11  6  1]]\n",
    "```\n",
    "    "
   ]
  },
  {
   "cell_type": "code",
   "execution_count": 88,
   "id": "08cdc400",
   "metadata": {
    "deletable": false,
    "nbgrader": {
     "cell_type": "code",
     "checksum": "f9585cd08eb4065f5f1897a91afd9a59",
     "grade": false,
     "grade_id": "question3-qy4-_cell-3aa04968416dccd1",
     "locked": false,
     "schema_version": 3,
     "solution": true,
     "task": false
    }
   },
   "outputs": [
    {
     "data": {
      "text/plain": [
       "array([[20, 15, 10,  5],\n",
       "       [19, 14,  9,  4],\n",
       "       [18, 13,  8,  3],\n",
       "       [17, 12,  7,  2],\n",
       "       [16, 11,  6,  1]])"
      ]
     },
     "execution_count": 88,
     "metadata": {},
     "output_type": "execute_result"
    }
   ],
   "source": [
    "\n",
    "def fct():\n",
    "    v=np.arange(1,21)[::-1]\n",
    "    return np.transpose(v.reshape((int(v.size/5),5)))\n",
    "fct()"
   ]
  },
  {
   "cell_type": "code",
   "execution_count": 89,
   "id": "e3264fb3",
   "metadata": {
    "deletable": false,
    "editable": false,
    "nbgrader": {
     "cell_type": "code",
     "checksum": "2a3d78c2fdf8ea06f69da3c182192c6c",
     "grade": true,
     "grade_id": "question3-qy4-_cell-c2320618c7ec5acd",
     "locked": true,
     "points": 1,
     "schema_version": 3,
     "solution": false,
     "task": false
    }
   },
   "outputs": [
    {
     "name": "stdout",
     "output_type": "stream",
     "text": [
      "\u001b[92m Ok - Tous les tests sont validés.\u001b[00m\n"
     ]
    }
   ],
   "source": [
    "\n",
    "# Ce bloc permet de valider votre code. Vous devez l'exécuter mais ne pas le modifier.  \n",
    "try:\n",
    "\n",
    "    res = fct()\n",
    "    np.testing.assert_equal(list(res.shape),(5, 4),'Taille de la matrice incorrecte.')\n",
    "    np.testing.assert_equal(res,np.array([[20, 15, 10,  5],\n",
    "           [19, 14,  9,  4],\n",
    "           [18, 13,  8,  3],\n",
    "           [17, 12,  7,  2],\n",
    "           [16, 11,  6,  1]]),'Résultat incorrecte.')\n",
    "    \n",
    "except Exception as e: \n",
    "    print(\"\\033[91m {}\\033[00m\" .format('KO - Au moins un test n\\'est pas validé')) \n",
    "    print('Information sur le test non valide:')\n",
    "    print(e)\n",
    "    raise e\n",
    "else:\n",
    "    print(\"\\033[92m {}\\033[00m\" .format('Ok - Tous les tests sont validés.')) \n"
   ]
  },
  {
   "cell_type": "markdown",
   "id": "0c962317",
   "metadata": {
    "deletable": false,
    "editable": false,
    "nbgrader": {
     "cell_type": "markdown",
     "checksum": "ab6b57dd938881c081be93f4d9ef3839",
     "grade": false,
     "grade_id": "question11-q2-_cell-ad85646dc7519501",
     "locked": true,
     "schema_version": 3,
     "solution": false,
     "task": false
    }
   },
   "source": [
    "Question 16: \n",
    "Écrivez une fonction `suppresseColonne` qui prend en entrée une matrice et qui supprime de cette matrice toutes les colonnes qui contiennent la valeur 22\n",
    "\n",
    "<span style=\"color:teal\">Exemple :</span> <br>\n",
    "```\n",
    "[[16 17 14  1 20 22]\n",
    " [17  8 12 14 -2  6]\n",
    " [ 3 15 16 21  5  1]\n",
    " [24 22 16 -2 -2 25]\n",
    " [ 1 22 13  7 22 23]]\n",
    "```\n",
    "<br>\n",
    "\n",
    "a pour sortie:\n",
    "\n",
    "```\n",
    "[[16 14  1]\n",
    " [17 12 14]\n",
    " [ 3 16 21]\n",
    " [24 16 -2]\n",
    " [ 1 13  7]]\n",
    "```\n"
   ]
  },
  {
   "cell_type": "code",
   "execution_count": 90,
   "id": "afcce826",
   "metadata": {
    "deletable": false,
    "nbgrader": {
     "cell_type": "code",
     "checksum": "b027d069f1b4f91d2266cd10163f319f",
     "grade": false,
     "grade_id": "question11-q2-_cell-1af9c8d7f734cc28",
     "locked": false,
     "schema_version": 3,
     "solution": true,
     "task": false
    }
   },
   "outputs": [],
   "source": [
    "\n",
    "def suppresseColonne(matrice):\n",
    "    return matrice[:, ~np.any(matrice==22, axis=0)]\n",
    "   \n"
   ]
  },
  {
   "cell_type": "code",
   "execution_count": 91,
   "id": "a40ee919",
   "metadata": {
    "deletable": false,
    "editable": false,
    "nbgrader": {
     "cell_type": "code",
     "checksum": "4a6266d1e2e55834d6d30918bdc0458f",
     "grade": true,
     "grade_id": "question11-q2-_cell-c7a2aa91838babbb",
     "locked": true,
     "points": 1,
     "schema_version": 3,
     "solution": false,
     "task": false
    }
   },
   "outputs": [
    {
     "name": "stdout",
     "output_type": "stream",
     "text": [
      "\u001b[92m Ok - Tous les tests sont validés.\u001b[00m\n"
     ]
    }
   ],
   "source": [
    "\n",
    "# Ce bloc permet de valider votre code. Vous devez l'exécuter mais ne pas le modifier.  \n",
    "try:\n",
    "\n",
    "    mat = np.arange(24)\n",
    "    mat[np.random.randint(24)] = 22\n",
    "    mat[np.random.randint(24)] = 22\n",
    "    mat = mat.reshape((4,-1))\n",
    "    res = suppresseColonne(mat)\n",
    "    np.testing.assert_equal(mat.shape[0],res.shape[0])\n",
    "    \n",
    "except Exception as e: \n",
    "    print(\"\\033[91m {}\\033[00m\" .format('KO - Au moins un test n\\'est pas validé')) \n",
    "    print('Information sur le test non valide:')\n",
    "    print(e)\n",
    "    raise e\n",
    "else:\n",
    "    print(\"\\033[92m {}\\033[00m\" .format('Ok - Tous les tests sont validés.')) \n"
   ]
  },
  {
   "cell_type": "markdown",
   "id": "7a6fdc26",
   "metadata": {
    "deletable": false,
    "editable": false,
    "nbgrader": {
     "cell_type": "markdown",
     "checksum": "d3e55fdc724e98136fdb0960fa0b54a1",
     "grade": false,
     "grade_id": "question6-qy7-_cell-ba5dfbf3e2bb5b85",
     "locked": true,
     "schema_version": 3,
     "solution": false,
     "task": false
    }
   },
   "source": [
    "Question 17: Étant donnée une matrice `M`, écrivez une fonction retournant tous les indices de(s) ligne(s) de `M` contenant la valeur maximale .\n",
    "    \n",
    "<span style=\"color:teal\">Exemple :</span> <br>\n",
    "Pour la matrice:\n",
    "```\n",
    "[[22 25 27 15]\n",
    " [13  4 19 15]\n",
    " [16 22  7 26]\n",
    " [23 29 33 18]\n",
    " [ 9 14 25 21]\n",
    " [21 35 35 26]\n",
    " [33 35  9 18]\n",
    " [19  9 17 27]\n",
    " [21  4 20 26]]\n",
    "```\n",
    "\n",
    "la valeur maximale (ici 35) se trouve aux ligne d'indices: `[5 6]`.\n",
    "    "
   ]
  },
  {
   "cell_type": "code",
   "execution_count": 92,
   "id": "941a4a2a",
   "metadata": {
    "deletable": false,
    "nbgrader": {
     "cell_type": "code",
     "checksum": "24bb4c96521c725af05f139db6c76f99",
     "grade": false,
     "grade_id": "question6-qy7-_cell-ffe14dbcef75bd7c",
     "locked": false,
     "schema_version": 3,
     "solution": true,
     "task": false
    }
   },
   "outputs": [],
   "source": [
    "\n",
    "def fct(M):\n",
    "    x=np.argwhere(M==np.max(M))[:,0]\n",
    "    return np.unique(x)\n",
    "\n",
    "\n"
   ]
  },
  {
   "cell_type": "code",
   "execution_count": 93,
   "id": "3e73eae8",
   "metadata": {
    "deletable": false,
    "editable": false,
    "nbgrader": {
     "cell_type": "code",
     "checksum": "be6d75e57fd64d6fba5b6714744dd53b",
     "grade": true,
     "grade_id": "question6-qy7-_cell-2335a83ec36480a",
     "locked": true,
     "points": 1,
     "schema_version": 3,
     "solution": false,
     "task": false
    }
   },
   "outputs": [
    {
     "name": "stdout",
     "output_type": "stream",
     "text": [
      "\u001b[92m Ok - Tous les tests sont validés.\u001b[00m\n"
     ]
    }
   ],
   "source": [
    "\n",
    "# Ce bloc permet de valider votre code. Vous devez l'exécuter mais ne pas le modifier.  \n",
    "try:\n",
    "    M = np.array([[22, 25, 27, 15],\n",
    "           [13,  4, 19, 15],\n",
    "           [16, 22,  7, 26],\n",
    "           [23, 29, 33, 18],\n",
    "           [ 9, 14, 25, 21],\n",
    "           [21, 35, 35, 26],\n",
    "           [33, 35,  9, 18],\n",
    "           [19,  9, 17, 27],\n",
    "           [21,  4, 20, 26]])\n",
    "    res = fct(M)\n",
    "    np.testing.assert_equal(len(res),2,'Nombre de sortie incorrecte.')\n",
    "    np.testing.assert_equal(res,np.array([5, 6]),'Exemple incorrect.')\n",
    "    \n",
    "except Exception as e: \n",
    "    print(\"\\033[91m {}\\033[00m\" .format('KO - Au moins un test n\\'est pas validé')) \n",
    "    print('Information sur le test non valide:')\n",
    "    print(e)\n",
    "    raise e\n",
    "else:\n",
    "    print(\"\\033[92m {}\\033[00m\" .format('Ok - Tous les tests sont validés.')) \n"
   ]
  },
  {
   "cell_type": "markdown",
   "id": "e405d31d",
   "metadata": {
    "deletable": false,
    "editable": false,
    "nbgrader": {
     "cell_type": "markdown",
     "checksum": "cef736169fabbca2cb8c324ca58317f6",
     "grade": false,
     "grade_id": "question8-qy9-_cell-d761ae6775b6b049",
     "locked": true,
     "schema_version": 3,
     "solution": false,
     "task": false
    }
   },
   "source": [
    "Question 18: \n",
    "Étant donné un vecteur `u` de taille 5, construisez une fonction retourrnant un vecteur de taille $15 = 5\\times3$\n",
    "où chaque élément de `u` est répété consécutivement 3 fois.\n",
    "\n",
    "<span style=\"color:teal\">Exemple :</span> <br>\n",
    "À partir du vecteur:\n",
    "\n",
    "```\n",
    "[13 13  7  8 11]\n",
    "```\n",
    "\n",
    "on obtient:\n",
    "\n",
    "```\n",
    "[13 13 13 13 13 13  7  7  7  8  8  8 11 11 11]\n",
    "```\n",
    "           "
   ]
  },
  {
   "cell_type": "code",
   "execution_count": 94,
   "id": "f35d7686",
   "metadata": {
    "deletable": false,
    "nbgrader": {
     "cell_type": "code",
     "checksum": "fea114d9ad7477a97d99ecbbdf445e7a",
     "grade": false,
     "grade_id": "question8-qy9-_cell-b3aefd029fef06ed",
     "locked": false,
     "schema_version": 3,
     "solution": true,
     "task": false
    }
   },
   "outputs": [],
   "source": [
    "\n",
    "def fct(v):\n",
    "    return np.repeat(v,3)\n",
    "    \n"
   ]
  },
  {
   "cell_type": "code",
   "execution_count": 95,
   "id": "4a0a3ca8",
   "metadata": {
    "deletable": false,
    "editable": false,
    "nbgrader": {
     "cell_type": "code",
     "checksum": "c2e7b771dde34d36b4d3ae0c93bc166d",
     "grade": true,
     "grade_id": "question8-qy9-_cell-d68539b3e7090f2a",
     "locked": true,
     "points": 1,
     "schema_version": 3,
     "solution": false,
     "task": false
    }
   },
   "outputs": [
    {
     "name": "stdout",
     "output_type": "stream",
     "text": [
      "\u001b[92m Ok - Tous les tests sont validés.\u001b[00m\n"
     ]
    }
   ],
   "source": [
    "\n",
    "# Ce bloc permet de valider votre code. Vous devez l'exécuter mais ne pas le modifier.  \n",
    "try:\n",
    "    v = np.array([13, 13,  7,  8, 11])\n",
    "    res = fct(v)\n",
    "    np.testing.assert_equal(np.sum(res),np.sum(v)*3,'Exemple incorrect.')\n",
    "    np.testing.assert_equal(res,np.array([13, 13, 13, 13, 13, 13,  7,  7,  7,  8,  8,  8, 11, 11, 11]),'Exemple incorrect.')\n",
    "    \n",
    "except Exception as e: \n",
    "    print(\"\\033[91m {}\\033[00m\" .format('KO - Au moins un test n\\'est pas validé')) \n",
    "    print('Information sur le test non valide:')\n",
    "    print(e)\n",
    "    raise e\n",
    "else:\n",
    "    print(\"\\033[92m {}\\033[00m\" .format('Ok - Tous les tests sont validés.')) \n"
   ]
  },
  {
   "cell_type": "markdown",
   "id": "fa205f7d",
   "metadata": {
    "deletable": false,
    "editable": false,
    "nbgrader": {
     "cell_type": "markdown",
     "checksum": "a37cb2f7be74a75fcd74753e8f3a1b89",
     "grade": false,
     "grade_id": "question14-q5-_cell-e9ba40ec7b94b911",
     "locked": true,
     "schema_version": 3,
     "solution": false,
     "task": false
    }
   },
   "source": [
    "Question 19: \n",
    "Écrire une fonction `diagMatrice` qui construit et retourne une matrice carrée de taille $(9,9)$ dont les éléments sont de valeur $3$ exceptés ceux sur la $3$-ème diagonale (bas gauche -> haut droite) qui sont tous à $0$.\n",
    "\n",
    "<span style=\"color:teal\">La matrice à construire :</span> <br>\n",
    "```\n",
    "[[3. 3. 0. 3. 3. 3. 3. 3. 3.]\n",
    " [3. 0. 3. 3. 3. 3. 3. 3. 3.]\n",
    " [0. 3. 3. 3. 3. 3. 3. 3. 3.]\n",
    " [3. 3. 3. 3. 3. 3. 3. 3. 3.]\n",
    " [3. 3. 3. 3. 3. 3. 3. 3. 3.]\n",
    " [3. 3. 3. 3. 3. 3. 3. 3. 3.]\n",
    " [3. 3. 3. 3. 3. 3. 3. 3. 3.]\n",
    " [3. 3. 3. 3. 3. 3. 3. 3. 3.]\n",
    " [3. 3. 3. 3. 3. 3. 3. 3. 3.]]\n",
    "```\n"
   ]
  },
  {
   "cell_type": "markdown",
   "id": "f1a5363b",
   "metadata": {},
   "source": []
  },
  {
   "cell_type": "code",
   "execution_count": 96,
   "id": "0417029a",
   "metadata": {
    "deletable": false,
    "nbgrader": {
     "cell_type": "code",
     "checksum": "cca23b6dc19f06f9149fdfeb85652310",
     "grade": false,
     "grade_id": "question14-q5-_cell-5bbf0b8b080ce800",
     "locked": false,
     "schema_version": 3,
     "solution": true,
     "task": false
    }
   },
   "outputs": [],
   "source": [
    "\n",
    "def diagMatrice():\n",
    "    res=np.full((9,9),3)\n",
    "    res[0,2]=0\n",
    "    res[2,0]=0\n",
    "    res[1,1]=0\n",
    "    return res\n",
    "    \n"
   ]
  },
  {
   "cell_type": "code",
   "execution_count": 97,
   "id": "204496eb",
   "metadata": {
    "deletable": false,
    "editable": false,
    "nbgrader": {
     "cell_type": "code",
     "checksum": "6378709fb66e48b0d41f571974027c2d",
     "grade": true,
     "grade_id": "question14-q5-_cell-f11a7206fa6bc21b",
     "locked": true,
     "points": 1,
     "schema_version": 3,
     "solution": false,
     "task": false
    }
   },
   "outputs": [
    {
     "name": "stdout",
     "output_type": "stream",
     "text": [
      "\u001b[92m Ok - Tous les tests sont validés.\u001b[00m\n"
     ]
    }
   ],
   "source": [
    "\n",
    "# Ce bloc permet de valider votre code. Vous devez l'exécuter mais ne pas le modifier.  \n",
    "try:\n",
    "\n",
    "    mat = diagMatrice()\n",
    "    np.testing.assert_equal(mat.shape,(9,9))\n",
    "    np.testing.assert_almost_equal(np.sum(mat),234)\n",
    "    np.testing.assert_almost_equal(np.diag(mat[:3,2::-1]),0)\n",
    "    \n",
    "except Exception as e: \n",
    "    print(\"\\033[91m {}\\033[00m\" .format('KO - Au moins un test n\\'est pas validé')) \n",
    "    print('Information sur le test non valide:')\n",
    "    print(e)\n",
    "    raise e\n",
    "else:\n",
    "    print(\"\\033[92m {}\\033[00m\" .format('Ok - Tous les tests sont validés.')) \n"
   ]
  },
  {
   "cell_type": "markdown",
   "id": "c7f4b004",
   "metadata": {
    "deletable": false,
    "editable": false,
    "nbgrader": {
     "cell_type": "markdown",
     "checksum": "a62d2ea44140103b6e6980f995f89ea1",
     "grade": false,
     "grade_id": "question4-qy5-_cell-f891c6e0cdcdc175",
     "locked": true,
     "schema_version": 3,
     "solution": false,
     "task": false
    }
   },
   "source": [
    "Question 20: Écrivez une fonction inversant l'ordre des éléments des colonnes d'indice impair d'une matrice `M`.\n",
    "           \n",
    "<span style='color:teal'> Exemple</span> <br>\n",
    "En partant de la matrice:\n",
    "```\n",
    "[[ 1  2  3  4  5]\n",
    " [ 6  7  8  9 10]\n",
    " [11 12 13 14 15]\n",
    " [16 17 18 19 20]]\n",
    "```\n",
    "\n",
    "\n",
    "Le résultat attendu est:\n",
    "```\n",
    "[[ 1 17  3 19  5]\n",
    " [ 6 12  8 14 10]\n",
    " [11  7 13  9 15]\n",
    " [16  2 18  4 20]]\n",
    "```\n",
    "    "
   ]
  },
  {
   "cell_type": "code",
   "execution_count": 98,
   "id": "f663cc65",
   "metadata": {
    "deletable": false,
    "nbgrader": {
     "cell_type": "code",
     "checksum": "e5b4ebe28d83b77ba0bc904402fe222f",
     "grade": false,
     "grade_id": "question4-qy5-_cell-6c7ff711e1b42371",
     "locked": false,
     "schema_version": 3,
     "solution": true,
     "task": false
    }
   },
   "outputs": [],
   "source": [
    "\n",
    "def fct(M):\n",
    "    M[:,1::2] = M[::-1,1::2]\n",
    "    return M\n",
    "    "
   ]
  },
  {
   "cell_type": "code",
   "execution_count": 99,
   "id": "63149a5d",
   "metadata": {
    "deletable": false,
    "editable": false,
    "nbgrader": {
     "cell_type": "code",
     "checksum": "c480c9e549b72e5627be946d87ec0601",
     "grade": true,
     "grade_id": "question4-qy5-_cell-9ee8d7bb4397b9b3",
     "locked": true,
     "points": 1,
     "schema_version": 3,
     "solution": false,
     "task": false
    }
   },
   "outputs": [
    {
     "name": "stdout",
     "output_type": "stream",
     "text": [
      "\u001b[92m Ok - Tous les tests sont validés.\u001b[00m\n"
     ]
    }
   ],
   "source": [
    "\n",
    "# Ce bloc permet de valider votre code. Vous devez l'exécuter mais ne pas le modifier.  \n",
    "try:\n",
    "    M = np.array([[ 1,  2,  3,  4,  5],\n",
    "           [ 6,  7,  8,  9, 10],\n",
    "           [11, 12, 13, 14, 15],\n",
    "           [16, 17, 18, 19, 20]])\n",
    "    res = fct(M)\n",
    "    np.testing.assert_equal(res.shape,(4, 5),'Taille de la matrice incorrecte.')\n",
    "    np.testing.assert_equal(res,np.array([[ 1, 17,  3, 19,  5],\n",
    "           [ 6, 12,  8, 14, 10],\n",
    "           [11,  7, 13,  9, 15],\n",
    "           [16,  2, 18,  4, 20]]),'Exemple incorrect.')\n",
    "    \n",
    "except Exception as e: \n",
    "    print(\"\\033[91m {}\\033[00m\" .format('KO - Au moins un test n\\'est pas validé')) \n",
    "    print('Information sur le test non valide:')\n",
    "    print(e)\n",
    "    raise e\n",
    "else:\n",
    "    print(\"\\033[92m {}\\033[00m\" .format('Ok - Tous les tests sont validés.')) \n"
   ]
  },
  {
   "cell_type": "markdown",
   "id": "70e23792",
   "metadata": {
    "deletable": false,
    "editable": false,
    "nbgrader": {
     "cell_type": "markdown",
     "checksum": "f8f14a41d8f19954bc6f509d8bc5698d",
     "grade": false,
     "grade_id": "question23-q14-_cell-a0f612e9add18639",
     "locked": true,
     "schema_version": 3,
     "solution": false,
     "task": false
    }
   },
   "source": [
    "Question 21: \n",
    "Définir une fonction retournant un tableau `Y` contenant les 78 plus grandes valeurs du tableau x passé en argument triées par ordre décroissant.\n"
   ]
  },
  {
   "cell_type": "code",
   "execution_count": 100,
   "id": "78523f97",
   "metadata": {
    "deletable": false,
    "nbgrader": {
     "cell_type": "code",
     "checksum": "23e33a9e83a043b594d2d68238ab4bf0",
     "grade": false,
     "grade_id": "question23-q14-_cell-a56a987bcae64ca8",
     "locked": false,
     "schema_version": 3,
     "solution": true,
     "task": false
    }
   },
   "outputs": [],
   "source": [
    "\n",
    "def f(x):\n",
    "    return np.sort(x,axis=0)[-1:-79:-1]\n"
   ]
  },
  {
   "cell_type": "code",
   "execution_count": 101,
   "id": "88b869bd",
   "metadata": {
    "deletable": false,
    "editable": false,
    "nbgrader": {
     "cell_type": "code",
     "checksum": "40423f1350feda3a8e48091b2a8072f8",
     "grade": true,
     "grade_id": "question23-q14-_cell-420975296f2d80f2",
     "locked": true,
     "points": 1,
     "schema_version": 3,
     "solution": false,
     "task": false
    }
   },
   "outputs": [
    {
     "name": "stdout",
     "output_type": "stream",
     "text": [
      "\u001b[92m Ok - Tous les tests sont validés.\u001b[00m\n"
     ]
    }
   ],
   "source": [
    "\n",
    "# Ce bloc permet de valider votre code. Vous devez l'exécuter mais ne pas le modifier.  \n",
    "try:\n",
    "\n",
    "    x = np.cos(np.arange(500)/13) * np.sin(np.arange(500)/71)\n",
    "    Y = f(x)\n",
    "    \n",
    "    np.testing.assert_equal(Y.shape,(78,))\n",
    "    np.testing.assert_equal(Y.max() < 1, True)\n",
    "    np.testing.assert_equal(Y.min() > -1, True)\n",
    "    \n",
    "except Exception as e: \n",
    "    print(\"\\033[91m {}\\033[00m\" .format('KO - Au moins un test n\\'est pas validé')) \n",
    "    print('Information sur le test non valide:')\n",
    "    print(e)\n",
    "    raise e\n",
    "else:\n",
    "    print(\"\\033[92m {}\\033[00m\" .format('Ok - Tous les tests sont validés.')) \n"
   ]
  },
  {
   "cell_type": "markdown",
   "id": "429b914e",
   "metadata": {
    "deletable": false,
    "editable": false,
    "nbgrader": {
     "cell_type": "markdown",
     "checksum": "2a6edcaf1375e00b2b0a9119c73e8bb1",
     "grade": false,
     "grade_id": "question2-qy3-_cell-30e6d3e84142b035",
     "locked": true,
     "schema_version": 3,
     "solution": false,
     "task": false
    }
   },
   "source": [
    "Question 22: Écrivez une fonction qui retourne les 4 plus grands éléments d'un vecteur `v` trié du plus petit au plus grand.\n",
    "\n",
    "<span style=\"color:teal\">Exemple :</span> <br>\n",
    "\n",
    "Les 4 plus grands éléments de `[ 1 52 69 13 32 60 59  0 16 95 22 37]` sont `[59 60 69 95]`\n",
    "    "
   ]
  },
  {
   "cell_type": "code",
   "execution_count": 102,
   "id": "beb192dd",
   "metadata": {
    "deletable": false,
    "nbgrader": {
     "cell_type": "code",
     "checksum": "17f1b13bdec6b8e2d594a480b70db339",
     "grade": false,
     "grade_id": "question2-qy3-_cell-a4b617b3fddbf22b",
     "locked": false,
     "schema_version": 3,
     "solution": true,
     "task": false
    }
   },
   "outputs": [],
   "source": [
    "\n",
    "def fct(v):\n",
    "    x=v.size\n",
    "    return np.sort(v)[x-4:x:1]\n"
   ]
  },
  {
   "cell_type": "code",
   "execution_count": 103,
   "id": "a310c2f3",
   "metadata": {
    "deletable": false,
    "editable": false,
    "nbgrader": {
     "cell_type": "code",
     "checksum": "3cb15bac93212689fbb9fbc665943028",
     "grade": true,
     "grade_id": "question2-qy3-_cell-a39d9007bbbecb56",
     "locked": true,
     "points": 1,
     "schema_version": 3,
     "solution": false,
     "task": false
    }
   },
   "outputs": [
    {
     "name": "stdout",
     "output_type": "stream",
     "text": [
      "\u001b[92m Ok - Tous les tests sont validés.\u001b[00m\n"
     ]
    }
   ],
   "source": [
    "\n",
    "# Ce bloc permet de valider votre code. Vous devez l'exécuter mais ne pas le modifier.  \n",
    "try:\n",
    "    v = np.array([ 1, 52, 69, 13, 32, 60, 59,  0, 16, 95, 22, 37])\n",
    "    res = fct(v)\n",
    "    np.testing.assert_equal(len(res),4,'Taille du vecteur incorrect.')\n",
    "    np.testing.assert_equal(res,np.array([59, 60, 69, 95]),'Exemple incorrect.')\n",
    "    \n",
    "except Exception as e: \n",
    "    print(\"\\033[91m {}\\033[00m\" .format('KO - Au moins un test n\\'est pas validé')) \n",
    "    print('Information sur le test non valide:')\n",
    "    print(e)\n",
    "    raise e\n",
    "else:\n",
    "    print(\"\\033[92m {}\\033[00m\" .format('Ok - Tous les tests sont validés.')) \n"
   ]
  },
  {
   "cell_type": "markdown",
   "id": "50d70fc2",
   "metadata": {
    "deletable": false,
    "editable": false,
    "nbgrader": {
     "cell_type": "markdown",
     "checksum": "0f5cde1097fbacfec0fa9e8e6ace78f5",
     "grade": false,
     "grade_id": "question9-qy10-_cell-8e4f67f922aa96e3",
     "locked": true,
     "schema_version": 3,
     "solution": false,
     "task": false
    }
   },
   "source": [
    "Question 23: \n",
    "\n",
    "Étant donné un vecteur, écrivez une fonction qui détermine si ce vecteur est décroissant ou non. Pour cette question, vous pouvez utiliser une convolution pour calculer la soustraction entre valeur consécutive et en déduire le résultat attendu.\n",
    " \n",
    "<span style=\"color:teal\">Exemple :</span> <br>\n",
    "Sur l'entrée `[27 25 24 24 23 15 11  3  2]` est renvoyé True\n",
    "\n"
   ]
  },
  {
   "cell_type": "code",
   "execution_count": 104,
   "id": "648633fe",
   "metadata": {
    "deletable": false,
    "nbgrader": {
     "cell_type": "code",
     "checksum": "3d0fb9d13dd97003d0de69e1fd24d761",
     "grade": false,
     "grade_id": "question9-qy10-_cell-fbca65e0c780c500",
     "locked": false,
     "schema_version": 3,
     "solution": true,
     "task": false
    }
   },
   "outputs": [],
   "source": [
    "\n",
    "def fct(v):\n",
    "    \n",
    "    raise NotImplementedError()\n",
    "    \n"
   ]
  },
  {
   "cell_type": "code",
   "execution_count": 105,
   "id": "0d7e033e",
   "metadata": {
    "deletable": false,
    "editable": false,
    "nbgrader": {
     "cell_type": "code",
     "checksum": "4e606d40502b61eb9a6212edb43f9bb2",
     "grade": true,
     "grade_id": "question9-qy10-_cell-3d7c117fd4658a46",
     "locked": true,
     "points": 1,
     "schema_version": 3,
     "solution": false,
     "task": false
    }
   },
   "outputs": [
    {
     "name": "stdout",
     "output_type": "stream",
     "text": [
      "\u001b[91m KO - Au moins un test n'est pas validé\u001b[00m\n",
      "Information sur le test non valide:\n",
      "\n"
     ]
    },
    {
     "ename": "NotImplementedError",
     "evalue": "",
     "output_type": "error",
     "traceback": [
      "\u001b[0;31m---------------------------------------------------------------------------\u001b[0m",
      "\u001b[0;31mNotImplementedError\u001b[0m                       Traceback (most recent call last)",
      "\u001b[0;32m/var/folders/4k/5fp6bv1d42dcxc4d2qz1gyb80000gn/T/ipykernel_5923/3067018533.py\u001b[0m in \u001b[0;36m<module>\u001b[0;34m\u001b[0m\n\u001b[1;32m      9\u001b[0m     \u001b[0mprint\u001b[0m\u001b[0;34m(\u001b[0m\u001b[0;34m'Information sur le test non valide:'\u001b[0m\u001b[0;34m)\u001b[0m\u001b[0;34m\u001b[0m\u001b[0;34m\u001b[0m\u001b[0m\n\u001b[1;32m     10\u001b[0m     \u001b[0mprint\u001b[0m\u001b[0;34m(\u001b[0m\u001b[0me\u001b[0m\u001b[0;34m)\u001b[0m\u001b[0;34m\u001b[0m\u001b[0;34m\u001b[0m\u001b[0m\n\u001b[0;32m---> 11\u001b[0;31m     \u001b[0;32mraise\u001b[0m \u001b[0me\u001b[0m\u001b[0;34m\u001b[0m\u001b[0;34m\u001b[0m\u001b[0m\n\u001b[0m\u001b[1;32m     12\u001b[0m \u001b[0;32melse\u001b[0m\u001b[0;34m:\u001b[0m\u001b[0;34m\u001b[0m\u001b[0;34m\u001b[0m\u001b[0m\n\u001b[1;32m     13\u001b[0m     \u001b[0mprint\u001b[0m\u001b[0;34m(\u001b[0m\u001b[0;34m\"\\033[92m {}\\033[00m\"\u001b[0m \u001b[0;34m.\u001b[0m\u001b[0mformat\u001b[0m\u001b[0;34m(\u001b[0m\u001b[0;34m'Ok - Tous les tests sont validés.'\u001b[0m\u001b[0;34m)\u001b[0m\u001b[0;34m)\u001b[0m\u001b[0;34m\u001b[0m\u001b[0;34m\u001b[0m\u001b[0m\n",
      "\u001b[0;32m/var/folders/4k/5fp6bv1d42dcxc4d2qz1gyb80000gn/T/ipykernel_5923/3067018533.py\u001b[0m in \u001b[0;36m<module>\u001b[0;34m\u001b[0m\n\u001b[1;32m      2\u001b[0m \u001b[0;32mtry\u001b[0m\u001b[0;34m:\u001b[0m\u001b[0;34m\u001b[0m\u001b[0;34m\u001b[0m\u001b[0m\n\u001b[1;32m      3\u001b[0m     \u001b[0mv\u001b[0m \u001b[0;34m=\u001b[0m \u001b[0mnp\u001b[0m\u001b[0;34m.\u001b[0m\u001b[0marray\u001b[0m\u001b[0;34m(\u001b[0m\u001b[0;34m[\u001b[0m\u001b[0;36m27\u001b[0m\u001b[0;34m,\u001b[0m \u001b[0;36m25\u001b[0m\u001b[0;34m,\u001b[0m \u001b[0;36m24\u001b[0m\u001b[0;34m,\u001b[0m \u001b[0;36m24\u001b[0m\u001b[0;34m,\u001b[0m \u001b[0;36m23\u001b[0m\u001b[0;34m,\u001b[0m \u001b[0;36m15\u001b[0m\u001b[0;34m,\u001b[0m \u001b[0;36m11\u001b[0m\u001b[0;34m,\u001b[0m  \u001b[0;36m3\u001b[0m\u001b[0;34m,\u001b[0m  \u001b[0;36m2\u001b[0m\u001b[0;34m]\u001b[0m\u001b[0;34m)\u001b[0m\u001b[0;34m\u001b[0m\u001b[0;34m\u001b[0m\u001b[0m\n\u001b[0;32m----> 4\u001b[0;31m     \u001b[0mres\u001b[0m \u001b[0;34m=\u001b[0m \u001b[0mfct\u001b[0m\u001b[0;34m(\u001b[0m\u001b[0mv\u001b[0m\u001b[0;34m)\u001b[0m\u001b[0;34m\u001b[0m\u001b[0;34m\u001b[0m\u001b[0m\n\u001b[0m\u001b[1;32m      5\u001b[0m     \u001b[0mnp\u001b[0m\u001b[0;34m.\u001b[0m\u001b[0mtesting\u001b[0m\u001b[0;34m.\u001b[0m\u001b[0massert_equal\u001b[0m\u001b[0;34m(\u001b[0m\u001b[0mres\u001b[0m\u001b[0;34m,\u001b[0m\u001b[0;32mTrue\u001b[0m\u001b[0;34m,\u001b[0m\u001b[0;34m'Exemple incorrect.'\u001b[0m\u001b[0;34m)\u001b[0m\u001b[0;34m\u001b[0m\u001b[0;34m\u001b[0m\u001b[0m\n\u001b[1;32m      6\u001b[0m \u001b[0;34m\u001b[0m\u001b[0m\n",
      "\u001b[0;32m/var/folders/4k/5fp6bv1d42dcxc4d2qz1gyb80000gn/T/ipykernel_5923/3328333777.py\u001b[0m in \u001b[0;36mfct\u001b[0;34m(v)\u001b[0m\n\u001b[1;32m      1\u001b[0m \u001b[0;32mdef\u001b[0m \u001b[0mfct\u001b[0m\u001b[0;34m(\u001b[0m\u001b[0mv\u001b[0m\u001b[0;34m)\u001b[0m\u001b[0;34m:\u001b[0m\u001b[0;34m\u001b[0m\u001b[0;34m\u001b[0m\u001b[0m\n\u001b[1;32m      2\u001b[0m \u001b[0;34m\u001b[0m\u001b[0m\n\u001b[0;32m----> 3\u001b[0;31m     \u001b[0;32mraise\u001b[0m \u001b[0mNotImplementedError\u001b[0m\u001b[0;34m(\u001b[0m\u001b[0;34m)\u001b[0m\u001b[0;34m\u001b[0m\u001b[0;34m\u001b[0m\u001b[0m\n\u001b[0m\u001b[1;32m      4\u001b[0m \u001b[0;34m\u001b[0m\u001b[0m\n",
      "\u001b[0;31mNotImplementedError\u001b[0m: "
     ]
    }
   ],
   "source": [
    "\n",
    "# Ce bloc permet de valider votre code. Vous devez l'exécuter mais ne pas le modifier.  \n",
    "try:\n",
    "    v = np.array([27, 25, 24, 24, 23, 15, 11,  3,  2])\n",
    "    res = fct(v)\n",
    "    np.testing.assert_equal(res,True,'Exemple incorrect.')\n",
    "    \n",
    "except Exception as e: \n",
    "    print(\"\\033[91m {}\\033[00m\" .format('KO - Au moins un test n\\'est pas validé')) \n",
    "    print('Information sur le test non valide:')\n",
    "    print(e)\n",
    "    raise e\n",
    "else:\n",
    "    print(\"\\033[92m {}\\033[00m\" .format('Ok - Tous les tests sont validés.')) \n"
   ]
  },
  {
   "cell_type": "markdown",
   "id": "1f344241",
   "metadata": {
    "deletable": false,
    "editable": false,
    "nbgrader": {
     "cell_type": "markdown",
     "checksum": "b3d8cc3391f11dca554dd593374c61ad",
     "grade": false,
     "grade_id": "question13-q4-_cell-9be27b2fade6b1aa",
     "locked": true,
     "schema_version": 3,
     "solution": false,
     "task": false
    }
   },
   "source": [
    "Question 24: \n",
    "Écrivez une fonction qui prend en entrée une matrice, et qui retourne la sous-matrice de taille $(11,11)$ qui forme le coin en bas à droite de la matrice.\n",
    "\n",
    "<span style=\"color:teal\"> Exemple</span> <br>\n",
    "Pour une matrice:\n",
    "```\n",
    "[[4 4 5 4 1 5 5 5 5 5 1 3 4 6 5 3 5 1 2 1]\n",
    " [4 6 1 6 2 3 4 5 5 1 2 2 3 4 3 3 2 3 3 6]\n",
    " [5 2 1 2 4 4 2 4 5 1 4 3 2 5 5 2 4 1 6 6]\n",
    " [2 5 5 1 3 4 5 4 2 2 6 1 5 2 1 4 4 2 6 2]\n",
    " [3 5 3 6 1 4 6 1 6 4 3 3 3 1 5 1 4 3 3 2]\n",
    " [5 2 4 1 1 2 5 1 2 3 3 5 1 3 4 5 5 1 2 2]\n",
    " [2 4 6 5 4 5 6 2 5 3 6 1 2 2 2 6 6 1 4 4]\n",
    " [3 3 4 3 6 2 1 6 6 1 5 6 4 1 4 1 1 6 4 6]\n",
    " [4 1 6 5 5 3 5 6 5 2 6 3 4 4 1 1 3 1 2 5]\n",
    " [6 3 4 2 5 1 3 2 2 5 6 4 6 6 1 1 1 5 2 6]\n",
    " [3 4 6 2 5 1 3 3 4 4 2 3 3 1 6 4 2 3 2 4]\n",
    " [2 3 4 1 5 5 4 4 2 2 6 4 3 1 5 2 1 1 3 2]\n",
    " [6 2 6 3 5 3 2 6 1 6 6 3 4 3 4 3 3 6 1 1]\n",
    " [6 4 2 2 3 3 1 6 3 2 4 4 4 6 3 1 5 1 6 5]\n",
    " [4 5 4 3 1 6 3 1 6 6 6 6 6 5 1 5 5 6 2 6]\n",
    " [4 2 3 3 2 2 3 5 5 1 4 6 1 4 1 1 6 3 4 2]\n",
    " [5 1 5 2 4 5 6 6 1 6 3 6 5 2 2 4 4 5 1 2]\n",
    " [3 2 4 2 5 4 4 1 1 2 2 5 4 4 5 6 1 4 4 3]\n",
    " [5 3 6 2 3 6 3 4 2 3 5 2 6 6 2 3 1 5 4 3]\n",
    " [6 3 1 6 6 3 4 4 2 6 1 2 4 3 3 4 2 2 1 3]]\n",
    "```\n",
    "<br>\n",
    "\n",
    "le coin en bas à droite est :\n",
    "```\n",
    "[[5 6 4 6 6 1 1 1 5 2 6]\n",
    " [4 2 3 3 1 6 4 2 3 2 4]\n",
    " [2 6 4 3 1 5 2 1 1 3 2]\n",
    " [6 6 3 4 3 4 3 3 6 1 1]\n",
    " [2 4 4 4 6 3 1 5 1 6 5]\n",
    " [6 6 6 6 5 1 5 5 6 2 6]\n",
    " [1 4 6 1 4 1 1 6 3 4 2]\n",
    " [6 3 6 5 2 2 4 4 5 1 2]\n",
    " [2 2 5 4 4 5 6 1 4 4 3]\n",
    " [3 5 2 6 6 2 3 1 5 4 3]\n",
    " [6 1 2 4 3 3 4 2 2 1 3]]\n",
    "```\n"
   ]
  },
  {
   "cell_type": "code",
   "execution_count": null,
   "id": "73dda108",
   "metadata": {
    "deletable": false,
    "nbgrader": {
     "cell_type": "code",
     "checksum": "dd8acc495e6b8494401339df25e7d157",
     "grade": false,
     "grade_id": "question13-q4-_cell-5ec07e85e50ecf89",
     "locked": false,
     "schema_version": 3,
     "solution": true,
     "task": false
    }
   },
   "outputs": [],
   "source": [
    " \n",
    "def extraire(matrice):\n",
    "   x,y=matrice.shape\n",
    "   return matrice[x-11:,y-11:]\n",
    "\n"
   ]
  },
  {
   "cell_type": "code",
   "execution_count": null,
   "id": "6e3eb787",
   "metadata": {
    "deletable": false,
    "editable": false,
    "nbgrader": {
     "cell_type": "code",
     "checksum": "aea07a3890b50e3172ae11ce00202403",
     "grade": true,
     "grade_id": "question13-q4-_cell-61c387625444b873",
     "locked": true,
     "points": 1,
     "schema_version": 3,
     "solution": false,
     "task": false
    }
   },
   "outputs": [
    {
     "name": "stdout",
     "output_type": "stream",
     "text": [
      "\u001b[92m Ok - Tous les tests sont validés.\u001b[00m\n"
     ]
    }
   ],
   "source": [
    "\n",
    "# Ce bloc permet de valider votre code. Vous devez l'exécuter mais ne pas le modifier.  \n",
    "try:\n",
    "\n",
    "    matrice = np.random.randint(1,7,size=(20,20))\n",
    "    res = extraire(matrice)\n",
    "    np.testing.assert_equal(res.shape,(11,11))\n",
    "    if 1==0:\n",
    "        np.testing.assert_equal(res[-1,0],matrice[-1,0])\n",
    "    elif 1==1:\n",
    "        np.testing.assert_equal(res[-1,-1],matrice[-1,-1])\n",
    "    else:\n",
    "        np.testing.assert_equal(res[0,-1],matrice[0,-1])\n",
    "    \n",
    "except Exception as e: \n",
    "    print(\"\\033[91m {}\\033[00m\" .format('KO - Au moins un test n\\'est pas validé')) \n",
    "    print('Information sur le test non valide:')\n",
    "    print(e)\n",
    "    raise e\n",
    "else:\n",
    "    print(\"\\033[92m {}\\033[00m\" .format('Ok - Tous les tests sont validés.')) \n"
   ]
  },
  {
   "cell_type": "markdown",
   "id": "3ffb32ed",
   "metadata": {
    "deletable": false,
    "editable": false,
    "nbgrader": {
     "cell_type": "markdown",
     "checksum": "f1669d37d855de42c8e631ca7bcf7a16",
     "grade": false,
     "grade_id": "question5-qy6-_cell-738069477eddf832",
     "locked": true,
     "schema_version": 3,
     "solution": false,
     "task": false
    }
   },
   "source": [
    "Question 25: \n",
    "Écrivez une fonction prenant une matrice `M` et déterminant dans quelles colonnes de `M` se trouve la valeur `28`.\n",
    "    \n",
    "<span style=\"color:teal\">Exemple :</span> <br>\n",
    "Pour la matrice:\n",
    "\n",
    "```\n",
    "[[ 7 21  8 12 28 20]\n",
    " [29 28 28  9 27 16]\n",
    " [29  7 28  7 27 26]\n",
    " [10 10  8 22 26 12]\n",
    " [33 22 28  5 26 18]\n",
    " [14 28 34  9 31 26]\n",
    " [ 4 15 32 23  4 34]\n",
    " [20 20 17 19 31  8]\n",
    " [20  5  3 27 25 24]]\n",
    "```\n",
    "\n",
    "\n",
    "\n",
    "la valeur `28` se trouve dans les colonnes suivantes:\n",
    "\n",
    "`[1 2 4]`\n",
    "    "
   ]
  },
  {
   "cell_type": "code",
   "execution_count": null,
   "id": "e4865e20",
   "metadata": {
    "deletable": false,
    "nbgrader": {
     "cell_type": "code",
     "checksum": "e94a56904cb48b0bc0b4364b60a3c972",
     "grade": false,
     "grade_id": "question5-qy6-_cell-8d0bfb881efd1ff0",
     "locked": false,
     "schema_version": 3,
     "solution": true,
     "task": false
    }
   },
   "outputs": [],
   "source": [
    "\n",
    "def fct(M):\n",
    "    return(np.unique(np.argwhere(M==28)[:,1]))\n"
   ]
  },
  {
   "cell_type": "code",
   "execution_count": null,
   "id": "7ffb24d8",
   "metadata": {
    "deletable": false,
    "editable": false,
    "nbgrader": {
     "cell_type": "code",
     "checksum": "c05bdc81c9dafb9dad64b451775e3241",
     "grade": true,
     "grade_id": "question5-qy6-_cell-96dcc46667d487cf",
     "locked": true,
     "points": 1,
     "schema_version": 3,
     "solution": false,
     "task": false
    }
   },
   "outputs": [
    {
     "name": "stdout",
     "output_type": "stream",
     "text": [
      "\u001b[92m Ok - Tous les tests sont validés.\u001b[00m\n"
     ]
    }
   ],
   "source": [
    "\n",
    "# Ce bloc permet de valider votre code. Vous devez l'exécuter mais ne pas le modifier.  \n",
    "try:\n",
    "    M = np.array([[ 7, 21,  8, 12, 28, 20],\n",
    "           [29, 28, 28,  9, 27, 16],\n",
    "           [29,  7, 28,  7, 27, 26],\n",
    "           [10, 10,  8, 22, 26, 12],\n",
    "           [33, 22, 28,  5, 26, 18],\n",
    "           [14, 28, 34,  9, 31, 26],\n",
    "           [ 4, 15, 32, 23,  4, 34],\n",
    "           [20, 20, 17, 19, 31,  8],\n",
    "           [20,  5,  3, 27, 25, 24]])\n",
    "    res = fct(M)\n",
    "    np.testing.assert_equal(len(res),3,'Taille du vecteur incorrect.')\n",
    "    np.testing.assert_equal(res,np.array([1, 2, 4]),'Exemple incorrect.')\n",
    "    \n",
    "except Exception as e: \n",
    "    print(\"\\033[91m {}\\033[00m\" .format('KO - Au moins un test n\\'est pas validé')) \n",
    "    print('Information sur le test non valide:')\n",
    "    print(e)\n",
    "    raise e\n",
    "else:\n",
    "    print(\"\\033[92m {}\\033[00m\" .format('Ok - Tous les tests sont validés.')) \n"
   ]
  }
 ],
 "metadata": {
  "id_notebook": "50495ec3fd9166ed",
  "kernelspec": {
   "display_name": "Python 3.9.13 ('base')",
   "language": "python",
   "name": "python3"
  },
  "language_info": {
   "codemirror_mode": {
    "name": "ipython",
    "version": 3
   },
   "file_extension": ".py",
   "mimetype": "text/x-python",
   "name": "python",
   "nbconvert_exporter": "python",
   "pygments_lexer": "ipython3",
   "version": "3.9.13"
  },
  "vscode": {
   "interpreter": {
    "hash": "a520eee76fb45144dce358d28e2553c46c04a72006c4708fb30a8f5e6598a7c9"
   }
  }
 },
 "nbformat": 4,
 "nbformat_minor": 5
}
